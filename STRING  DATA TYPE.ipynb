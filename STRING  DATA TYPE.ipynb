{
 "cells": [
  {
   "cell_type": "markdown",
   "metadata": {},
   "source": [
    "# Strings"
   ]
  },
  {
   "cell_type": "markdown",
   "metadata": {},
   "source": [
    "## SEQUENCE TYPE "
   ]
  },
  {
   "cell_type": "markdown",
   "metadata": {},
   "source": [
    "String - are identified as a contiguous set of characters represented in the quotation marks. Python allows for either\n",
    "pairs of single or double quotes or triple quotes. Strings are immutable sequence data type, i.e each time one makes any changes\n",
    "to a string, completely new string object is created."
   ]
  },
  {
   "cell_type": "code",
   "execution_count": 1,
   "metadata": {
    "scrolled": false
   },
   "outputs": [
    {
     "name": "stdout",
     "output_type": "stream",
     "text": [
      "Help on class str in module builtins:\n",
      "\n",
      "class str(object)\n",
      " |  str(object='') -> str\n",
      " |  str(bytes_or_buffer[, encoding[, errors]]) -> str\n",
      " |  \n",
      " |  Create a new string object from the given object. If encoding or\n",
      " |  errors is specified, then the object must expose a data buffer\n",
      " |  that will be decoded using the given encoding and error handler.\n",
      " |  Otherwise, returns the result of object.__str__() (if defined)\n",
      " |  or repr(object).\n",
      " |  encoding defaults to sys.getdefaultencoding().\n",
      " |  errors defaults to 'strict'.\n",
      " |  \n",
      " |  Methods defined here:\n",
      " |  \n",
      " |  __add__(self, value, /)\n",
      " |      Return self+value.\n",
      " |  \n",
      " |  __contains__(self, key, /)\n",
      " |      Return key in self.\n",
      " |  \n",
      " |  __eq__(self, value, /)\n",
      " |      Return self==value.\n",
      " |  \n",
      " |  __format__(self, format_spec, /)\n",
      " |      Return a formatted version of the string as described by format_spec.\n",
      " |  \n",
      " |  __ge__(self, value, /)\n",
      " |      Return self>=value.\n",
      " |  \n",
      " |  __getattribute__(self, name, /)\n",
      " |      Return getattr(self, name).\n",
      " |  \n",
      " |  __getitem__(self, key, /)\n",
      " |      Return self[key].\n",
      " |  \n",
      " |  __getnewargs__(...)\n",
      " |  \n",
      " |  __gt__(self, value, /)\n",
      " |      Return self>value.\n",
      " |  \n",
      " |  __hash__(self, /)\n",
      " |      Return hash(self).\n",
      " |  \n",
      " |  __iter__(self, /)\n",
      " |      Implement iter(self).\n",
      " |  \n",
      " |  __le__(self, value, /)\n",
      " |      Return self<=value.\n",
      " |  \n",
      " |  __len__(self, /)\n",
      " |      Return len(self).\n",
      " |  \n",
      " |  __lt__(self, value, /)\n",
      " |      Return self<value.\n",
      " |  \n",
      " |  __mod__(self, value, /)\n",
      " |      Return self%value.\n",
      " |  \n",
      " |  __mul__(self, value, /)\n",
      " |      Return self*value.\n",
      " |  \n",
      " |  __ne__(self, value, /)\n",
      " |      Return self!=value.\n",
      " |  \n",
      " |  __repr__(self, /)\n",
      " |      Return repr(self).\n",
      " |  \n",
      " |  __rmod__(self, value, /)\n",
      " |      Return value%self.\n",
      " |  \n",
      " |  __rmul__(self, value, /)\n",
      " |      Return value*self.\n",
      " |  \n",
      " |  __sizeof__(self, /)\n",
      " |      Return the size of the string in memory, in bytes.\n",
      " |  \n",
      " |  __str__(self, /)\n",
      " |      Return str(self).\n",
      " |  \n",
      " |  capitalize(self, /)\n",
      " |      Return a capitalized version of the string.\n",
      " |      \n",
      " |      More specifically, make the first character have upper case and the rest lower\n",
      " |      case.\n",
      " |  \n",
      " |  casefold(self, /)\n",
      " |      Return a version of the string suitable for caseless comparisons.\n",
      " |  \n",
      " |  center(self, width, fillchar=' ', /)\n",
      " |      Return a centered string of length width.\n",
      " |      \n",
      " |      Padding is done using the specified fill character (default is a space).\n",
      " |  \n",
      " |  count(...)\n",
      " |      S.count(sub[, start[, end]]) -> int\n",
      " |      \n",
      " |      Return the number of non-overlapping occurrences of substring sub in\n",
      " |      string S[start:end].  Optional arguments start and end are\n",
      " |      interpreted as in slice notation.\n",
      " |  \n",
      " |  encode(self, /, encoding='utf-8', errors='strict')\n",
      " |      Encode the string using the codec registered for encoding.\n",
      " |      \n",
      " |      encoding\n",
      " |        The encoding in which to encode the string.\n",
      " |      errors\n",
      " |        The error handling scheme to use for encoding errors.\n",
      " |        The default is 'strict' meaning that encoding errors raise a\n",
      " |        UnicodeEncodeError.  Other possible values are 'ignore', 'replace' and\n",
      " |        'xmlcharrefreplace' as well as any other name registered with\n",
      " |        codecs.register_error that can handle UnicodeEncodeErrors.\n",
      " |  \n",
      " |  endswith(...)\n",
      " |      S.endswith(suffix[, start[, end]]) -> bool\n",
      " |      \n",
      " |      Return True if S ends with the specified suffix, False otherwise.\n",
      " |      With optional start, test S beginning at that position.\n",
      " |      With optional end, stop comparing S at that position.\n",
      " |      suffix can also be a tuple of strings to try.\n",
      " |  \n",
      " |  expandtabs(self, /, tabsize=8)\n",
      " |      Return a copy where all tab characters are expanded using spaces.\n",
      " |      \n",
      " |      If tabsize is not given, a tab size of 8 characters is assumed.\n",
      " |  \n",
      " |  find(...)\n",
      " |      S.find(sub[, start[, end]]) -> int\n",
      " |      \n",
      " |      Return the lowest index in S where substring sub is found,\n",
      " |      such that sub is contained within S[start:end].  Optional\n",
      " |      arguments start and end are interpreted as in slice notation.\n",
      " |      \n",
      " |      Return -1 on failure.\n",
      " |  \n",
      " |  format(...)\n",
      " |      S.format(*args, **kwargs) -> str\n",
      " |      \n",
      " |      Return a formatted version of S, using substitutions from args and kwargs.\n",
      " |      The substitutions are identified by braces ('{' and '}').\n",
      " |  \n",
      " |  format_map(...)\n",
      " |      S.format_map(mapping) -> str\n",
      " |      \n",
      " |      Return a formatted version of S, using substitutions from mapping.\n",
      " |      The substitutions are identified by braces ('{' and '}').\n",
      " |  \n",
      " |  index(...)\n",
      " |      S.index(sub[, start[, end]]) -> int\n",
      " |      \n",
      " |      Return the lowest index in S where substring sub is found,\n",
      " |      such that sub is contained within S[start:end].  Optional\n",
      " |      arguments start and end are interpreted as in slice notation.\n",
      " |      \n",
      " |      Raises ValueError when the substring is not found.\n",
      " |  \n",
      " |  isalnum(self, /)\n",
      " |      Return True if the string is an alpha-numeric string, False otherwise.\n",
      " |      \n",
      " |      A string is alpha-numeric if all characters in the string are alpha-numeric and\n",
      " |      there is at least one character in the string.\n",
      " |  \n",
      " |  isalpha(self, /)\n",
      " |      Return True if the string is an alphabetic string, False otherwise.\n",
      " |      \n",
      " |      A string is alphabetic if all characters in the string are alphabetic and there\n",
      " |      is at least one character in the string.\n",
      " |  \n",
      " |  isascii(self, /)\n",
      " |      Return True if all characters in the string are ASCII, False otherwise.\n",
      " |      \n",
      " |      ASCII characters have code points in the range U+0000-U+007F.\n",
      " |      Empty string is ASCII too.\n",
      " |  \n",
      " |  isdecimal(self, /)\n",
      " |      Return True if the string is a decimal string, False otherwise.\n",
      " |      \n",
      " |      A string is a decimal string if all characters in the string are decimal and\n",
      " |      there is at least one character in the string.\n",
      " |  \n",
      " |  isdigit(self, /)\n",
      " |      Return True if the string is a digit string, False otherwise.\n",
      " |      \n",
      " |      A string is a digit string if all characters in the string are digits and there\n",
      " |      is at least one character in the string.\n",
      " |  \n",
      " |  isidentifier(self, /)\n",
      " |      Return True if the string is a valid Python identifier, False otherwise.\n",
      " |      \n",
      " |      Call keyword.iskeyword(s) to test whether string s is a reserved identifier,\n",
      " |      such as \"def\" or \"class\".\n",
      " |  \n",
      " |  islower(self, /)\n",
      " |      Return True if the string is a lowercase string, False otherwise.\n",
      " |      \n",
      " |      A string is lowercase if all cased characters in the string are lowercase and\n",
      " |      there is at least one cased character in the string.\n",
      " |  \n",
      " |  isnumeric(self, /)\n",
      " |      Return True if the string is a numeric string, False otherwise.\n",
      " |      \n",
      " |      A string is numeric if all characters in the string are numeric and there is at\n",
      " |      least one character in the string.\n",
      " |  \n",
      " |  isprintable(self, /)\n",
      " |      Return True if the string is printable, False otherwise.\n",
      " |      \n",
      " |      A string is printable if all of its characters are considered printable in\n",
      " |      repr() or if it is empty.\n",
      " |  \n",
      " |  isspace(self, /)\n",
      " |      Return True if the string is a whitespace string, False otherwise.\n",
      " |      \n",
      " |      A string is whitespace if all characters in the string are whitespace and there\n",
      " |      is at least one character in the string.\n",
      " |  \n",
      " |  istitle(self, /)\n",
      " |      Return True if the string is a title-cased string, False otherwise.\n",
      " |      \n",
      " |      In a title-cased string, upper- and title-case characters may only\n",
      " |      follow uncased characters and lowercase characters only cased ones.\n",
      " |  \n",
      " |  isupper(self, /)\n",
      " |      Return True if the string is an uppercase string, False otherwise.\n",
      " |      \n",
      " |      A string is uppercase if all cased characters in the string are uppercase and\n",
      " |      there is at least one cased character in the string.\n",
      " |  \n",
      " |  join(self, iterable, /)\n",
      " |      Concatenate any number of strings.\n",
      " |      \n",
      " |      The string whose method is called is inserted in between each given string.\n",
      " |      The result is returned as a new string.\n",
      " |      \n",
      " |      Example: '.'.join(['ab', 'pq', 'rs']) -> 'ab.pq.rs'\n",
      " |  \n",
      " |  ljust(self, width, fillchar=' ', /)\n",
      " |      Return a left-justified string of length width.\n",
      " |      \n",
      " |      Padding is done using the specified fill character (default is a space).\n",
      " |  \n",
      " |  lower(self, /)\n",
      " |      Return a copy of the string converted to lowercase.\n",
      " |  \n",
      " |  lstrip(self, chars=None, /)\n",
      " |      Return a copy of the string with leading whitespace removed.\n",
      " |      \n",
      " |      If chars is given and not None, remove characters in chars instead.\n",
      " |  \n",
      " |  partition(self, sep, /)\n",
      " |      Partition the string into three parts using the given separator.\n",
      " |      \n",
      " |      This will search for the separator in the string.  If the separator is found,\n",
      " |      returns a 3-tuple containing the part before the separator, the separator\n",
      " |      itself, and the part after it.\n",
      " |      \n",
      " |      If the separator is not found, returns a 3-tuple containing the original string\n",
      " |      and two empty strings.\n",
      " |  \n",
      " |  replace(self, old, new, count=-1, /)\n",
      " |      Return a copy with all occurrences of substring old replaced by new.\n",
      " |      \n",
      " |        count\n",
      " |          Maximum number of occurrences to replace.\n",
      " |          -1 (the default value) means replace all occurrences.\n",
      " |      \n",
      " |      If the optional argument count is given, only the first count occurrences are\n",
      " |      replaced.\n",
      " |  \n",
      " |  rfind(...)\n",
      " |      S.rfind(sub[, start[, end]]) -> int\n",
      " |      \n",
      " |      Return the highest index in S where substring sub is found,\n",
      " |      such that sub is contained within S[start:end].  Optional\n",
      " |      arguments start and end are interpreted as in slice notation.\n",
      " |      \n",
      " |      Return -1 on failure.\n",
      " |  \n",
      " |  rindex(...)\n",
      " |      S.rindex(sub[, start[, end]]) -> int\n",
      " |      \n",
      " |      Return the highest index in S where substring sub is found,\n",
      " |      such that sub is contained within S[start:end].  Optional\n",
      " |      arguments start and end are interpreted as in slice notation.\n",
      " |      \n",
      " |      Raises ValueError when the substring is not found.\n",
      " |  \n",
      " |  rjust(self, width, fillchar=' ', /)\n",
      " |      Return a right-justified string of length width.\n",
      " |      \n",
      " |      Padding is done using the specified fill character (default is a space).\n",
      " |  \n",
      " |  rpartition(self, sep, /)\n",
      " |      Partition the string into three parts using the given separator.\n",
      " |      \n",
      " |      This will search for the separator in the string, starting at the end. If\n",
      " |      the separator is found, returns a 3-tuple containing the part before the\n",
      " |      separator, the separator itself, and the part after it.\n",
      " |      \n",
      " |      If the separator is not found, returns a 3-tuple containing two empty strings\n",
      " |      and the original string.\n",
      " |  \n",
      " |  rsplit(self, /, sep=None, maxsplit=-1)\n",
      " |      Return a list of the words in the string, using sep as the delimiter string.\n",
      " |      \n",
      " |        sep\n",
      " |          The delimiter according which to split the string.\n",
      " |          None (the default value) means split according to any whitespace,\n",
      " |          and discard empty strings from the result.\n",
      " |        maxsplit\n",
      " |          Maximum number of splits to do.\n",
      " |          -1 (the default value) means no limit.\n",
      " |      \n",
      " |      Splits are done starting at the end of the string and working to the front.\n",
      " |  \n",
      " |  rstrip(self, chars=None, /)\n",
      " |      Return a copy of the string with trailing whitespace removed.\n",
      " |      \n",
      " |      If chars is given and not None, remove characters in chars instead.\n",
      " |  \n",
      " |  split(self, /, sep=None, maxsplit=-1)\n",
      " |      Return a list of the words in the string, using sep as the delimiter string.\n",
      " |      \n",
      " |      sep\n",
      " |        The delimiter according which to split the string.\n",
      " |        None (the default value) means split according to any whitespace,\n",
      " |        and discard empty strings from the result.\n",
      " |      maxsplit\n",
      " |        Maximum number of splits to do.\n",
      " |        -1 (the default value) means no limit.\n",
      " |  \n",
      " |  splitlines(self, /, keepends=False)\n",
      " |      Return a list of the lines in the string, breaking at line boundaries.\n",
      " |      \n",
      " |      Line breaks are not included in the resulting list unless keepends is given and\n",
      " |      true.\n",
      " |  \n",
      " |  startswith(...)\n",
      " |      S.startswith(prefix[, start[, end]]) -> bool\n",
      " |      \n",
      " |      Return True if S starts with the specified prefix, False otherwise.\n",
      " |      With optional start, test S beginning at that position.\n",
      " |      With optional end, stop comparing S at that position.\n",
      " |      prefix can also be a tuple of strings to try.\n",
      " |  \n",
      " |  strip(self, chars=None, /)\n",
      " |      Return a copy of the string with leading and trailing whitespace removed.\n",
      " |      \n",
      " |      If chars is given and not None, remove characters in chars instead.\n",
      " |  \n",
      " |  swapcase(self, /)\n",
      " |      Convert uppercase characters to lowercase and lowercase characters to uppercase.\n",
      " |  \n",
      " |  title(self, /)\n",
      " |      Return a version of the string where each word is titlecased.\n",
      " |      \n",
      " |      More specifically, words start with uppercased characters and all remaining\n",
      " |      cased characters have lower case.\n",
      " |  \n",
      " |  translate(self, table, /)\n",
      " |      Replace each character in the string using the given translation table.\n",
      " |      \n",
      " |        table\n",
      " |          Translation table, which must be a mapping of Unicode ordinals to\n",
      " |          Unicode ordinals, strings, or None.\n",
      " |      \n",
      " |      The table must implement lookup/indexing via __getitem__, for instance a\n",
      " |      dictionary or list.  If this operation raises LookupError, the character is\n",
      " |      left untouched.  Characters mapped to None are deleted.\n",
      " |  \n",
      " |  upper(self, /)\n",
      " |      Return a copy of the string converted to uppercase.\n",
      " |  \n",
      " |  zfill(self, width, /)\n",
      " |      Pad a numeric string with zeros on the left, to fill a field of the given width.\n",
      " |      \n",
      " |      The string is never truncated.\n",
      " |  \n",
      " |  ----------------------------------------------------------------------\n",
      " |  Static methods defined here:\n",
      " |  \n",
      " |  __new__(*args, **kwargs) from builtins.type\n",
      " |      Create and return a new object.  See help(type) for accurate signature.\n",
      " |  \n",
      " |  maketrans(...)\n",
      " |      Return a translation table usable for str.translate().\n",
      " |      \n",
      " |      If there is only one argument, it must be a dictionary mapping Unicode\n",
      " |      ordinals (integers) or characters to Unicode ordinals, strings or None.\n",
      " |      Character keys will be then converted to ordinals.\n",
      " |      If there are two arguments, they must be strings of equal length, and\n",
      " |      in the resulting dictionary, each character in x will be mapped to the\n",
      " |      character at the same position in y. If there is a third argument, it\n",
      " |      must be a string, whose characters will be mapped to None in the result.\n",
      "\n"
     ]
    }
   ],
   "source": [
    "help(str)"
   ]
  },
  {
   "cell_type": "markdown",
   "metadata": {},
   "source": [
    "## syntax"
   ]
  },
  {
   "cell_type": "code",
   "execution_count": 19,
   "metadata": {},
   "outputs": [
    {
     "name": "stdout",
     "output_type": "stream",
     "text": [
      "hello world\n",
      "hello word\n",
      "it's a good example\n",
      "thank you,\"come again\"\n"
     ]
    }
   ],
   "source": [
    "#singel quotes -were it encloses a series of charaters and both singel and double quotes are interchangeable\n",
    "singel='hello world'\n",
    "double=\"hello word\"\n",
    "print(singel)\n",
    "print(double)# both the quotes will give the same result\n",
    "\n",
    "# using singel quotes inside double qoutes string\n",
    "double_single=\"it's a good example\"\n",
    "print(double_single)\n",
    "\n",
    "#using double quotes inside single quotes stirng \n",
    "single_double='thank you,\"come again\"'\n",
    "print(single_double)\n"
   ]
  },
  {
   "cell_type": "code",
   "execution_count": 166,
   "metadata": {},
   "outputs": [
    {
     "name": "stdout",
     "output_type": "stream",
     "text": [
      "This is a \n",
      "good example\n",
      "This is \\x61 \\ngood example\n"
     ]
    }
   ],
   "source": [
    "#raw string \n",
    "\n",
    "print(\"This is \\x61 \\ngood example\")\n",
    "# usng raw string \n",
    "print(r\"This is \\x61 \\ngood example\")#raw string and any escape sequence inside it will be ignored.\n"
   ]
  },
  {
   "cell_type": "code",
   "execution_count": 22,
   "metadata": {},
   "outputs": [
    {
     "name": "stdout",
     "output_type": "stream",
     "text": [
      "lok said, \"Thank you! It's mine.\"\n"
     ]
    }
   ],
   "source": [
    "#Triple qoutes \n",
    "triple='''lok said, \"Thank you! It's mine.\"'''\n",
    "print(triple)# triple qoutes can be used as a escape sequence while using singe and double qutoes inside a string"
   ]
  },
  {
   "cell_type": "code",
   "execution_count": 26,
   "metadata": {},
   "outputs": [
    {
     "name": "stdout",
     "output_type": "stream",
     "text": [
      "Hello world \n",
      "python is easy language\n",
      "it's a interactive language \n"
     ]
    }
   ],
   "source": [
    "# triple qoutes for multiple line \n",
    "multiline='''Hello world \n",
    "python is easy language\n",
    "it's a interactive language '''\n",
    "print(multiline)"
   ]
  },
  {
   "cell_type": "markdown",
   "metadata": {},
   "source": [
    "  #### Errors "
   ]
  },
  {
   "cell_type": "code",
   "execution_count": 28,
   "metadata": {
    "scrolled": true
   },
   "outputs": [
    {
     "ename": "SyntaxError",
     "evalue": "invalid syntax (<ipython-input-28-e1aef390289f>, line 1)",
     "output_type": "error",
     "traceback": [
      "\u001b[1;36m  File \u001b[1;32m\"<ipython-input-28-e1aef390289f>\"\u001b[1;36m, line \u001b[1;32m1\u001b[0m\n\u001b[1;33m    singel_singel='lok's bike'\u001b[0m\n\u001b[1;37m                       ^\u001b[0m\n\u001b[1;31mSyntaxError\u001b[0m\u001b[1;31m:\u001b[0m invalid syntax\n"
     ]
    }
   ],
   "source": [
    "singel_singel='lok's bike'\n",
    "print(singel_singel)"
   ]
  },
  {
   "cell_type": "code",
   "execution_count": 24,
   "metadata": {},
   "outputs": [
    {
     "ename": "SyntaxError",
     "evalue": "EOL while scanning string literal (<ipython-input-24-dddf516302f4>, line 2)",
     "output_type": "error",
     "traceback": [
      "\u001b[1;36m  File \u001b[1;32m\"<ipython-input-24-dddf516302f4>\"\u001b[1;36m, line \u001b[1;32m2\u001b[0m\n\u001b[1;33m    mixed='mixed qoutes error\"\u001b[0m\n\u001b[1;37m                              ^\u001b[0m\n\u001b[1;31mSyntaxError\u001b[0m\u001b[1;31m:\u001b[0m EOL while scanning string literal\n"
     ]
    }
   ],
   "source": [
    "# mixed quotes \n",
    "mixed1='mixed qoutes error\""
   ]
  },
  {
   "cell_type": "code",
   "execution_count": 25,
   "metadata": {
    "scrolled": true
   },
   "outputs": [
    {
     "ename": "SyntaxError",
     "evalue": "invalid syntax (<ipython-input-25-075492ff1052>, line 1)",
     "output_type": "error",
     "traceback": [
      "\u001b[1;36m  File \u001b[1;32m\"<ipython-input-25-075492ff1052>\"\u001b[1;36m, line \u001b[1;32m1\u001b[0m\n\u001b[1;33m    mixed2='lok said, \"Thank you! It's mine'\u001b[0m\n\u001b[1;37m                                     ^\u001b[0m\n\u001b[1;31mSyntaxError\u001b[0m\u001b[1;31m:\u001b[0m invalid syntax\n"
     ]
    }
   ],
   "source": [
    "mixed2='lok said, \"Thank you! It's mine'\n",
    "print(mixed2)"
   ]
  },
  {
   "cell_type": "code",
   "execution_count": 18,
   "metadata": {
    "scrolled": false
   },
   "outputs": [
    {
     "name": "stdout",
     "output_type": "stream",
     "text": [
      "lok's mobile\n"
     ]
    }
   ],
   "source": [
    "#using a escape functions for singel qoute inside singel qoute string\n",
    "blacklash='lok\\'s mobile'\n",
    "print(blacklash)\n"
   ]
  },
  {
   "cell_type": "markdown",
   "metadata": {},
   "source": [
    "#### Escape characters"
   ]
  },
  {
   "cell_type": "code",
   "execution_count": 1,
   "metadata": {},
   "outputs": [
    {
     "name": "stdout",
     "output_type": "stream",
     "text": [
      "line1 line2 line3\n",
      "\\line2\n",
      "lok said, Thank you! It's mine.\n",
      "He said, \"What's there?\"\n",
      "hello \bworld\n",
      "Hello \f",
      " World!\n",
      "hello \n",
      " world\n",
      "Hello \r",
      " World!\n",
      "Hello\t\tWorld!\n",
      "Hello \u000b",
      " World!\n"
     ]
    }
   ],
   "source": [
    "#Escape characters\n",
    "\n",
    "#\\newline\tBackslash and newline ignored\n",
    "print('line1 \\\n",
    "line2 \\\n",
    "line3')  \n",
    "\n",
    "#\\\\\tBackslash\n",
    "print('\\\\line2')    \n",
    "      \n",
    "#\\'\tSingle quote\n",
    "single_qoute='lok said, Thank you! It\\'s mine.'\n",
    "print(single_qoute)  \n",
    "      \n",
    "#\\\"\tDouble quote\n",
    "double_qoute=\"He said, \\\"What's there?\\\"\"\n",
    "print(double_qoute)\n",
    "      \n",
    "#\\b\tASCII c\n",
    "backspace=\"hello \\bworld\"\n",
    "print(backspace)    \n",
    "      \n",
    "#\\f\tASCII Formfeed,It forces the printer to eject the current page and to continue printing at the top of another  \n",
    "formfeed=\"Hello \\f World!\"  \n",
    "print(formfeed)      \n",
    "      \n",
    "#\\n\tASCII Linefeed\n",
    "linefeed=\"hello \\n world\"      \n",
    "print(linefeed)  \n",
    "      \n",
    "#\\r\tASCII Carriage Return\n",
    "carriage_return=\"Hello \\r World!\"\n",
    "print(carriage_return)   \n",
    "      \n",
    "#\\t\tASCII Horizontal Tab\n",
    "print(\"Hello\\t\\tWorld!\")      \n",
    "   \n",
    "#\\v\tASCII Vertical Tab\n",
    "print(\"Hello \\v World!\")"
   ]
  },
  {
   "cell_type": "markdown",
   "metadata": {},
   "source": [
    "#### String Positioning or indexing "
   ]
  },
  {
   "cell_type": "code",
   "execution_count": 2,
   "metadata": {
    "scrolled": true
   },
   "outputs": [
    {
     "name": "stdout",
     "output_type": "stream",
     "text": [
      "LOGAPRASATH\n",
      "POSITIVE INDEXING\n",
      "postion [0] = L\n",
      "postion [1] = O\n",
      "postion [2] = G\n",
      "postion [3] = A\n",
      "postion [4] = P\n",
      "postion [5] = R\n",
      "postion [6] = A\n",
      "postion [7] = S\n",
      "postion [8] = A\n",
      "postion [9] = T\n",
      "postion [10] = H\n",
      "\n",
      "NEGATIVE INDEXING\n",
      "postion [-1] = H\n",
      "postion [-2] = T\n",
      "postion [-3] = A\n",
      "postion [-4] = S\n",
      "postion [-5] = A\n",
      "postion [-6] = R\n",
      "postion [-7] = P\n",
      "postion [-8] = A\n",
      "postion [-9] = G\n",
      "postion [-10] = O\n",
      "postion [-11] = L\n"
     ]
    }
   ],
   "source": [
    "#string Postioning or indexing \n",
    "name=\"LOGAPRASATH\"\n",
    "print(name)\n",
    "\n",
    "#0\t1\t2\t3\t4\t5\t6\t7\t8\t9\t10 positive indexing from left to rigt \n",
    "#L\tO\tG\tA\tP\tR\tA\tS\tA\tT\tH\n",
    "#-11-10\t-9\t-8\t-7\t-6\t-5\t-4\t-3\t-2\t-1 negative indexing from right to left \n",
    "\n",
    "\n",
    "# postive indexing \n",
    "\n",
    "print(\"POSITIVE INDEXING\")\n",
    "print(\"postion [0] =\",name[0])\n",
    "print(\"postion [1] =\",name[1])\n",
    "print(\"postion [2] =\",name[2])\n",
    "print(\"postion [3] =\",name[3])\n",
    "print(\"postion [4] =\",name[4])\n",
    "print(\"postion [5] =\",name[5])\n",
    "print(\"postion [6] =\",name[6])\n",
    "print(\"postion [7] =\",name[7])\n",
    "print(\"postion [8] =\",name[8])\n",
    "print(\"postion [9] =\",name[9])\n",
    "print(\"postion [10] =\",name[10])\n",
    "\n",
    "\n",
    "# NEGATIVE indexing \n",
    "print(\"\\nNEGATIVE INDEXING\")\n",
    "\n",
    "print(\"postion [-1] =\",name[-1])\n",
    "print(\"postion [-2] =\",name[-2])\n",
    "print(\"postion [-3] =\",name[-3])\n",
    "print(\"postion [-4] =\",name[-4])\n",
    "print(\"postion [-5] =\",name[-5])\n",
    "print(\"postion [-6] =\",name[-6])\n",
    "print(\"postion [-7] =\",name[-7])\n",
    "print(\"postion [-8] =\",name[-8])\n",
    "print(\"postion [-9] =\",name[-9])\n",
    "print(\"postion [-10] =\",name[-10])\n",
    "print(\"postion [-11] =\",name[-11])"
   ]
  },
  {
   "cell_type": "code",
   "execution_count": 3,
   "metadata": {},
   "outputs": [
    {
     "name": "stdout",
     "output_type": "stream",
     "text": [
      "variable name has 10 elelemnts in objcet  \n",
      "\n",
      "Get the frist 5 elements: LOGA\n",
      "\n",
      "Get the remaining elements: PRASATH\n",
      "\n",
      "Get the all elements: LOGAPRASATH\n",
      "\n",
      "Get the remaining elemnts: LOGAPRASATH\n",
      "\n",
      "Get the remaining elemnts: LOGAPRASATH\n",
      "\n",
      "Negative slicing\n",
      "\n",
      "\n",
      "Get the elemnts in reverse: \n",
      "\n",
      "Get the alernate  elemnts: LGPAAH\n",
      "\n",
      "Get the elements in a increment of 2: 02468\n",
      "False\n"
     ]
    }
   ],
   "source": [
    "#string slicing opertions \n",
    "\n",
    "print(\"variable name has 10 elelemnts in objcet  \")\n",
    "print(\"\\nGet the frist 5 elements:\",name[0:4])\n",
    "print(\"\\nGet the remaining elements:\",name[4:11])\n",
    "print(\"\\nGet the all elements:\",name[0:11])\n",
    "print(\"\\nGet the remaining elemnts:\",name[:])\n",
    "print(\"\\nGet the remaining elemnts:\",name[::])\n",
    "print(\"\\nNegative slicing\\n\")\n",
    "print(\"\\nGet the elemnts in reverse:\",name[-2:-5])#correction ***\n",
    "\n",
    "#Syntax: string_object[start : stop : steps]\n",
    "\n",
    "print(\"\\nGet the alernate  elemnts:\",name[::2])#  were it slice elements in a inrement of 2\n",
    "\n",
    "num=\"0123456789\"\n",
    "print(\"\\nGet the elements in a increment of 2:\",num[::2])#  were it slice elements in a increment of 2\n",
    "print(name in num)"
   ]
  },
  {
   "cell_type": "code",
   "execution_count": 1,
   "metadata": {},
   "outputs": [
    {
     "name": "stdout",
     "output_type": "stream",
     "text": [
      "lokprasath\n",
      "lokprasath.R\n",
      "lokprasath\n",
      "lokprasathlokprasathlokprasath\n",
      "Artificial Intelligence\n",
      "RedGreenBlue\n"
     ]
    }
   ],
   "source": [
    "#String concatenation\n",
    "a=\"lokprasath\"\n",
    "print(a)\n",
    "print(a+\".R\")# using + operation\n",
    "print(a)\n",
    "print(a*3)# using * operation\n",
    "\n",
    "#multipe string concatenation  using += is similar to + operation\n",
    "a = \"Artificial \" \n",
    "b = \"Intelligence\" \n",
    "a += b \n",
    "print(a) \n",
    "\n",
    "a = \"Red\"\"Green\"\"Blue\" \n",
    "print(a)\n",
    "\n"
   ]
  },
  {
   "cell_type": "code",
   "execution_count": 13,
   "metadata": {
    "scrolled": true
   },
   "outputs": [
    {
     "ename": "TypeError",
     "evalue": "can only concatenate str (not \"int\") to str",
     "output_type": "error",
     "traceback": [
      "\u001b[1;31m---------------------------------------------------------------------------\u001b[0m",
      "\u001b[1;31mTypeError\u001b[0m                                 Traceback (most recent call last)",
      "\u001b[1;32m<ipython-input-13-e775b898dd05>\u001b[0m in \u001b[0;36m<module>\u001b[1;34m\u001b[0m\n\u001b[0;32m      2\u001b[0m \u001b[0ma\u001b[0m \u001b[1;33m=\u001b[0m \u001b[1;34m\"Rolls Royce \"\u001b[0m\u001b[1;33m\u001b[0m\u001b[1;33m\u001b[0m\u001b[0m\n\u001b[0;32m      3\u001b[0m \u001b[0mb\u001b[0m \u001b[1;33m=\u001b[0m \u001b[1;36m1948\u001b[0m\u001b[1;33m\u001b[0m\u001b[1;33m\u001b[0m\u001b[0m\n\u001b[1;32m----> 4\u001b[1;33m \u001b[0mprint\u001b[0m\u001b[1;33m(\u001b[0m\u001b[0ma\u001b[0m \u001b[1;33m+\u001b[0m \u001b[0mb\u001b[0m\u001b[1;33m)\u001b[0m\u001b[1;33m\u001b[0m\u001b[1;33m\u001b[0m\u001b[0m\n\u001b[0m",
      "\u001b[1;31mTypeError\u001b[0m: can only concatenate str (not \"int\") to str"
     ]
    }
   ],
   "source": [
    "#Concatenate strings and numbers \n",
    "a = \"Rolls Royce \" \n",
    "b = 1948 \n",
    "print(a + b) \n"
   ]
  },
  {
   "cell_type": "code",
   "execution_count": 67,
   "metadata": {},
   "outputs": [
    {
     "name": "stdout",
     "output_type": "stream",
     "text": [
      "Rolls Royce 1948\n"
     ]
    }
   ],
   "source": [
    "# using str() function  to concatenate\n",
    "a = \"Rolls Royce \" \n",
    "b = str(1948) \n",
    "print(a + b) "
   ]
  },
  {
   "cell_type": "markdown",
   "metadata": {},
   "source": [
    "### string formatting "
   ]
  },
  {
   "cell_type": "code",
   "execution_count": 3,
   "metadata": {},
   "outputs": [
    {
     "name": "stdout",
     "output_type": "stream",
     "text": [
      "Loga prasath .R\n",
      "Logaprasath.R\n",
      "Ilovechennai\n"
     ]
    }
   ],
   "source": [
    "# using modulus % operation (%s denotes string data type)\n",
    "\n",
    "x=\"Loga\"\n",
    "y=\"prasath\"\n",
    "z=\".R\"\n",
    "print(\"%s %s %s\"%(x,y,z))\n",
    "\n",
    "# using format() function({} curl brackets helps to fix the position of the string )\n",
    "print(\"{}{}{}\".format (x,y,z))\n",
    "\n",
    "# using f-string\n",
    "x=\"I\"\n",
    "y=\"love\"\n",
    "z=\"chennai\"\n",
    "print(f\"{x}{y}{z}\") #f-string evaluating runtime is lesss ,clear and easier compared to format() function"
   ]
  },
  {
   "cell_type": "markdown",
   "metadata": {},
   "source": [
    "Some useful tips on concatenation \n",
    "Now let me give you some useful tips on String concatenation in Python: \n",
    "\n",
    "The string-formatting operator “%” is a potentially fast and suitable operator when you need to concatenate a few pieces of string. Also, you don’t need to call the str() function when combining numbers because this operator does it implicitly. It also enhances the readability of the code. \n",
    "\n",
    "The join() method is the fastest, cleanest, and most elegant and readable method when you need to concatenate many small pieces of string into a larger string. \n",
    "\n",
    "When you have many small pieces of strings that come either from input or computation and are not in a sequence, always use a list to contain the strings. You can use list comprehension or append method in Python to arrange your list in a sequence.   "
   ]
  },
  {
   "cell_type": "code",
   "execution_count": 4,
   "metadata": {},
   "outputs": [
    {
     "name": "stdout",
     "output_type": "stream",
     "text": [
      "welcome-to-chennai\n",
      "Apple\n",
      "Orange\n",
      "Banana\n",
      "Mango\n",
      "welcome to chennai\n",
      "welcometochennai\n",
      "Ilovechennai\n",
      "hello\n",
      "hello i'm fine\n",
      "hello\n"
     ]
    },
    {
     "data": {
      "text/plain": [
       "'helloing'"
      ]
     },
     "execution_count": 4,
     "metadata": {},
     "output_type": "execute_result"
    }
   ],
   "source": [
    "#using join methode\n",
    "x=\"welcome\"\n",
    "y=\"to\"\n",
    "z=\"chennai\"\n",
    "m = (\"-\".join([x,y,z]))\n",
    "print(m)\n",
    "a = [\"Apple\", \"Orange\", \"Banana\", \"Mango\"] \n",
    "print('\\n'.join(a)) \n",
    "\n",
    "\n",
    "#changing the string  by concatenation\n",
    "s=\"hello\"\n",
    "print(s)\n",
    "print(s[0:5]+\" i'm fine\")\n",
    "print(s)\n",
    "\n",
    "s.strip('str') + 'ing' "
   ]
  },
  {
   "cell_type": "markdown",
   "metadata": {},
   "source": [
    "### string method"
   ]
  },
  {
   "cell_type": "code",
   "execution_count": 2,
   "metadata": {},
   "outputs": [
    {
     "data": {
      "text/plain": [
       "['__add__',\n",
       " '__class__',\n",
       " '__contains__',\n",
       " '__delattr__',\n",
       " '__dir__',\n",
       " '__doc__',\n",
       " '__eq__',\n",
       " '__format__',\n",
       " '__ge__',\n",
       " '__getattribute__',\n",
       " '__getitem__',\n",
       " '__getnewargs__',\n",
       " '__gt__',\n",
       " '__hash__',\n",
       " '__init__',\n",
       " '__init_subclass__',\n",
       " '__iter__',\n",
       " '__le__',\n",
       " '__len__',\n",
       " '__lt__',\n",
       " '__mod__',\n",
       " '__mul__',\n",
       " '__ne__',\n",
       " '__new__',\n",
       " '__reduce__',\n",
       " '__reduce_ex__',\n",
       " '__repr__',\n",
       " '__rmod__',\n",
       " '__rmul__',\n",
       " '__setattr__',\n",
       " '__sizeof__',\n",
       " '__str__',\n",
       " '__subclasshook__',\n",
       " 'capitalize',\n",
       " 'casefold',\n",
       " 'center',\n",
       " 'count',\n",
       " 'encode',\n",
       " 'endswith',\n",
       " 'expandtabs',\n",
       " 'find',\n",
       " 'format',\n",
       " 'format_map',\n",
       " 'index',\n",
       " 'isalnum',\n",
       " 'isalpha',\n",
       " 'isascii',\n",
       " 'isdecimal',\n",
       " 'isdigit',\n",
       " 'isidentifier',\n",
       " 'islower',\n",
       " 'isnumeric',\n",
       " 'isprintable',\n",
       " 'isspace',\n",
       " 'istitle',\n",
       " 'isupper',\n",
       " 'join',\n",
       " 'ljust',\n",
       " 'lower',\n",
       " 'lstrip',\n",
       " 'maketrans',\n",
       " 'partition',\n",
       " 'replace',\n",
       " 'rfind',\n",
       " 'rindex',\n",
       " 'rjust',\n",
       " 'rpartition',\n",
       " 'rsplit',\n",
       " 'rstrip',\n",
       " 'split',\n",
       " 'splitlines',\n",
       " 'startswith',\n",
       " 'strip',\n",
       " 'swapcase',\n",
       " 'title',\n",
       " 'translate',\n",
       " 'upper',\n",
       " 'zfill']"
      ]
     },
     "execution_count": 2,
     "metadata": {},
     "output_type": "execute_result"
    }
   ],
   "source": [
    "dir(str)"
   ]
  },
  {
   "cell_type": "code",
   "execution_count": 5,
   "metadata": {},
   "outputs": [
    {
     "name": "stdout",
     "output_type": "stream",
     "text": [
      "PRASATHLOGAPRASATH0\n",
      "\n",
      "1\n",
      "\n",
      "2\n",
      "\n",
      "3\n",
      "\n",
      "4\n",
      "\n",
      "5\n",
      "\n",
      "6\n",
      "\n",
      "7\n",
      "\n",
      "8\n",
      "\n",
      "9\n",
      "\n",
      "10\n",
      "\n",
      "H\n",
      "\n",
      "T\n",
      "\n",
      "A\n",
      "\n",
      "S\n",
      "\n",
      "A\n",
      "\n",
      "R\n",
      "\n",
      "P\n",
      "\n",
      "A\n",
      "\n",
      "G\n",
      "\n",
      "O\n",
      "\n",
      "L\n",
      "\n",
      "(0, 'L')(1, 'O')(2, 'G')(3, 'A')(4, 'P')(5, 'R')(6, 'A')(7, 'S')(8, 'A')(9, 'T')(10, 'H')"
     ]
    }
   ],
   "source": [
    "#iterate over string \n",
    "\n",
    "name=\"LOGAPRASATH\"\n",
    "\n",
    "for i in name[4:11:1]:# itering usiindexing methode \n",
    "    print(i,end=\"\")\n",
    "   \n",
    "name=\"LOGAPRASATH\"   \n",
    "for i in name[0:11]:\n",
    "  \n",
    "    print(i,end=\"\")# end=\"\" is used to print vertically \n",
    "   \n",
    "# using range() and len() functions\n",
    "name=\"LOGAPRASATH\"\n",
    "for i in range(0,len(name)):# Iterate over index\n",
    "    print(i,end=\"\")\n",
    "    print(\"\\n\")\n",
    "   \n",
    "# reverse function\n",
    "name=\"LOGAPRASATH\"\n",
    "for i in reversed(name):\n",
    "    print(i,end=\"\")\n",
    "    print(\"\\n\")\n",
    "# using enumerate () function\n",
    "name=\"LOGAPRASATH\"\n",
    "for i in enumerate(name):\n",
    "    print(i,end=\"\")\n",
    "  "
   ]
  },
  {
   "cell_type": "code",
   "execution_count": 4,
   "metadata": {},
   "outputs": [
    {
     "name": "stdout",
     "output_type": "stream",
     "text": [
      "Enter your age:\n",
      "33\n"
     ]
    }
   ],
   "source": [
    "while True:\n",
    "    print('Enter your age:')\n",
    "    age = input()\n",
    "    if age.isdecimal():\n",
    "        break\n",
    "        print('Please enter a number for your age.')"
   ]
  },
  {
   "cell_type": "code",
   "execution_count": 18,
   "metadata": {},
   "outputs": [
    {
     "data": {
      "text/plain": [
       "['wordofmouth', 'is', 'the comment']"
      ]
     },
     "execution_count": 18,
     "metadata": {},
     "output_type": "execute_result"
    }
   ],
   "source": [
    "a = \"wordofmouth is the comment\"\n",
    "a.split(maxsplit= 2)"
   ]
  },
  {
   "cell_type": "code",
   "execution_count": 9,
   "metadata": {},
   "outputs": [
    {
     "name": "stdout",
     "output_type": "stream",
     "text": [
      "11\n",
      "[(0, 'L'), (1, 'O'), (2, 'G'), (3, 'A'), (4, 'P'), (5, 'R'), (6, 'A'), (7, 'S'), (8, 'A'), (9, 'T'), (10, 'H')]\n",
      "<enumerate object at 0x00000194F464BC40>\n",
      "logaprasath\n",
      "3\n",
      "LOGAPRASATH\n",
      "logaprasath is a good boy\n",
      "['logaprasath', 'is', 'a', 'good', 'boy']\n",
      "17\n",
      "logaprasath is a bad boy\n",
      "welcome-to-chennai\n",
      "welcome to chennai\n",
      "welcometochennai\n",
      "Ilovechennai\n"
     ]
    }
   ],
   "source": [
    "#BULIT IN FUNCTIONS STRINGS \n",
    "#length of a string-len() function\n",
    "name= \"LOGAPRASATH\"\n",
    "print(len(name)) # gives the number of elemenst s string \n",
    "\n",
    "#enumerate of a string :enumerate() function\n",
    "name_enumerate=list(enumerate(name))# it list the postion of elements of the string \n",
    "print(name_enumerate)\n",
    "print(enumerate(name))\n",
    "\n",
    "#lower case\n",
    "print(name.lower())\n",
    "\n",
    "# count\n",
    "print(name.count(\"A\"))\n",
    "\n",
    "#upper case\n",
    "print(name.upper())\n",
    "\n",
    "#split () function\n",
    "statement=\"logaprasath is a good boy\"\n",
    "print(statement)\n",
    "print(statement.split())\n",
    "\n",
    "#find () function \n",
    "print(statement.find(\"good\"))# gives the end position string qouted \n",
    "\n",
    "# replace () function\n",
    "print(statement.replace(\"good\",\"bad\"))\n",
    "\n",
    "# using join methode\n",
    "x=\"welcome\"\n",
    "y=\"to\"\n",
    "z=\"chennai\"\n",
    "print(\"-\".join([x,y,z]))\n",
    "\n",
    "# using modulus % operation (%s denotes string data type)\n",
    "print(\"%s %s %s\"%(x,y,z))\n",
    "\n",
    "# using format() function({} curl brackets helps to fix the position of the string )\n",
    "print(\"{}{}{}\".format (x,y,z))\n",
    "\n",
    "# using f-string\n",
    "x=\"I\"\n",
    "y=\"love\"\n",
    "z=\"chennai\"\n",
    "print(f\"{x}{y}{z}\") #f-string evaluating runtime is lesss ,clear and easier compared to format() function\n"
   ]
  },
  {
   "cell_type": "code",
   "execution_count": 26,
   "metadata": {},
   "outputs": [
    {
     "name": "stdout",
     "output_type": "stream",
     "text": [
      "© abc\n",
      "<class 'str'>\n",
      "© abc\n",
      "<class 'str'>\n"
     ]
    }
   ],
   "source": [
    "s = b'\\xc2\\xa9 abc'\n",
    "s[1]\n",
    "type(s)\n",
    "u = s.decode('utf-8')\n",
    "print(u)\n",
    "print(type(u))\n",
    "u.encode('utf-8')\n",
    "print(u)\n",
    "print(type(u))"
   ]
  },
  {
   "cell_type": "code",
   "execution_count": 53,
   "metadata": {},
   "outputs": [
    {
     "name": "stdout",
     "output_type": "stream",
     "text": [
      "[1, 2, 3, 4, 5, 6, 7, 8, 9, 10, 11, 12, 13, 14, 15, 16, 17, 18, 19]\n",
      "[1, 6, 11, 16]\n"
     ]
    }
   ],
   "source": [
    "a= range(1,10+10)\n",
    "\n",
    "print(list(a))\n",
    "print(list(a)[::5])"
   ]
  },
  {
   "cell_type": "markdown",
   "metadata": {},
   "source": [
    "#### String Module"
   ]
  },
  {
   "cell_type": "code",
   "execution_count": 1,
   "metadata": {},
   "outputs": [],
   "source": [
    "import string\n"
   ]
  },
  {
   "cell_type": "code",
   "execution_count": 29,
   "metadata": {},
   "outputs": [
    {
     "data": {
      "text/plain": [
       "'0123456789abcdefghijklmnopqrstuvwxyzABCDEFGHIJKLMNOPQRSTUVWXYZ!\"#$%&\\'()*+,-./:;<=>?@[\\\\]^_`{|}~ \\t\\n\\r\\x0b\\x0c'"
      ]
     },
     "execution_count": 29,
     "metadata": {},
     "output_type": "execute_result"
    }
   ],
   "source": [
    "string.printable"
   ]
  },
  {
   "cell_type": "code",
   "execution_count": 30,
   "metadata": {},
   "outputs": [
    {
     "data": {
      "text/plain": [
       "'!\"#$%&\\'()*+,-./:;<=>?@[\\\\]^_`{|}~'"
      ]
     },
     "execution_count": 30,
     "metadata": {},
     "output_type": "execute_result"
    }
   ],
   "source": [
    "string.punctuation"
   ]
  },
  {
   "cell_type": "code",
   "execution_count": 2,
   "metadata": {},
   "outputs": [
    {
     "data": {
      "text/plain": [
       "'abcdefghijklmnopqrstuvwxyzABCDEFGHIJKLMNOPQRSTUVWXYZ'"
      ]
     },
     "execution_count": 2,
     "metadata": {},
     "output_type": "execute_result"
    }
   ],
   "source": [
    "string.ascii_letters"
   ]
  },
  {
   "cell_type": "code",
   "execution_count": 10,
   "metadata": {},
   "outputs": [
    {
     "data": {
      "text/plain": [
       "'helloing'"
      ]
     },
     "execution_count": 10,
     "metadata": {},
     "output_type": "execute_result"
    }
   ],
   "source": [
    "s.strip('str') + 'ing' "
   ]
  }
 ],
 "metadata": {
  "kernelspec": {
   "display_name": "Python 3",
   "language": "python",
   "name": "python3"
  },
  "language_info": {
   "codemirror_mode": {
    "name": "ipython",
    "version": 3
   },
   "file_extension": ".py",
   "mimetype": "text/x-python",
   "name": "python",
   "nbconvert_exporter": "python",
   "pygments_lexer": "ipython3",
   "version": "3.8.5"
  }
 },
 "nbformat": 4,
 "nbformat_minor": 4
}
