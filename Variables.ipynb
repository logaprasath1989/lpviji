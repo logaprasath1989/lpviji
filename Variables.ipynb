{
 "cells": [
  {
   "cell_type": "markdown",
   "metadata": {},
   "source": [
    "# Variables \n",
    "Variable is a name that is used to refer to memory location. Python variable is also known as an identifier and used to hold value.\n",
    "\n",
    "Identifier Naming\n",
    "Variables are the example of identifiers. An Identifier is used to identify the literals used in the program. The rules to name an identifier are given below.\n",
    "\n",
    "*The first character of the variable must be an alphabet or underscore ( _ ).\n",
    "*All the characters except the first character may be an alphabet of lower-case(a-z), upper-case (A-Z), underscore, or digit (0-9).\n",
    "*Identifier name must not contain any white-space, or special character (!, @, #, %, ^, &, *).\n",
    "\n",
    "*Be careful when using the lowercase letter l and the uppercase letter O\n",
    "because they could be confused with the numbers 1 and 0.\n",
    "\n",
    "*Identifier name must not be similar to any keyword defined in the language.\n",
    "*Identifier names are case sensitive; for example, my name, and MyName is not the same.\n",
    "\n",
    "\n"
   ]
  },
  {
   "cell_type": "markdown",
   "metadata": {},
   "source": [
    "### #Variable assignment "
   ]
  },
  {
   "cell_type": "code",
   "execution_count": 56,
   "metadata": {
    "scrolled": true
   },
   "outputs": [
    {
     "name": "stdout",
     "output_type": "stream",
     "text": [
      "\n",
      "starting with aplahbets\n",
      "\n",
      "myname= lok\n",
      "\n",
      "starting with underscore\n",
      "\n",
      "_name= lokprasath\n",
      "\n",
      "uppercase name\n",
      "\n",
      "Upper= lok\n",
      "\n",
      "lower cases\n",
      "\n",
      "lower= prasath\n",
      "\n",
      "numbers in variable naming\n",
      "\n",
      "rajinikhanth \n"
     ]
    }
   ],
   "source": [
    "\n",
    "#variable starting  with alpahbets \n",
    "print(\"\\nstarting with aplahbets\\n\")\n",
    "myname=\"lok\"\n",
    "print(\"myname=\",myname)\n",
    "\n",
    "#Variable starting with underscore\n",
    "print(\"\\nstarting with underscore\\n\")\n",
    "_name=\"lokprasath\"#its not recommented in python practice as its clash with reverse keywords \n",
    "\n",
    "print(\"_name=\",_name)\n",
    "\n",
    "#variable naming with upper and lower case \n",
    "print(\"\\nuppercase name\\n\")\n",
    "Upper=\"lok\"\n",
    "print(\"Upper=\",Upper)\n",
    "\n",
    "print(\"\\nlower cases\\n\")\n",
    "lower=\"prasath\"\n",
    "print(\"lower=\",lower)\n",
    "\n",
    "#variable naming holding number \n",
    "print(\"\\nnumbers in variable naming\\n\")\n",
    "No1=\"rajinikanth \"\n",
    "print(No1)\n",
    "\n",
    "\n"
   ]
  },
  {
   "cell_type": "markdown",
   "metadata": {},
   "source": [
    "### Types of variables\n",
    "1.integers\n",
    "\n",
    "2.float\n",
    "\n",
    "3.string\n"
   ]
  },
  {
   "cell_type": "markdown",
   "metadata": {},
   "source": [
    "Integer\n",
    "\n",
    "\n"
   ]
  },
  {
   "cell_type": "code",
   "execution_count": 11,
   "metadata": {},
   "outputs": [
    {
     "name": "stdout",
     "output_type": "stream",
     "text": [
      "<class 'int'>\n",
      "<class 'int'>\n"
     ]
    }
   ],
   "source": [
    "#intergs\n",
    "a=5\n",
    "b=6\n",
    "print(type(a))\n",
    "print(type(b))"
   ]
  },
  {
   "cell_type": "code",
   "execution_count": 12,
   "metadata": {},
   "outputs": [
    {
     "name": "stdout",
     "output_type": "stream",
     "text": [
      "<class 'float'>\n",
      "<class 'float'>\n"
     ]
    }
   ],
   "source": [
    "#float some programing language its called double\n",
    "#a number with a decimel is called is float\n",
    "a=2.5\n",
    "b=-3.2\n",
    "print(type(a))\n",
    "print(type(b))"
   ]
  },
  {
   "cell_type": "markdown",
   "metadata": {},
   "source": [
    "String \n",
    " string is a type that stores words and letters and different characters\n"
   ]
  },
  {
   "cell_type": "code",
   "execution_count": 25,
   "metadata": {},
   "outputs": [
    {
     "name": "stdout",
     "output_type": "stream",
     "text": [
      "lokprasath\n"
     ]
    }
   ],
   "source": [
    "x=\"lokprasath\"\n",
    "print(x)"
   ]
  },
  {
   "cell_type": "markdown",
   "metadata": {},
   "source": [
    "Creating Variables \n",
    "Python does not bind us to declare a variable before using it in the application. It allows us to create a variable at the required time.\n",
    "\n",
    "We don't need to declare explicitly variable in Python. When we assign any value to the variable, that variable is declared automatically.\n",
    "\n",
    "The equal (=) operator is used to assign value to a variable."
   ]
  },
  {
   "cell_type": "code",
   "execution_count": 2,
   "metadata": {
    "scrolled": true
   },
   "outputs": [
    {
     "name": "stdout",
     "output_type": "stream",
     "text": [
      "5\n",
      "lok\n"
     ]
    }
   ],
   "source": [
    "a=5\n",
    "b=\"lok\"\n",
    "print(a)\n",
    "\n",
    "print(b)"
   ]
  },
  {
   "cell_type": "code",
   "execution_count": null,
   "metadata": {},
   "outputs": [],
   "source": [
    "### None\n",
    "#None doesn't have any natural ordering. Using ordering comparison operators (<, <=, >=, >) isn't supported anymore and will raise a TypeError.\n",
    "#None is always less than any number (None < -32 evaluates to True).\n",
    "\n",
    "a=None#No value will be assigned. Any valid datatype can be assigned later\n",
    "#None is always less than any number (None < -32 evaluates to True).print(a)"
   ]
  },
  {
   "cell_type": "markdown",
   "metadata": {},
   "source": [
    "### Object reference \n",
    "Python is the highly object-oriented programming language; that's why every data item belongs to a specific type of class. check the type of it using the Python built-in type() function.\n",
    "\n",
    "a_name = an_object # \"a_name\" is now a name for the reference to the object \"an_object\""
   ]
  },
  {
   "cell_type": "markdown",
   "metadata": {},
   "source": [
    "Object Referance\n",
    "\n",
    "The above  variabes a and b are poitning to same object 50"
   ]
  },
  {
   "cell_type": "code",
   "execution_count": 15,
   "metadata": {},
   "outputs": [
    {
     "name": "stdout",
     "output_type": "stream",
     "text": [
      "50\n",
      "100\n"
     ]
    }
   ],
   "source": [
    "b=100\n",
    "print(a)\n",
    "print(b)"
   ]
  },
  {
   "cell_type": "markdown",
   "metadata": {},
   "source": [
    "Let's assign the new value to b. Now both variables will refer to the different objects.\n",
    "Python manages memory efficiently if we assign the same variable to two different values."
   ]
  },
  {
   "cell_type": "markdown",
   "metadata": {},
   "source": [
    "Object identity\n",
    "In Python, every created object identifies uniquely in Python. Python provides the guaranteed that no two objects will have the same identifier. The built-in id() function, is used to identify the object identifier.\n"
   ]
  },
  {
   "cell_type": "code",
   "execution_count": 24,
   "metadata": {},
   "outputs": [],
   "source": [
    "a=50\n",
    "b=a\n",
    "c=b"
   ]
  },
  {
   "cell_type": "code",
   "execution_count": 27,
   "metadata": {},
   "outputs": [
    {
     "name": "stdout",
     "output_type": "stream",
     "text": [
      "2191442997072 2191442997072 2191442997072\n"
     ]
    }
   ],
   "source": [
    "print(id(a),id(b),id(c))\n"
   ]
  },
  {
   "cell_type": "code",
   "execution_count": 29,
   "metadata": {},
   "outputs": [
    {
     "name": "stdout",
     "output_type": "stream",
     "text": [
      "2191442997072 2191442997072 2191490096816\n"
     ]
    }
   ],
   "source": [
    "c=500\n",
    "print(id(a),id(b),id(c))"
   ]
  },
  {
   "cell_type": "markdown",
   "metadata": {},
   "source": [
    "### Variable naming \n",
    "Camel case -Variable naming  were the middle word's first start with a capital letter and there no whitespace  Eg:nameOfstudent\n",
    "value Is\n",
    "\n",
    "Pascal case- variable naming were the first words starts with a capital letters and in between words too have capital letter\n",
    "Eg:NameOfStuden\n",
    "\n",
    "Snake case-variable naming were the words are separated by underscore Ex:Name_Of_Student"
   ]
  },
  {
   "cell_type": "markdown",
   "metadata": {},
   "source": [
    "### Multiple Assignment \n",
    "Python allows us to assign a value to multiple variables in a single statement, which is also known as multiple assignments.\n",
    "\n",
    "We can apply multiple assignments in two ways, either by assigning a single value to multiple variables or assigning multiple values to multiple variables. Consider the following example."
   ]
  },
  {
   "cell_type": "code",
   "execution_count": 10,
   "metadata": {},
   "outputs": [
    {
     "name": "stdout",
     "output_type": "stream",
     "text": [
      "500 500 500\n"
     ]
    }
   ],
   "source": [
    "x=y=z=500\n",
    "print((x),(y),(z))"
   ]
  },
  {
   "cell_type": "code",
   "execution_count": 15,
   "metadata": {},
   "outputs": [
    {
     "name": "stdout",
     "output_type": "stream",
     "text": [
      "5\n",
      "10\n",
      "15\n"
     ]
    }
   ],
   "source": [
    "x,y,z=5,10,15\n",
    "print (x)\n",
    "print(y)\n",
    "print(z)"
   ]
  },
  {
   "cell_type": "code",
   "execution_count": 4,
   "metadata": {},
   "outputs": [
    {
     "name": "stdout",
     "output_type": "stream",
     "text": [
      "1 2\n"
     ]
    }
   ],
   "source": [
    "### dummy variable \n",
    "a, b, _ = 1, 2, 3 #but it is conventional to use the underscore (_) for assigning unwanted values\n",
    "print(a,b,)"
   ]
  },
  {
   "cell_type": "markdown",
   "metadata": {},
   "source": [
    "### Global and Local functions\n",
    "    \n",
    "    Global variables are the one that is defined and declared outside a function and we need to use them inside a function. "
   ]
  },
  {
   "cell_type": "code",
   "execution_count": 36,
   "metadata": {},
   "outputs": [
    {
     "name": "stdout",
     "output_type": "stream",
     "text": [
      "love python\n"
     ]
    }
   ],
   "source": [
    "#function with gobal variable\n",
    "def f():\n",
    "    print(s)\n",
    "s=\"love python\"    \n",
    "f()"
   ]
  },
  {
   "cell_type": "code",
   "execution_count": 6,
   "metadata": {},
   "outputs": [
    {
     "name": "stdout",
     "output_type": "stream",
     "text": [
      "me too\n",
      "love python\n"
     ]
    }
   ],
   "source": [
    "#function has same variable name\n",
    "def f():\n",
    "    s=\"me too\"\n",
    "    print(s)\n",
    "s=\"love python\"\n",
    "f()\n",
    "print(s)"
   ]
  },
  {
   "cell_type": "markdown",
   "metadata": {},
   "source": [
    "gobal keyword assigment"
   ]
  },
  {
   "cell_type": "code",
   "execution_count": 2,
   "metadata": {},
   "outputs": [
    {
     "name": "stdout",
     "output_type": "stream",
     "text": [
      "python is great\n",
      " and easy language\n"
     ]
    }
   ],
   "source": [
    "def f():\n",
    "    global s\n",
    "    print(s)\n",
    "    s=\" and easy language\"\n",
    " \n",
    " #global variabe\n",
    "s=\"python is great\"\n",
    "f()\n",
    "print(s)"
   ]
  },
  {
   "cell_type": "markdown",
   "metadata": {},
   "source": [
    "### Using global variable as local"
   ]
  },
  {
   "cell_type": "code",
   "execution_count": 3,
   "metadata": {},
   "outputs": [
    {
     "name": "stdout",
     "output_type": "stream",
     "text": [
      "1\n",
      "inside f(): 1\n",
      "1\n",
      "inside g(): 2\n",
      "1\n",
      "inside h(): 3\n",
      "global: 3\n"
     ]
    }
   ],
   "source": [
    "a=1 #gobal varialbe \n",
    "def f():\n",
    "    print(\"inside f():\",a)# using the gobal varial as local variable\n",
    "def g():\n",
    "    a=2\n",
    "    print(\"inside g():\",a)# assigend local variable is redefined \n",
    "def h():\n",
    "    global a # using global keyword \n",
    "    a=3\n",
    "    print(\"inside h():\",a)    \n",
    "print(a)\n",
    "f()\n",
    "print(a)\n",
    "g()\n",
    "print(a)\n",
    "h()\n",
    "print(\"global:\",a)\n",
    "    \n",
    "    "
   ]
  },
  {
   "cell_type": "code",
   "execution_count": 8,
   "metadata": {},
   "outputs": [
    {
     "name": "stdout",
     "output_type": "stream",
     "text": [
      "I love Geeksforgeeks\n",
      "Me too.\n",
      "I love Geeksforgeeks\n"
     ]
    }
   ],
   "source": [
    "print(s1)\n",
    "def f():\n",
    "    global s1\n",
    "\n",
    " \n",
    "    # This program will NOT show error\n",
    "    # if we comment below line.\n",
    "    s = \"Me too.\"\n",
    " \n",
    "    print(s)\n",
    " \n",
    "# Global scope\n",
    "s1 = \"I love Geeksforgeeks\"\n",
    "f()\n",
    "print(s1)"
   ]
  },
  {
   "cell_type": "markdown",
   "metadata": {},
   "source": [
    "### Type Conversion in Python"
   ]
  },
  {
   "cell_type": "markdown",
   "metadata": {},
   "source": [
    "1.Implicit-In Implicit type conversion of data types in Python, the Python interpreter automatically converts one data type to another without any user involvement\n",
    "2.explicit-In Explicit Type Conversion in Python, the data type is manually changed by the user as per their requirement. \n",
    "\n",
    "\n"
   ]
  },
  {
   "cell_type": "code",
   "execution_count": 28,
   "metadata": {},
   "outputs": [
    {
     "name": "stdout",
     "output_type": "stream",
     "text": [
      "x is of type: <class 'int'>\n",
      "y is of type: <class 'float'>\n",
      "30.5\n",
      "x is of type: <class 'float'>\n"
     ]
    }
   ],
   "source": [
    "x=10\n",
    "y=20.5\n",
    "print(\"x is of type:\",type(x))\n",
    "print(\"y is of type:\",type(y))\n",
    "x=x+y\n",
    "print(x)\n",
    "print(\"x is of type:\",type(x))"
   ]
  },
  {
   "cell_type": "markdown",
   "metadata": {},
   "source": [
    "\n",
    "### Implicit type\n",
    "1. int(a, base): This function converts any data type to integer. ‘Base’ specifies the base in which string is if the data type is a string.\n",
    "2. float(): This function is used to convert any data type to a floating-point number \n",
    "3. ord() : This function is used to convert a character to integer.\n",
    "4. hex() : This function is to convert integer to hexadecimal string.\n",
    "5. oct() : This function is to convert integer to octal string."
   ]
  },
  {
   "cell_type": "code",
   "execution_count": 12,
   "metadata": {},
   "outputs": [
    {
     "name": "stdout",
     "output_type": "stream",
     "text": [
      "afer converting the interger to base 2:18\n",
      "after coverting into float:10010.0\n",
      "After converting character to integer : 102\n",
      "After converting 56 to hexadecimal string : 0x12\n",
      "After converting 56 to octal string : 0o22\n"
     ]
    }
   ],
   "source": [
    "s=\"10010\"\n",
    "\n",
    "c=int(s,2)\n",
    "\n",
    "print(\"afer converting the interger to base 2:\",end='')\n",
    "print(c)\n",
    "\n",
    "e=float(s)\n",
    "print(\"after coverting into float:\",end='')\n",
    "print(e)\n",
    "\n",
    "a='f'\n",
    "# printing character converting to integer\n",
    "c = ord(a)\n",
    "print (\"After converting character to integer : \",end=\"\")\n",
    "print (c)\n",
    " \n",
    "# printing integer converting to hexadecimal string\n",
    "c = hex(18)\n",
    "print (\"After converting 56 to hexadecimal string : \",end=\"\")\n",
    "print (c)\n",
    " \n",
    "# printing integer converting to octal string\n",
    "c = oct(18)\n",
    "print (\"After converting 56 to octal string : \",end=\"\")\n",
    "print(c)"
   ]
  },
  {
   "cell_type": "markdown",
   "metadata": {},
   "source": [
    "### Packing & unpacking of variables \n",
    "\n",
    "\n",
    "\n",
    "We use two operators * (for tuples) and ** (for dictionaries).\n"
   ]
  },
  {
   "cell_type": "code",
   "execution_count": 9,
   "metadata": {},
   "outputs": [
    {
     "name": "stdout",
     "output_type": "stream",
     "text": [
      "[1, 2, 3, 4] 1 2 3\n"
     ]
    }
   ],
   "source": [
    "def fun(a,b,c,d):\n",
    "    print(a,b,c,d)\n",
    "my_list=[1,2,3,4]\n",
    "\n",
    "fun(my_list,1,2,3)\n",
    "    \n",
    "    \n",
    "    "
   ]
  },
  {
   "cell_type": "markdown",
   "metadata": {},
   "source": [
    "Unpacking \n",
    "We can use * to unpack the list so that all elements of it can be passed as different parameters."
   ]
  },
  {
   "cell_type": "code",
   "execution_count": 3,
   "metadata": {},
   "outputs": [
    {
     "name": "stdout",
     "output_type": "stream",
     "text": [
      "1 2 3 4\n"
     ]
    }
   ],
   "source": [
    "def fun(a,b,c,d):\n",
    "    print(a,b,c,d)\n",
    "my_list=[1,2,3,4]  \n",
    "fun(*my_list)"
   ]
  },
  {
   "cell_type": "markdown",
   "metadata": {},
   "source": [
    "no.of aruguments must be equal to the length of the llist or tuple\n"
   ]
  },
  {
   "cell_type": "code",
   "execution_count": 13,
   "metadata": {},
   "outputs": [
    {
     "data": {
      "text/plain": [
       "56"
      ]
     },
     "execution_count": 13,
     "metadata": {},
     "output_type": "execute_result"
    }
   ],
   "source": [
    "agrs=[0,1,55,3]\n",
    "def func(a,b,c,d):\n",
    "    return a+b+c\n",
    "\n",
    "func(*agrs)"
   ]
  },
  {
   "cell_type": "markdown",
   "metadata": {},
   "source": [
    "Using bulit-in function range to unbox "
   ]
  },
  {
   "cell_type": "code",
   "execution_count": 8,
   "metadata": {},
   "outputs": [
    {
     "name": "stdout",
     "output_type": "stream",
     "text": [
      "7\n"
     ]
    }
   ],
   "source": [
    "agrs=[6+1]\n",
    "range(*agrs)\n",
    "print(*agrs)"
   ]
  },
  {
   "cell_type": "code",
   "execution_count": 21,
   "metadata": {},
   "outputs": [
    {
     "name": "stdout",
     "output_type": "stream",
     "text": [
      "lokprasath goodboy welcome\n"
     ]
    }
   ],
   "source": [
    "\n",
    "def fun1(a,b,c):\n",
    "    print (a,b,c)\n",
    "def fun2(*args):\n",
    "    args=list(args)\n",
    "    args[0]=\"lokprasath\"\n",
    "    args[1]=\"goodboy\"\n",
    "    fun1(*args)\n",
    "fun2('hello','world','welcome')"
   ]
  },
  {
   "cell_type": "markdown",
   "metadata": {},
   "source": [
    "Dictioners packing and un-packing "
   ]
  },
  {
   "cell_type": "code",
   "execution_count": 25,
   "metadata": {},
   "outputs": [
    {
     "name": "stdout",
     "output_type": "stream",
     "text": [
      "150 2 300\n"
     ]
    }
   ],
   "source": [
    "def fun(a,b,c):\n",
    "    print(a,b,c)\n",
    "dictt={'a':150,'b':2,'c':300}\n",
    "fun(**dictt)"
   ]
  },
  {
   "cell_type": "code",
   "execution_count": 26,
   "metadata": {},
   "outputs": [
    {
     "name": "stdout",
     "output_type": "stream",
     "text": [
      "<class 'dict'>\n",
      "name = geeks\n",
      "ID = 101\n",
      "language = Python\n"
     ]
    }
   ],
   "source": [
    "# A Python program to demonstrate packing of\n",
    "# dictionary items using **\n",
    "def fun(**kwargs):\n",
    "                                         \n",
    "    \n",
    " \n",
    "    # kwargs is a dict\n",
    "    print(type(kwargs))\n",
    " \n",
    "    # Printing dictionary items\n",
    "    for key in kwargs:\n",
    "        print(\"%s = %s\" % (key, kwargs[key]))\n",
    " \n",
    "# Driver code\n",
    "fun(name=\"geeks\", ID=\"101\", language=\"Python\")"
   ]
  },
  {
   "cell_type": "markdown",
   "metadata": {},
   "source": [
    "Applications and Important Points \n",
    "\n",
    "Used in socket programming to send a vast number of requests to a server. \n",
    "Used in the Django framework to send variable arguments to view functions. \n",
    "There are wrapper functions that require us to pass in variable arguments.\n",
    "Modification of arguments becomes easy, but at the same time validation is not proper, so they must be used with care. \n"
   ]
  },
  {
   "cell_type": "markdown",
   "metadata": {},
   "source": [
    "## keywords"
   ]
  },
  {
   "cell_type": "code",
   "execution_count": 6,
   "metadata": {},
   "outputs": [
    {
     "name": "stdout",
     "output_type": "stream",
     "text": [
      "\n",
      "Here is a list of the Python keywords.  Enter any keyword to get more help.\n",
      "\n",
      "False               class               from                or\n",
      "None                continue            global              pass\n",
      "True                def                 if                  raise\n",
      "and                 del                 import              return\n",
      "as                  elif                in                  try\n",
      "assert              else                is                  while\n",
      "async               except              lambda              with\n",
      "await               finally             nonlocal            yield\n",
      "break               for                 not                 \n",
      "\n"
     ]
    }
   ],
   "source": [
    "help(\"keywords\")"
   ]
  },
  {
   "cell_type": "code",
   "execution_count": 1,
   "metadata": {},
   "outputs": [
    {
     "name": "stdout",
     "output_type": "stream",
     "text": [
      "Help on built-in function dir in module builtins:\n",
      "\n",
      "dir(...)\n",
      "    dir([object]) -> list of strings\n",
      "    \n",
      "    If called without an argument, return the names in the current scope.\n",
      "    Else, return an alphabetized list of names comprising (some of) the attributes\n",
      "    of the given object, and of attributes reachable from it.\n",
      "    If the object supplies a method named __dir__, it will be used; otherwise\n",
      "    the default dir() logic is used and returns:\n",
      "      for a module object: the module's attributes.\n",
      "      for a class object:  its attributes, and recursively the attributes\n",
      "        of its bases.\n",
      "      for any other object: its attributes, its class's attributes, and\n",
      "        recursively the attributes of its class's base classes.\n",
      "\n"
     ]
    }
   ],
   "source": [
    "help(\"dir\")"
   ]
  }
 ],
 "metadata": {
  "kernelspec": {
   "display_name": "Python 3",
   "language": "python",
   "name": "python3"
  },
  "language_info": {
   "codemirror_mode": {
    "name": "ipython",
    "version": 3
   },
   "file_extension": ".py",
   "mimetype": "text/x-python",
   "name": "python",
   "nbconvert_exporter": "python",
   "pygments_lexer": "ipython3",
   "version": "3.8.5"
  }
 },
 "nbformat": 4,
 "nbformat_minor": 5
}
