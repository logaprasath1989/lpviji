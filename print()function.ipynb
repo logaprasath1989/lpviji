{
 "cells": [
  {
   "cell_type": "code",
   "execution_count": 1,
   "metadata": {},
   "outputs": [
    {
     "name": "stdout",
     "output_type": "stream",
     "text": [
      "['__call__', '__class__', '__delattr__', '__dir__', '__doc__', '__eq__', '__format__', '__ge__', '__getattribute__', '__gt__', '__hash__', '__init__', '__init_subclass__', '__le__', '__lt__', '__module__', '__name__', '__ne__', '__new__', '__qualname__', '__reduce__', '__reduce_ex__', '__repr__', '__self__', '__setattr__', '__sizeof__', '__str__', '__subclasshook__', '__text_signature__']"
     ]
    }
   ],
   "source": [
    "#methods and attributes of range \n",
    "x=dir(print)\n",
    "print(x,end=\"\")"
   ]
  },
  {
   "cell_type": "code",
   "execution_count": 5,
   "metadata": {},
   "outputs": [
    {
     "name": "stdout",
     "output_type": "stream",
     "text": [
      "Help on built-in function print in module builtins:\n",
      "\n",
      "print(...)\n",
      "    print(value, ..., sep=' ', end='\\n', file=sys.stdout, flush=False)\n",
      "    \n",
      "    Prints the values to a stream, or to sys.stdout by default.\n",
      "    Optional keyword arguments:\n",
      "    file:  a file-like object (stream); defaults to the current sys.stdout.\n",
      "    sep:   string inserted between values, default a space.\n",
      "    end:   string appended after the last value, default a newline.\n",
      "    flush: whether to forcibly flush the stream.\n",
      "\n"
     ]
    }
   ],
   "source": [
    "help(print)"
   ]
  },
  {
   "cell_type": "code",
   "execution_count": 23,
   "metadata": {},
   "outputs": [
    {
     "name": "stdout",
     "output_type": "stream",
     "text": [
      "42\n",
      "3.14\n",
      "(1+2j)\n",
      "True\n",
      "[1, 2, 3]\n",
      "(1, 2, 3)\n",
      "{'blue', 'green', 'red'}\n",
      "{'name': 'Alice', 'age': 42}\n",
      "hello\n"
     ]
    }
   ],
   "source": [
    " print(42)                            \n",
    " print(3.14)                         \n",
    " print(1 + 2j)                        \n",
    " print(True)                          \n",
    " print([1, 2, 3])                     \n",
    " print((1, 2, 3))                     \n",
    " print({'red', 'green', 'blue'})      \n",
    " print({'name': 'Alice', 'age': 42})  \n",
    " print('hello')                       \n"
   ]
  },
  {
   "cell_type": "code",
   "execution_count": 15,
   "metadata": {},
   "outputs": [
    {
     "name": "stdout",
     "output_type": "stream",
     "text": [
      "hello world\n",
      "hello\\cworld\n",
      "hello world\n",
      "helloworld\n"
     ]
    }
   ],
   "source": [
    ">>> print('hello', 'world', sep=None)\n",
    "\n",
    ">>> print('hello', 'world', sep='\\c')\n",
    "\n",
    ">>> print('hello', 'world')\n",
    "print('hello', 'world', sep='')"
   ]
  },
  {
   "cell_type": "code",
   "execution_count": 18,
   "metadata": {},
   "outputs": [
    {
     "name": "stdout",
     "output_type": "stream",
     "text": [
      "\n",
      "\n"
     ]
    }
   ],
   "source": [
    "print(\"\\n\")"
   ]
  },
  {
   "cell_type": "code",
   "execution_count": 27,
   "metadata": {},
   "outputs": [
    {
     "name": "stdout",
     "output_type": "stream",
     "text": [
      "My name is lenovo and I am 25\n"
     ]
    }
   ],
   "source": [
    ">>> import os\n",
    ">>> print('My name is', os.getlogin(), 'and I am', 25)\n"
   ]
  },
  {
   "cell_type": "code",
   "execution_count": 30,
   "metadata": {},
   "outputs": [
    {
     "name": "stdout",
     "output_type": "stream",
     "text": [
      "3...2...1...Go!\n"
     ]
    }
   ],
   "source": [
    "import time\n",
    "\n",
    "num_seconds = 3\n",
    "for countdown in reversed(range(num_seconds + 1)):\n",
    "    if countdown > 0:\n",
    "        print(countdown, end='...')\n",
    "        time.sleep(1)\n",
    "    else:\n",
    "        print('Go!')"
   ]
  },
  {
   "cell_type": "code",
   "execution_count": null,
   "metadata": {},
   "outputs": [],
   "source": []
  },
  {
   "cell_type": "code",
   "execution_count": null,
   "metadata": {},
   "outputs": [],
   "source": []
  }
 ],
 "metadata": {
  "kernelspec": {
   "display_name": "Python 3",
   "language": "python",
   "name": "python3"
  },
  "language_info": {
   "codemirror_mode": {
    "name": "ipython",
    "version": 3
   },
   "file_extension": ".py",
   "mimetype": "text/x-python",
   "name": "python",
   "nbconvert_exporter": "python",
   "pygments_lexer": "ipython3",
   "version": "3.8.5"
  }
 },
 "nbformat": 4,
 "nbformat_minor": 4
}
