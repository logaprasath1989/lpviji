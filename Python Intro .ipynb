{
 "cells": [
  {
   "cell_type": "markdown",
   "metadata": {},
   "source": [
    "# Python Introduction "
   ]
  },
  {
   "cell_type": "markdown",
   "metadata": {},
   "source": [
    "Pyton is an open soure language developed  by gudio van rosum  in late 80's and relased in the year Feb 1991  version 1.0"
   ]
  },
  {
   "cell_type": "markdown",
   "metadata": {},
   "source": [
    "## python features or salient features \n",
    "\n",
    "Simple  -code or  syntax emphasizes readability ,easy to reproduce and eay to debuggng and does'nt have any complusary codeing sytle. \n",
    "\n",
    "Easy to learn -simple code snippets compare other language like c,c++,java.\n",
    "\n",
    "\n",
    "Genral purpose language - python  which words on different platforms  and domains or classes of probelm.\n",
    "\n",
    "\n",
    "Interpreted - Interactive language were  code are excuted line by line as top to bottom approch which also empahsisses is python procedural type  ,functional type. \n",
    "\n",
    "object oriented -Its support class ,encapsulation ,polymorhisum more over evrying in python is an object. \n",
    "\n",
    "High level langugae -its independent  of  working computer or hardware  and allocates memory on its own. \n",
    "\n",
    "\n",
    "Dynamic-Excutes dyanamically a nd code can be copied and used for feliaxabk develpment application\n",
    "\n",
    "Extensible-Here python written can be resued other languaes also like c,c++.\n",
    "\n",
    "Embeddable it can be embbeded with other languages also .\n",
    "\n",
    "Multi threading  -python can execute more than one proess of a program at atime\n",
    "\n"
   ]
  },
  {
   "cell_type": "markdown",
   "metadata": {},
   "source": [
    "### simple ,easy to learn and mainataine"
   ]
  },
  {
   "cell_type": "code",
   "execution_count": 7,
   "metadata": {},
   "outputs": [
    {
     "name": "stdout",
     "output_type": "stream",
     "text": [
      "helloworld\n"
     ]
    }
   ],
   "source": [
    "# printing hello word in python \n",
    "print(\"helloworld\") # simple as that ,compared to other anguages"
   ]
  },
  {
   "cell_type": "markdown",
   "metadata": {},
   "source": [
    "### Interpretd language "
   ]
  },
  {
   "cell_type": "code",
   "execution_count": 11,
   "metadata": {},
   "outputs": [
    {
     "name": "stdout",
     "output_type": "stream",
     "text": [
      "Value of a \n",
      " 5\n",
      "Value of a \n",
      " 10\n",
      "Value of a \n",
      " 15\n"
     ]
    }
   ],
   "source": [
    "a = 5\n",
    "b = 10\n",
    "c = a+b # here addition of both both variabels a+b\n",
    "\n",
    "print(\"Value of a\",\"\\n\",a)\n",
    "print(\"Value of a\",\"\\n\",b)\n",
    "print(\"Value of a\",\"\\n\",c)"
   ]
  },
  {
   "cell_type": "code",
   "execution_count": 18,
   "metadata": {},
   "outputs": [],
   "source": [
    "strings = \"lok\"\n",
    "\n",
    "integers = 1 \n",
    "\n",
    "floats = 1.1\n",
    "\n",
    "lists = [[1],2,3,4,5]"
   ]
  },
  {
   "cell_type": "markdown",
   "metadata": {},
   "source": [
    "### Everything in python is an object "
   ]
  },
  {
   "cell_type": "code",
   "execution_count": 31,
   "metadata": {},
   "outputs": [
    {
     "name": "stdout",
     "output_type": "stream",
     "text": [
      "string lok \n",
      " \btype of string  <class 'str'> \n",
      "\n",
      "integers 1 \n",
      " \btype of integrs  <class 'int'> \n",
      "\n",
      "float <class 'float'> \n",
      " \btype of float  <class 'type'> \n",
      "\n",
      "lists [[1], 2, 3, 4, 5] \n",
      " \btype of lists  <class 'type'> \n",
      "\n"
     ]
    }
   ],
   "source": [
    "print(\"string\",strings,\"\\n\",\"\\btype of string \", type(strings),end = \" \\n\\n\")\n",
    "print(\"integers\",integers,\"\\n\",\"\\btype of integrs \", type(integers),end = \" \\n\\n\")\n",
    "print(\"float\",float,\"\\n\",\"\\btype of float \", type(float),end = \" \\n\\n\")\n",
    "print(\"lists\",lists,\"\\n\",\"\\btype of lists \", type(list),end = \" \\n\\n\")"
   ]
  },
  {
   "cell_type": "markdown",
   "metadata": {},
   "source": [
    "## Applications of python \n",
    "\n",
    "web development\n",
    "\n",
    "GUI application \n",
    "\n",
    "Stats and scientfical application\n",
    "\n",
    "games\n",
    "\n",
    "bussiness analysis\n",
    "\n",
    "object detection "
   ]
  },
  {
   "cell_type": "markdown",
   "metadata": {},
   "source": [
    "## Drawbacks of python \n",
    "\n",
    "python is slow comppare to other languages c/c++"
   ]
  },
  {
   "cell_type": "code",
   "execution_count": null,
   "metadata": {},
   "outputs": [],
   "source": []
  }
 ],
 "metadata": {
  "kernelspec": {
   "display_name": "Python 3",
   "language": "python",
   "name": "python3"
  },
  "language_info": {
   "codemirror_mode": {
    "name": "ipython",
    "version": 3
   },
   "file_extension": ".py",
   "mimetype": "text/x-python",
   "name": "python",
   "nbconvert_exporter": "python",
   "pygments_lexer": "ipython3",
   "version": "3.8.5"
  }
 },
 "nbformat": 4,
 "nbformat_minor": 4
}
