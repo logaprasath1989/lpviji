{
 "cells": [
  {
   "cell_type": "markdown",
   "metadata": {},
   "source": [
    "# Tuple"
   ]
  },
  {
   "cell_type": "markdown",
   "metadata": {},
   "source": [
    "Tuple\n",
    "Python Tuple is used to store the sequence of immutable Python objects. The tuple is similar to lists since the value of the items stored in the list can be changed, whereas the tuple is immutable, and the value of the items stored in the tuple cannot be changed.\n"
   ]
  },
  {
   "cell_type": "code",
   "execution_count": 1,
   "metadata": {
    "scrolled": true
   },
   "outputs": [
    {
     "name": "stdout",
     "output_type": "stream",
     "text": [
      "['__add__', '__class__', '__contains__', '__delattr__', '__dir__', '__doc__', '__eq__', '__format__', '__ge__', '__getattribute__', '__getitem__', '__getnewargs__', '__gt__', '__hash__', '__init__', '__init_subclass__', '__iter__', '__le__', '__len__', '__lt__', '__mul__', '__ne__', '__new__', '__reduce__', '__reduce_ex__', '__repr__', '__rmul__', '__setattr__', '__sizeof__', '__str__', '__subclasshook__', 'count', 'index']"
     ]
    }
   ],
   "source": [
    "#methods and attributes of Tuple \n",
    "x=dir(())\n",
    "print(x,end=\"\")"
   ]
  },
  {
   "cell_type": "code",
   "execution_count": 5,
   "metadata": {
    "scrolled": true
   },
   "outputs": [
    {
     "name": "stdout",
     "output_type": "stream",
     "text": [
      "Help on class tuple in module builtins:\n",
      "\n",
      "class tuple(object)\n",
      " |  tuple(iterable=(), /)\n",
      " |  \n",
      " |  Built-in immutable sequence.\n",
      " |  \n",
      " |  If no argument is given, the constructor returns an empty tuple.\n",
      " |  If iterable is specified the tuple is initialized from iterable's items.\n",
      " |  \n",
      " |  If the argument is a tuple, the return value is the same object.\n",
      " |  \n",
      " |  Built-in subclasses:\n",
      " |      asyncgen_hooks\n",
      " |      UnraisableHookArgs\n",
      " |  \n",
      " |  Methods defined here:\n",
      " |  \n",
      " |  __add__(self, value, /)\n",
      " |      Return self+value.\n",
      " |  \n",
      " |  __contains__(self, key, /)\n",
      " |      Return key in self.\n",
      " |  \n",
      " |  __eq__(self, value, /)\n",
      " |      Return self==value.\n",
      " |  \n",
      " |  __ge__(self, value, /)\n",
      " |      Return self>=value.\n",
      " |  \n",
      " |  __getattribute__(self, name, /)\n",
      " |      Return getattr(self, name).\n",
      " |  \n",
      " |  __getitem__(self, key, /)\n",
      " |      Return self[key].\n",
      " |  \n",
      " |  __getnewargs__(self, /)\n",
      " |  \n",
      " |  __gt__(self, value, /)\n",
      " |      Return self>value.\n",
      " |  \n",
      " |  __hash__(self, /)\n",
      " |      Return hash(self).\n",
      " |  \n",
      " |  __iter__(self, /)\n",
      " |      Implement iter(self).\n",
      " |  \n",
      " |  __le__(self, value, /)\n",
      " |      Return self<=value.\n",
      " |  \n",
      " |  __len__(self, /)\n",
      " |      Return len(self).\n",
      " |  \n",
      " |  __lt__(self, value, /)\n",
      " |      Return self<value.\n",
      " |  \n",
      " |  __mul__(self, value, /)\n",
      " |      Return self*value.\n",
      " |  \n",
      " |  __ne__(self, value, /)\n",
      " |      Return self!=value.\n",
      " |  \n",
      " |  __repr__(self, /)\n",
      " |      Return repr(self).\n",
      " |  \n",
      " |  __rmul__(self, value, /)\n",
      " |      Return value*self.\n",
      " |  \n",
      " |  count(self, value, /)\n",
      " |      Return number of occurrences of value.\n",
      " |  \n",
      " |  index(self, value, start=0, stop=9223372036854775807, /)\n",
      " |      Return first index of value.\n",
      " |      \n",
      " |      Raises ValueError if the value is not present.\n",
      " |  \n",
      " |  ----------------------------------------------------------------------\n",
      " |  Static methods defined here:\n",
      " |  \n",
      " |  __new__(*args, **kwargs) from builtins.type\n",
      " |      Create and return a new object.  See help(type) for accurate signature.\n",
      "\n",
      "None"
     ]
    }
   ],
   "source": [
    "x=help(tuple)\n",
    "print(x,end=\"\")"
   ]
  },
  {
   "cell_type": "code",
   "execution_count": 2,
   "metadata": {
    "scrolled": true
   },
   "outputs": [
    {
     "name": "stdout",
     "output_type": "stream",
     "text": [
      "() <class 'tuple'>\n",
      "('lok', 30, '83.25') <class 'tuple'>\n",
      "('lok', 30, 83.25) <class 'type'>\n",
      "False\n",
      "True\n",
      "lok <class 'str'> 3\n",
      "('lok',) <class 'tuple'> 1\n",
      "(True, 'lok', (1, 2, 3), [4, 5, 6], (7+8j), {1: 'lok', 2: 30}, {'lok', 30}) <class 'tuple'> 7\n",
      "(1, 2, 3, (4, 5, 6.2), 7, 8, 9) <class 'tuple'> 7\n"
     ]
    }
   ],
   "source": [
    "# tuple empty set \n",
    "tup=()\n",
    "print(tup,type(tup))\n",
    "# creating a tuple \n",
    "tup1=(\"lok\",30,\"83.25\")# enclosed in paranthesis and elements are seprated by comma, \n",
    "tup=\"lok\",30,83.25 # paranthesis is optional ,were its better to practise with paranthesis\n",
    "print(tup1,type(tup1))\n",
    "print(tup,type)\n",
    "\n",
    "# ordered \n",
    "tup1=(1,2,3)\n",
    "tup2=(1,3,2)\n",
    "tup3=(1,2,3)\n",
    "print(tup1==tup2)# result in False as tuples are ordered\n",
    "print(tup1==tup3) # True as tup1 is equal to tup3\n",
    "\n",
    "# tuple with singel element \n",
    "tup2=(\"lok\")\n",
    "tup3=(\"lok\",)#Inside a paranthesis a singel element is called as string unless a common is mentioned \n",
    "print(tup2,type(tup2),len(tup2))\n",
    "print(tup3,type(tup3),len(tup3))\n",
    "\n",
    "# tuple with different data types \n",
    "tup=(True,\"lok\",(1,2,3),[4,5,6],7+8j,{1:\"lok\",2:30},{\"lok\",30})# tuple can hold mixed data types \n",
    "print(tup,type(tup),(len(tup)))\n",
    "\n",
    "#nested tuples\n",
    "tup=(1,2,3,(4,5,6.2),7,8,9)\n",
    "print(tup,type(tup),len(tup))#here each nested tuple is count as element "
   ]
  },
  {
   "cell_type": "code",
   "execution_count": 1,
   "metadata": {
    "scrolled": true
   },
   "outputs": [
    {
     "name": "stdout",
     "output_type": "stream",
     "text": [
      "(1, 2, 3)\n",
      "(1, 2, 3)\n"
     ]
    }
   ],
   "source": [
    "tupl=((((((1, 2, 3)))))) # creates a valid tuple\n",
    "print(tupl)\n",
    "# (1, 2, 3)\n",
    "tupl1=(1, 2, 3, ) # But not here\n",
    "tupl1=tuple(tupl1)\n",
    "print(tupl)# TypeError: tuple() takes at most 1 argument (3 given)"
   ]
  },
  {
   "cell_type": "code",
   "execution_count": 2,
   "metadata": {},
   "outputs": [
    {
     "name": "stdout",
     "output_type": "stream",
     "text": [
      "(0, 1, 2)\n"
     ]
    }
   ],
   "source": [
    "# Code for converting a list and a string into a tuple\n",
    "list1 = [0, 1, 2]\n",
    "list1= tuple(list1)\n",
    "print(list1)"
   ]
  },
  {
   "cell_type": "code",
   "execution_count": 27,
   "metadata": {},
   "outputs": [
    {
     "name": "stdout",
     "output_type": "stream",
     "text": [
      "+ve indexing postion 0 is:\n",
      " True\n",
      "+ve indexing postion 1 is:\n",
      " lok\n",
      "+ve indexing postion 2 is:\n",
      " (1, 2, 3)\n",
      "+ve indexing postion 2 ,0 is:\n",
      " 1\n",
      "+ve indexing postion 3 is:\n",
      " [4, 5, 6]\n",
      "+ve indexing postion 3 ,2 is:\n",
      " 6\n",
      "+ve indexing postion 4 is:\n",
      " (7+8j)\n",
      "+ve indexing postion 5 is:\n",
      " {1: 'lok', 2: 30}\n",
      "+ve indexing postion 6 is:\n",
      " {30, 'lok'}\n",
      "\n",
      "\n",
      "\n",
      "-ve indexing postion -1 is:\n",
      " {30, 'lok'}\n",
      "-ve indexing postion -2 is:\n",
      " {1: 'lok', 2: 30}\n",
      "-ve indexing postion -3 is:\n",
      " (7+8j)\n",
      "-ve indexing postion -4 is:\n",
      " [4, 5, 6]\n",
      "-ve indexing postion -4 ,0 is:\n",
      " 4\n",
      "-ve indexing postion -5 is:\n",
      " (1, 2, 3)\n",
      "-ve indexing postion -6 is:\n",
      " lok\n",
      "-ve indexing postion -6 ,2 is:\n",
      " k\n",
      "-ve indexing postion -7 is:\n",
      " True\n"
     ]
    }
   ],
   "source": [
    "#positive indexing \n",
    "tup=(True,\"lok\",(1,2,3),[4,5,6],7+8j,{1:\"lok\",2:30},{\"lok\",30}) # its a nested tupel\n",
    "print(\"+ve indexing postion 0 is:\\n\",tup[0])\n",
    "print(\"+ve indexing postion 1 is:\\n\",tup[1])\n",
    "print(\"+ve indexing postion 2 is:\\n\",tup[2])\n",
    "print(\"+ve indexing postion 2 ,0 is:\\n\",tup[2][0])\n",
    "print(\"+ve indexing postion 3 is:\\n\",tup[3])\n",
    "print(\"+ve indexing postion 3 ,2 is:\\n\",tup[3][2])\n",
    "print(\"+ve indexing postion 4 is:\\n\",tup[4])\n",
    "print(\"+ve indexing postion 5 is:\\n\",tup[5])\n",
    "print(\"+ve indexing postion 6 is:\\n\",tup[6])\n",
    "print(\"\\n\\n\")\n",
    "#negative indexing \n",
    "print(\"-ve indexing postion -1 is:\\n\",tup[-1])\n",
    "print(\"-ve indexing postion -2 is:\\n\",tup[-2])\n",
    "print(\"-ve indexing postion -3 is:\\n\",tup[-3])\n",
    "print(\"-ve indexing postion -4 is:\\n\",tup[-4])\n",
    "print(\"-ve indexing postion -4 ,0 is:\\n\",tup[-4][0])\n",
    "print(\"-ve indexing postion -5 is:\\n\",tup[-5])\n",
    "print(\"-ve indexing postion -6 is:\\n\",tup[-6])\n",
    "print(\"-ve indexing postion -6 ,2 is:\\n\",tup[-6][2])\n",
    "print(\"-ve indexing postion -7 is:\\n\",tup[-7])\n",
    "\n"
   ]
  },
  {
   "cell_type": "code",
   "execution_count": 30,
   "metadata": {},
   "outputs": [
    {
     "name": "stdout",
     "output_type": "stream",
     "text": [
      "nested slicing of -1th elements:\n",
      " {30, 'lok'}\n",
      "nested slicing of -1 to-2 elements:\n",
      " ({1: 'lok', 2: 30}, {30, 'lok'})\n",
      "nested slicing of -2 to -3 elements:\n",
      " ((7+8j), {1: 'lok', 2: 30}, {30, 'lok'})\n",
      "nested slicing of -3 to -4 elements:\n",
      " ([4, 5, 6], (7+8j), {1: 'lok', 2: 30}, {30, 'lok'})\n",
      "nested slicing of -4 to - 5 elements:\n",
      " (True, 'lok')\n",
      "nested slicing of elements by step 1:\n",
      " ({30, 'lok'},)\n",
      "nested slicing of elements by step 2:\n",
      " ((1, 2, 3), [4, 5, 6], (7+8j), {1: 'lok', 2: 30}, {30, 'lok'})\n",
      "nested slicing of elements by step 3:\n",
      " ((1, 2, 3), (7+8j), {30, 'lok'})\n"
     ]
    }
   ],
   "source": [
    "#sciling \n",
    "nested_lst=(True,\"lok\",(1,2,3),[4,5,6],7+8j,{1:\"lok\",2:30},{\"lok\",30}) # its a nested tupel\n",
    "print(\"nested slicing of -1th elements:\\n\",nested_lst[-1])\n",
    "print(\"nested slicing of -1 to-2 elements:\\n\",nested_lst[-2:])\n",
    "print(\"nested slicing of -2 to -3 elements:\\n\",nested_lst[-3:])\n",
    "print(\"nested slicing of -3 to -4 elements:\\n\",nested_lst[-4:])\n",
    "print(\"nested slicing of -4 to - 5 elements:\\n\",nested_lst[:-5])# nested slicing can not be used in end were it will give empyt list \n",
    "print(\"nested slicing of elements by step 1:\\n\",nested_lst[-1::1]) # slicing using steps \n",
    "print(\"nested slicing of elements by step 2:\\n\",nested_lst[-5::1])\n",
    "print(\"nested slicing of elements by step 3:\\n\",nested_lst[-5::2])\n"
   ]
  },
  {
   "cell_type": "code",
   "execution_count": 79,
   "metadata": {},
   "outputs": [
    {
     "name": "stdout",
     "output_type": "stream",
     "text": [
      "Python under Linux is great\n",
      "slogan[::3 is: Ph d n  e\n",
      "postion 0 is :\n",
      " True <class 'bool'> \n",
      "\n",
      "postion 1 is :\n",
      " lok <class 'str'> \n",
      "\n",
      "postion 2 is :\n",
      " (1, 2, 3) <class 'tuple'> \n",
      "\n",
      " postion 3 is :\n",
      " [4, 5, 6] <class 'list'> \n",
      "\n",
      " postion 4 is :\n",
      " (7+8j) <class 'complex'> \n",
      "\n",
      " postion 5 is :\n",
      " {1: 'lok', 2: 30} <class 'dict'> \n",
      "\n",
      " postion 6 is :\n",
      " {'lok', 30} <class 'set'>\n"
     ]
    }
   ],
   "source": [
    "#sciling  three aruguments \n",
    "# s[begin], s[begin + 1 * step], ... s[begin + i * step] for all (begin + i * step) < end.\n",
    "slogan = \"Python under Linux is great\"\n",
    "print(slogan ,sep=\"\")\n",
    "print(\"slogan[::3 is:\",slogan[::3])\n",
    "\n",
    "tup=(True,\"lok\",(1,2,3),[4,5,6],7+8j,{1:\"lok\",2:30},{\"lok\",30}) # its a nested tupel\n",
    "print(\"postion 0 is :\\n\",tup[0],type(tup[0]),'\\n\\n'\n",
    "      \"postion 1 is :\\n\",tup[1],type(tup[1]),\"\\n\\n\"\n",
    "     \"postion 2 is :\\n\",tup[2],type(tup[2]),\"\\n\\n\",\n",
    "     \"postion 3 is :\\n\",tup[3],type(tup[3]),\"\\n\\n\",\n",
    "     \"postion 4 is :\\n\",tup[4],type(tup[4]),\"\\n\\n\",\n",
    "     \"postion 5 is :\\n\",tup[5],type(tup[5]),\"\\n\\n\",\n",
    "     \"postion 6 is :\\n\",tup[6],type(tup[6]))"
   ]
  },
  {
   "cell_type": "code",
   "execution_count": 42,
   "metadata": {},
   "outputs": [
    {
     "ename": "TypeError",
     "evalue": "'tuple' object does not support item assignment",
     "output_type": "error",
     "traceback": [
      "\u001b[1;31m---------------------------------------------------------------------------\u001b[0m",
      "\u001b[1;31mTypeError\u001b[0m                                 Traceback (most recent call last)",
      "\u001b[1;32m<ipython-input-42-8dcf1aacd587>\u001b[0m in \u001b[0;36m<module>\u001b[1;34m\u001b[0m\n\u001b[0;32m      1\u001b[0m \u001b[1;31m#\u001b[0m\u001b[1;33m\u001b[0m\u001b[1;33m\u001b[0m\u001b[1;33m\u001b[0m\u001b[0m\n\u001b[0;32m      2\u001b[0m \u001b[0mtup\u001b[0m\u001b[1;33m=\u001b[0m\u001b[1;33m(\u001b[0m\u001b[1;32mTrue\u001b[0m\u001b[1;33m,\u001b[0m\u001b[1;34m\"lok\"\u001b[0m\u001b[1;33m,\u001b[0m\u001b[1;33m(\u001b[0m\u001b[1;36m1\u001b[0m\u001b[1;33m,\u001b[0m\u001b[1;36m2\u001b[0m\u001b[1;33m,\u001b[0m\u001b[1;36m3\u001b[0m\u001b[1;33m)\u001b[0m\u001b[1;33m,\u001b[0m\u001b[1;33m[\u001b[0m\u001b[1;36m4\u001b[0m\u001b[1;33m,\u001b[0m\u001b[1;36m5\u001b[0m\u001b[1;33m,\u001b[0m\u001b[1;36m6\u001b[0m\u001b[1;33m]\u001b[0m\u001b[1;33m,\u001b[0m\u001b[1;36m7\u001b[0m\u001b[1;33m+\u001b[0m\u001b[1;36m8j\u001b[0m\u001b[1;33m,\u001b[0m\u001b[1;33m{\u001b[0m\u001b[1;36m1\u001b[0m\u001b[1;33m:\u001b[0m\u001b[1;34m\"lok\"\u001b[0m\u001b[1;33m,\u001b[0m\u001b[1;36m2\u001b[0m\u001b[1;33m:\u001b[0m\u001b[1;36m30\u001b[0m\u001b[1;33m}\u001b[0m\u001b[1;33m,\u001b[0m\u001b[1;33m{\u001b[0m\u001b[1;34m\"lok\"\u001b[0m\u001b[1;33m,\u001b[0m\u001b[1;36m30\u001b[0m\u001b[1;33m}\u001b[0m\u001b[1;33m)\u001b[0m\u001b[1;33m\u001b[0m\u001b[1;33m\u001b[0m\u001b[0m\n\u001b[1;32m----> 3\u001b[1;33m \u001b[0mtup\u001b[0m\u001b[1;33m[\u001b[0m\u001b[1;36m1\u001b[0m\u001b[1;33m]\u001b[0m\u001b[1;33m=\u001b[0m\u001b[1;34m\"prasath\"\u001b[0m\u001b[1;33m\u001b[0m\u001b[1;33m\u001b[0m\u001b[0m\n\u001b[0m",
      "\u001b[1;31mTypeError\u001b[0m: 'tuple' object does not support item assignment"
     ]
    }
   ],
   "source": [
    "# tuple are immutable\n",
    "tup=(True,\"lok\",(1,2,3),[4,5,6],7+8j,{1:\"lok\",2:30},{\"lok\",30})\n",
    "tup[1]=\"prasath\""
   ]
  },
  {
   "cell_type": "code",
   "execution_count": 43,
   "metadata": {},
   "outputs": [
    {
     "name": "stdout",
     "output_type": "stream",
     "text": [
      "(True, 'lok', (1, 2, 3), ['prasath', 5, 6], (7+8j), {1: 'lok', 2: 30}, {30, 'lok'})\n"
     ]
    }
   ],
   "source": [
    "# tuple conatins list then the elements of list are muttable\n",
    "tup=(True,\"lok\",(1,2,3),[4,5,6],7+8j,{1:\"lok\",2:30},{\"lok\",30})\n",
    "tup[3][0]=\"prasath\"\n",
    "print(tup)"
   ]
  },
  {
   "cell_type": "code",
   "execution_count": 87,
   "metadata": {},
   "outputs": [
    {
     "name": "stdout",
     "output_type": "stream",
     "text": [
      "spam\tspam\tspam\t\n",
      "4\n",
      "4\n",
      "17\n",
      "pythonisfun\tpythonisfun\tpythonisfun\tpythonisfun\tpythonisfun\tpythonisfun\tpythonisfun\t\n",
      "[['a', 'b', 'c'], ['a', 'b', 'c'], ['a', 'b', 'c'], ['a', 'b', 'c']]\n",
      "[['p', 'b', 'c'], ['p', 'b', 'c'], ['p', 'b', 'c'], ['p', 'b', 'c']]\n"
     ]
    }
   ],
   "source": [
    "#tuple repetition\n",
    "\n",
    "print(\"spam\\t\" * 3,end=\"\")\n",
    "\n",
    "print('\\n4' * 2)\n",
    "\n",
    "print('17' * 1)\n",
    "\n",
    "print('pythonisfun\\t' * 7)\n",
    "\n",
    "x = [\"a\",\"b\",\"c\"]\n",
    "y = [x] * 4\n",
    "print(y)\n",
    "y[0][0]=\"p\"\n",
    "print(y)\n",
    "\n",
    "# We have assigned a new value to the first element of the first sublist of y, i.e. y[0][0] and we have \"automatically\" changed the first elements of all the sublists in y, i.e. y[1][0], y[2][0], y[3][0].\n",
    "\n",
    "#The reason is that the repetition operator \"* 4\" creates 4 references to the list x: and so it's clear that every element of y is changed, if we apply a new value to y[0][0]."
   ]
  },
  {
   "cell_type": "code",
   "execution_count": 18,
   "metadata": {},
   "outputs": [
    {
     "name": "stdout",
     "output_type": "stream",
     "text": [
      "is operation \n",
      "False\n",
      "True\n",
      "\n",
      "\n",
      "is not operation \n",
      "True\n",
      "False\n",
      "\n",
      "\n",
      "in operation \n",
      "False\n",
      "False\n",
      "\n",
      "\n",
      "not in  operation \n",
      "True\n",
      "True\n",
      "\n",
      "\n"
     ]
    }
   ],
   "source": [
    "#tuple operations\n",
    "\n",
    "tup1=(1,2,3,4,5,6)\n",
    "tup2=(4,3,5,6,7,9)\n",
    "tup3=tup1\n",
    "\n",
    "#is opeartion\n",
    "print(\"is operation \")\n",
    "print(tup1 is tup2)\n",
    "print(tup1 is tup3)\n",
    "print(\"\\n\")\n",
    "#is not operation\n",
    "print(\"is not operation \")\n",
    "print(tup1 is not  tup2)\n",
    "print(tup1 is not tup3)\n",
    "print(\"\\n\")\n",
    "#in operation \n",
    "print(\"in operation \")\n",
    "print(tup1 in tup2)\n",
    "print(tup1 in tup3)\n",
    "print(\"\\n\")\n",
    "# not  in operation\n",
    "print(\"not in  operation \")\n",
    "print(tup1  not in  tup2)\n",
    "print(tup1  not in tup3)\n",
    "print(\"\\n\")\n",
    "#packing "
   ]
  },
  {
   "cell_type": "code",
   "execution_count": 30,
   "metadata": {},
   "outputs": [
    {
     "name": "stdout",
     "output_type": "stream",
     "text": [
      "('lok', 20, '29jun1989')\n",
      "lok\n",
      "20\n",
      "29jun1989\n",
      "('lok', 20, '29jun1989')\n"
     ]
    }
   ],
   "source": [
    "#packing and unpacking of tuples\n",
    "\n",
    "#packing \n",
    "x = (\"lok\", 20, \"29jun1989\") # tuple packing is putting values or elements into tuple \n",
    "print(x)\n",
    "#unpaking -assign the RHS values into LHS , extract the values by singel variable \n",
    "# its also dictionary in tuple \n",
    "(name, age, DOB) = x # tuple is assigh RHS to above packed  LHS tuple x \n",
    "print(name)#unpacking we extract those values into a single variable.\n",
    "print(age)\n",
    "print(DOB)\n",
    "\n",
    "print(x) # above unpacking were the no.of variables LHS(3 elements) is equal to RHS(3elements) \n"
   ]
  },
  {
   "cell_type": "code",
   "execution_count": 32,
   "metadata": {
    "scrolled": true
   },
   "outputs": [
    {
     "name": "stdout",
     "output_type": "stream",
     "text": [
      "('lok', 20, '29jun1989', 'BE-Mechanical')\n"
     ]
    },
    {
     "ename": "ValueError",
     "evalue": "too many values to unpack (expected 3)",
     "output_type": "error",
     "traceback": [
      "\u001b[1;31m---------------------------------------------------------------------------\u001b[0m",
      "\u001b[1;31mValueError\u001b[0m                                Traceback (most recent call last)",
      "\u001b[1;32m<ipython-input-32-6963f952a5f4>\u001b[0m in \u001b[0;36m<module>\u001b[1;34m\u001b[0m\n\u001b[0;32m      2\u001b[0m \u001b[0my\u001b[0m\u001b[1;33m=\u001b[0m\u001b[1;34m\"lok\"\u001b[0m\u001b[1;33m,\u001b[0m \u001b[1;36m20\u001b[0m\u001b[1;33m,\u001b[0m \u001b[1;34m\"29jun1989\"\u001b[0m\u001b[1;33m,\u001b[0m\u001b[1;34m\"BE-Mechanical\"\u001b[0m\u001b[1;33m\u001b[0m\u001b[1;33m\u001b[0m\u001b[0m\n\u001b[0;32m      3\u001b[0m \u001b[0mprint\u001b[0m\u001b[1;33m(\u001b[0m\u001b[0my\u001b[0m\u001b[1;33m)\u001b[0m\u001b[1;33m\u001b[0m\u001b[1;33m\u001b[0m\u001b[0m\n\u001b[1;32m----> 4\u001b[1;33m \u001b[1;33m(\u001b[0m\u001b[0mname\u001b[0m\u001b[1;33m,\u001b[0m \u001b[0mage\u001b[0m\u001b[1;33m,\u001b[0m \u001b[0mDOB\u001b[0m\u001b[1;33m)\u001b[0m \u001b[1;33m=\u001b[0m \u001b[0my\u001b[0m\u001b[1;33m\u001b[0m\u001b[1;33m\u001b[0m\u001b[0m\n\u001b[0m\u001b[0;32m      5\u001b[0m \u001b[0mprint\u001b[0m\u001b[1;33m(\u001b[0m\u001b[0mname\u001b[0m\u001b[1;33m)\u001b[0m\u001b[1;33m\u001b[0m\u001b[1;33m\u001b[0m\u001b[0m\n\u001b[0;32m      6\u001b[0m \u001b[0mprint\u001b[0m\u001b[1;33m(\u001b[0m\u001b[0mage\u001b[0m\u001b[1;33m)\u001b[0m\u001b[1;33m\u001b[0m\u001b[1;33m\u001b[0m\u001b[0m\n",
      "\u001b[1;31mValueError\u001b[0m: too many values to unpack (expected 3)"
     ]
    }
   ],
   "source": [
    "# unpacking if LHS is not equal to RHS \n",
    "y=\"lok\", 20, \"29jun1989\",\"BE-Mechanical\"\n",
    "print(y)\n",
    "(name, age, DOB) = y\n",
    "print(name)\n",
    "print(age)\n",
    "print(DOB)"
   ]
  },
  {
   "cell_type": "code",
   "execution_count": 40,
   "metadata": {
    "scrolled": true
   },
   "outputs": [
    {
     "name": "stdout",
     "output_type": "stream",
     "text": [
      "lok\n",
      "[20, '29jun1989']\n",
      "BE-Mechanical\n",
      "lok\n",
      "20\n",
      "['29jun1989', 'BE-Mechanical']\n"
     ]
    }
   ],
   "source": [
    "# unpacking of elemenets with more arguments (*agrs)or LHS is not equal to RHS\n",
    "x , *y, z = (\"lok\", 20, \"29jun1989\",\"BE-Mechanical\")\n",
    "\n",
    "print(x)# first variable is assigned \n",
    "print(y)# all variabes apart from first and last variables are assigned \n",
    "print(z)# last variable is assigned \n",
    "# error note were the argumumnets passed like *agrs not agrs*\n",
    "x,y,*z = (\"lok\", 20, \"29jun1989\",\"BE-Mechanical\")\n",
    "print(x)# first variable is assigned \n",
    "print(y)# second variable assigned  \n",
    "print(z)# all variabes apart from first and second  variables are assigned b"
   ]
  },
  {
   "cell_type": "code",
   "execution_count": 42,
   "metadata": {},
   "outputs": [
    {
     "name": "stdout",
     "output_type": "stream",
     "text": [
      "1\n",
      "[2, 3, 4]\n"
     ]
    },
    {
     "ename": "SyntaxError",
     "evalue": "starred assignment target must be in a list or tuple (<ipython-input-42-664ab3f38e1b>, line 5)",
     "output_type": "error",
     "traceback": [
      "\u001b[1;36m  File \u001b[1;32m\"<ipython-input-42-664ab3f38e1b>\"\u001b[1;36m, line \u001b[1;32m5\u001b[0m\n\u001b[1;33m    *x = (1,2,3,4,5)\u001b[0m\n\u001b[1;37m    ^\u001b[0m\n\u001b[1;31mSyntaxError\u001b[0m\u001b[1;31m:\u001b[0m starred assignment target must be in a list or tuple\n"
     ]
    }
   ],
   "source": [
    "# unpacking a singel variable \n",
    "x,*y = (1,2,3,4)\n",
    "print(x)\n",
    "print(y)\n",
    "*x = (1,2,3,4,5)\n",
    "print(x) # error as x is not a list/tuple hence unpacking cannot occur."
   ]
  },
  {
   "cell_type": "code",
   "execution_count": 51,
   "metadata": {},
   "outputs": [
    {
     "name": "stdout",
     "output_type": "stream",
     "text": [
      "[1, 2, 3, 4, 5]\n"
     ]
    }
   ],
   "source": [
    "\n",
    "*x,= (1,2,3,4,5)\n",
    "print(x) #here a comma helps to make it a tuple \n"
   ]
  },
  {
   "cell_type": "code",
   "execution_count": 58,
   "metadata": {},
   "outputs": [
    {
     "name": "stdout",
     "output_type": "stream",
     "text": [
      "1 2 3 4\n"
     ]
    }
   ],
   "source": [
    "# unpacking using functions\n",
    "def fun(a, b, c, d):# A sample function that takes 4 arguments\n",
    "    print(a, b, c, d)\n",
    " \n",
    "# Driver Code\n",
    "my_list = [1, 2, 3, 4]\n",
    "fun(*my_list)# Unpacking list into four arguments ,were with out a unpacking arguments (my list) result in error \n"
   ]
  },
  {
   "cell_type": "code",
   "execution_count": 68,
   "metadata": {},
   "outputs": [
    {
     "name": "stdout",
     "output_type": "stream",
     "text": [
      "15\n",
      "30\n"
     ]
    }
   ],
   "source": [
    "def mySum (*args):\n",
    "    return sum(args)\n",
    " \n",
    "# Driver code\n",
    "print(mySum(1, 2, 3, 4, 5))\n",
    "print(mySum(10, 20))"
   ]
  },
  {
   "cell_type": "code",
   "execution_count": 7,
   "metadata": {},
   "outputs": [
    {
     "name": "stdout",
     "output_type": "stream",
     "text": [
      "(3, 4, 5)\n",
      "12\n"
     ]
    }
   ],
   "source": [
    "x=(range(3,6))\n",
    "args=tuple(x)\n",
    "print(args)\n",
    "def mySum(*agrs):\n",
    "    return sum(args)\n",
    " \n",
    "# Driver code\n",
    "print(mySum())\n"
   ]
  },
  {
   "cell_type": "code",
   "execution_count": 72,
   "metadata": {},
   "outputs": [
    {
     "name": "stdout",
     "output_type": "stream",
     "text": [
      "Geeksforgeeks awesome world!\n"
     ]
    }
   ],
   "source": [
    "# A Python program to demonstrate both packing and\n",
    "# unpacking.\n",
    " \n",
    "# A sample python function that takes three arguments\n",
    "# and prints them\n",
    "def fun1(a, b, c):\n",
    "    print(a, b, c)\n",
    " \n",
    "# Another sample function.\n",
    "# This is an example of PACKING. All arguments passed\n",
    "# to fun2 are packed into tuple *args.\n",
    "def fun2(*args):\n",
    " \n",
    "    # Convert args tuple to a list so we can modify it\n",
    "    args = list(args)\n",
    " \n",
    "    # Modifying args\n",
    "    args[0] = 'Geeksforgeeks'\n",
    "    args[1] = 'awesome'\n",
    " \n",
    "    # UNPACKING args and calling fun1()\n",
    "    fun1(*args)\n",
    " \n",
    "# Driver code\n",
    "fun2('Hello', 'beautiful', 'world!')"
   ]
  },
  {
   "cell_type": "code",
   "execution_count": 44,
   "metadata": {},
   "outputs": [
    {
     "name": "stdout",
     "output_type": "stream",
     "text": [
      "n is equal to:\n",
      " (1, 2)\n",
      "now tuple1 is:\n",
      " (1, 2)\n",
      "\n",
      "Tuple with a loop\n",
      "(1, 2, 1, 2)\n",
      "(1, 2, 1, 2, 1, 2, 1, 2)\n"
     ]
    }
   ],
   "source": [
    "# literation of tuples or loops\n",
    "n = tuple(range(1,2+1))\n",
    "print(\"n is equal to:\\n\",n)\n",
    "tuple1=n\n",
    "print(\"now tuple1 is:\\n\",tuple1)\n",
    "print(\"\\nTuple with a loop\")\n",
    "for i in tuple1:\n",
    "     tuple1=(tuple1+tuple1)\n",
    "     print(tuple1)"
   ]
  },
  {
   "cell_type": "code",
   "execution_count": 113,
   "metadata": {},
   "outputs": [
    {
     "name": "stdout",
     "output_type": "stream",
     "text": [
      "The count of i is: 2\n",
      "The count of p is: 0\n",
      "The count of ('a', 'b') is: 2\n",
      "The count of [3, 4] is: 1\n",
      "The index of e: 1\n"
     ]
    }
   ],
   "source": [
    "#built in methods \n",
    "\n",
    "# vowels tuple\n",
    "vowels = ('a', 'e', 'i', 'o', 'i', 'u')\n",
    "\n",
    "# count element 'i'\n",
    "count = vowels.count('i')\n",
    "\n",
    "# print count\n",
    "print('The count of i is:', count)\n",
    "\n",
    "# count element 'p'\n",
    "count = vowels.count('p')\n",
    "\n",
    "# print count\n",
    "print('The count of p is:', count)\n",
    "\n",
    "# random tuple\n",
    "random = ('a', ('a', 'b'), ('a', 'b'), [3, 4])\n",
    "\n",
    "# count element ('a', 'b')\n",
    "count = random.count(('a', 'b'))\n",
    "\n",
    "# print count\n",
    "print(\"The count of ('a', 'b') is:\", count)\n",
    "\n",
    "# count element [3, 4]\n",
    "count = random.count([3, 4])\n",
    "\n",
    "# print count\n",
    "print(\"The count of [3, 4] is:\", count)\n",
    "\n",
    "# alphabets tuple\n",
    "alphabets = ('a', 'e', 'i', 'o', 'g', 'l', 'i', 'u')\n",
    "\n",
    "# index of 'i' in alphabets\n",
    "index = alphabets.index('e')   # 2\n",
    "print('The index of e:', index)\n",
    "\n",
    "\n"
   ]
  },
  {
   "cell_type": "code",
   "execution_count": 5,
   "metadata": {},
   "outputs": [
    {
     "name": "stdout",
     "output_type": "stream",
     "text": [
      "The index of e: 1\n",
      "The index of i: 2\n",
      "The index of e: 1\n",
      "The index of i: 6\n"
     ]
    },
    {
     "ename": "ValueError",
     "evalue": "tuple.index(x): x not in tuple",
     "output_type": "error",
     "traceback": [
      "\u001b[1;31m---------------------------------------------------------------------------\u001b[0m",
      "\u001b[1;31mValueError\u001b[0m                                Traceback (most recent call last)",
      "\u001b[1;32m<ipython-input-5-81d1b03d62ae>\u001b[0m in \u001b[0;36m<module>\u001b[1;34m\u001b[0m\n\u001b[0;32m     28\u001b[0m \u001b[1;33m\u001b[0m\u001b[0m\n\u001b[0;32m     29\u001b[0m \u001b[1;31m# index of'p' is vowels\u001b[0m\u001b[1;33m\u001b[0m\u001b[1;33m\u001b[0m\u001b[1;33m\u001b[0m\u001b[0m\n\u001b[1;32m---> 30\u001b[1;33m \u001b[0mindex\u001b[0m \u001b[1;33m=\u001b[0m \u001b[0mvowels\u001b[0m\u001b[1;33m.\u001b[0m\u001b[0mindex\u001b[0m\u001b[1;33m(\u001b[0m\u001b[1;34m'p'\u001b[0m\u001b[1;33m)\u001b[0m\u001b[1;33m\u001b[0m\u001b[1;33m\u001b[0m\u001b[0m\n\u001b[0m\u001b[0;32m     31\u001b[0m \u001b[0mprint\u001b[0m\u001b[1;33m(\u001b[0m\u001b[1;34m'The index of p:'\u001b[0m\u001b[1;33m,\u001b[0m \u001b[0mindex\u001b[0m\u001b[1;33m)\u001b[0m\u001b[1;33m\u001b[0m\u001b[1;33m\u001b[0m\u001b[0m\n\u001b[0;32m     32\u001b[0m \u001b[1;33m\u001b[0m\u001b[0m\n",
      "\u001b[1;31mValueError\u001b[0m: tuple.index(x): x not in tuple"
     ]
    }
   ],
   "source": [
    "\n",
    "# vowels tuple\n",
    "vowels = ('a', 'e', 'i', 'o', 'i', 'u')\n",
    "\n",
    "# index of 'e' in vowels\n",
    "index = vowels.index('e')\n",
    "print('The index of e:', index)\n",
    "\n",
    "# element 'i' is searched\n",
    "# index of the first 'i' is returned\n",
    "index = vowels.index('i')\n",
    "\n",
    "print('The index of i:', index)\n",
    "\n",
    "# vowels tuple\n",
    "vowels = ('a', 'e', 'i', 'o', 'u')\n",
    "\n",
    "\n",
    "# alphabets tuple\n",
    "alphabets = ('a', 'e', 'i', 'o', 'g', 'l', 'i', 'u')\n",
    "\n",
    "# index of 'i' in alphabets\n",
    "index = alphabets.index('e')   # 2\n",
    "print('The index of e:', index)\n",
    "\n",
    "# 'i' after the 4th index is searched\n",
    "index = alphabets.index('i', 4)   # 6\n",
    "print('The index of i:', index)\n",
    "\n",
    "# index of'p' is vowels\n",
    "index = vowels.index('p')\n",
    "print('The index of p:', index)\n",
    "\n",
    "\n",
    "# 'i' between 3rd and 5th index is searched\n",
    "index = alphabets.index('i', 3, 5)   # Error!\n",
    "print('The index of i:', index)"
   ]
  },
  {
   "cell_type": "code",
   "execution_count": 112,
   "metadata": {},
   "outputs": [
    {
     "name": "stdout",
     "output_type": "stream",
     "text": [
      "length is:\n",
      " 4\n",
      "maximum interger is:\n",
      " 6\n",
      "minimum interger is:\n",
      " 1\n",
      "maximun string is:\n",
      " hi\n",
      "minimum string is:\n",
      " Hello\n",
      "summation of  interger is:\n",
      " 21\n",
      "check for any  boolen in tuple x:\n",
      " True\n",
      "check for any boolen in tuple y:\n",
      " True\n",
      "check for any boolen in tuple z:\n",
      " True\n",
      "check for all elements   boolen in tuple x:\n",
      " True\n",
      "check for all elements boolen in tuple y:\n",
      " True\n",
      "check for all elements boolen in tuple z:\n",
      " False\n",
      "sorted tuple a is:\n",
      " [1, 2, 3, 4, 5, 6]\n",
      "sorted tuple b is:\n",
      " ['Hello', 'Hi', 'hi']\n"
     ]
    },
    {
     "ename": "TypeError",
     "evalue": "'<' not supported between instances of 'str' and 'int'",
     "output_type": "error",
     "traceback": [
      "\u001b[1;31m---------------------------------------------------------------------------\u001b[0m",
      "\u001b[1;31mTypeError\u001b[0m                                 Traceback (most recent call last)",
      "\u001b[1;32m<ipython-input-112-b88eca82ea6f>\u001b[0m in \u001b[0;36m<module>\u001b[1;34m\u001b[0m\n\u001b[0;32m     38\u001b[0m \u001b[0mprint\u001b[0m\u001b[1;33m(\u001b[0m\u001b[1;34m\"sorted tuple a is:\\n\"\u001b[0m\u001b[1;33m,\u001b[0m\u001b[0msorted\u001b[0m\u001b[1;33m(\u001b[0m\u001b[0ma\u001b[0m\u001b[1;33m)\u001b[0m\u001b[1;33m)\u001b[0m \u001b[1;31m# for numbers\u001b[0m\u001b[1;33m\u001b[0m\u001b[1;33m\u001b[0m\u001b[0m\n\u001b[0;32m     39\u001b[0m \u001b[0mprint\u001b[0m\u001b[1;33m(\u001b[0m\u001b[1;34m\"sorted tuple b is:\\n\"\u001b[0m\u001b[1;33m,\u001b[0m\u001b[0msorted\u001b[0m\u001b[1;33m(\u001b[0m\u001b[0mb\u001b[0m\u001b[1;33m)\u001b[0m\u001b[1;33m)\u001b[0m\u001b[1;33m\u001b[0m\u001b[1;33m\u001b[0m\u001b[0m\n\u001b[1;32m---> 40\u001b[1;33m \u001b[0mprint\u001b[0m\u001b[1;33m(\u001b[0m\u001b[1;34m\"sorted tuple c is:\\n\"\u001b[0m\u001b[1;33m,\u001b[0m\u001b[0msorted\u001b[0m\u001b[1;33m(\u001b[0m\u001b[0mc\u001b[0m\u001b[1;33m)\u001b[0m\u001b[1;33m)\u001b[0m\u001b[1;33m\u001b[0m\u001b[1;33m\u001b[0m\u001b[0m\n\u001b[0m",
      "\u001b[1;31mTypeError\u001b[0m: '<' not supported between instances of 'str' and 'int'"
     ]
    }
   ],
   "source": [
    "#Built functions tuples\n",
    "my_tuple=(1,2,3,[4,5])\n",
    "\n",
    "#length function len()-returns its length.\n",
    "print(\"length is:\\n\",len(my_tuple))\n",
    "\n",
    "#max function max()-returns the item from the tuple with the highest value.\n",
    "#min  function min()- returns the item with the lowest values.\n",
    "a=(3,1,2,5,4,6)\n",
    "b=('Hi','hi','Hello')# for strings as per ASCII \n",
    "c=(a,b) # mixed string \n",
    "print(\"maximum interger is:\\n\",max(a)) # for numbers \n",
    "print(\"minimum interger is:\\n\",min(a)) # for numbers\n",
    "\n",
    "print(\"maximun string is:\\n\",max(b))\n",
    "print(\"minimum string is:\\n\",min(b)) \n",
    "\n",
    "#sum function sum()returns the arithmetic sum of all the items in the tuple.\n",
    "print(\"summation of  interger is:\\n\",sum(a))\n",
    "\n",
    "# any fucntion any()-if even one item in the tuple has a Boolean value  returns True. Otherwise, it returns False.\n",
    "# all function all()-returns True only if all items have a Boolean value of True. Otherwise, it returns False.\n",
    "x=(True,[1,2,3])\n",
    "y=('Hi','hi','Hello')\n",
    "z=(True,False)\n",
    "print(\"check for any  boolen in tuple x:\\n\",any(x))\n",
    "print(\"check for any boolen in tuple y:\\n\",any(y))\n",
    "print(\"check for any boolen in tuple z:\\n\",any(z))\n",
    "\n",
    "print(\"check for all elements   boolen in tuple x:\\n\",all(x))\n",
    "print(\"check for all elements boolen in tuple y:\\n\",all(y))\n",
    "print(\"check for all elements boolen in tuple z:\\n\",all(z))\n",
    "\n",
    "#sorted fucntion sorted()-orting is in ascending order, and it doesn’t modify the original tuple in Python.\n",
    "a=(3,1,2,5,4,6)\n",
    "b=('Hi','hi','Hello')\n",
    "c=(a,b) # mixed string \n",
    "print(\"sorted tuple a is:\\n\",sorted(a)) # for numbers \n",
    "print(\"sorted tuple b is:\\n\",sorted(b)) \n",
    "print(\"sorted tuple c is:\\n\",sorted(c)) "
   ]
  },
  {
   "cell_type": "code",
   "execution_count": 83,
   "metadata": {},
   "outputs": [
    {
     "name": "stdout",
     "output_type": "stream",
     "text": [
      "((1, 2, 3), (0, 0, 0))\n",
      "(((1, 2, 3), (0, 0, 0)), (1, 1, 1))\n",
      "((((1, 2, 3), (0, 0, 0)), (1, 1, 1)), (2, 2, 2))\n"
     ]
    }
   ],
   "source": [
    "a=1,2,3\n",
    "for i in range (0,3):\n",
    "    a=a,(i,i,i)\n",
    "    print(a)"
   ]
  },
  {
   "cell_type": "code",
   "execution_count": 2,
   "metadata": {},
   "outputs": [
    {
     "name": "stdout",
     "output_type": "stream",
     "text": [
      "[('x', 100), ('y', 200)]\n",
      "2169040632512 2169040322688\n"
     ]
    }
   ],
   "source": [
    "a = {'x':100, 'y':200}\n",
    "b = list(a.items())\n",
    "print(b) \n",
    "print(id(a),id(b))"
   ]
  },
  {
   "cell_type": "code",
   "execution_count": 3,
   "metadata": {},
   "outputs": [
    {
     "name": "stdout",
     "output_type": "stream",
     "text": [
      "Help on module keyword:\n",
      "\n",
      "NAME\n",
      "    keyword - Keywords (from \"Grammar/Grammar\")\n",
      "\n",
      "MODULE REFERENCE\n",
      "    https://docs.python.org/3.8/library/keyword\n",
      "    \n",
      "    The following documentation is automatically generated from the Python\n",
      "    source files.  It may be incomplete, incorrect or include features that\n",
      "    are considered implementation detail and may vary between Python\n",
      "    implementations.  When in doubt, consult the module reference at the\n",
      "    location listed above.\n",
      "\n",
      "DESCRIPTION\n",
      "    This file is automatically generated; please don't muck it up!\n",
      "    \n",
      "    To update the symbols in this file, 'cd' to the top directory of\n",
      "    the python source tree and run:\n",
      "    \n",
      "        python3 -m Parser.pgen.keywordgen Grammar/Grammar                                       Grammar/Tokens                                       Lib/keyword.py\n",
      "    \n",
      "    Alternatively, you can run 'make regen-keyword'.\n",
      "\n",
      "FUNCTIONS\n",
      "    iskeyword = __contains__(...) method of builtins.frozenset instance\n",
      "        x.__contains__(y) <==> y in x.\n",
      "\n",
      "DATA\n",
      "    __all__ = ['iskeyword', 'kwlist']\n",
      "    kwlist = ['False', 'None', 'True', 'and', 'as', 'assert', 'async', 'aw...\n",
      "\n",
      "FILE\n",
      "    c:\\programdata\\anaconda3\\lib\\keyword.py\n",
      "\n",
      "\n",
      "['False', 'None', 'True', 'and', 'as', 'assert', 'async', 'await', 'break', 'class', 'continue', 'def', 'del', 'elif', 'else', 'except', 'finally', 'for', 'from', 'global', 'if', 'import', 'in', 'is', 'lambda', 'nonlocal', 'not', 'or', 'pass', 'raise', 'return', 'try', 'while', 'with', 'yield']\n"
     ]
    }
   ],
   "source": [
    "import keyword\n",
    "help(keyword)\n",
    "print(keyword.kwlist)"
   ]
  },
  {
   "cell_type": "code",
   "execution_count": null,
   "metadata": {},
   "outputs": [],
   "source": []
  }
 ],
 "metadata": {
  "kernelspec": {
   "display_name": "Python 3",
   "language": "python",
   "name": "python3"
  },
  "language_info": {
   "codemirror_mode": {
    "name": "ipython",
    "version": 3
   },
   "file_extension": ".py",
   "mimetype": "text/x-python",
   "name": "python",
   "nbconvert_exporter": "python",
   "pygments_lexer": "ipython3",
   "version": "3.8.5"
  }
 },
 "nbformat": 4,
 "nbformat_minor": 4
}
