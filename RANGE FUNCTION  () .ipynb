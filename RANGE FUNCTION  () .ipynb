{
 "cells": [
  {
   "cell_type": "markdown",
   "metadata": {},
   "source": [
    "Rang function \n",
    "range() allows you to generate a series of numbers within a given range (arithmetic progressions) . Depending on how many arguments you pass to the function, you can decide where that series of numbers will begin and end as well as how big the difference will be between one number and the next.\n",
    "\n",
    "start: integer starting from which the sequence of integers is to be returned\n",
    "\n",
    "stop: integer before which the sequence of integers is to be returned.The range of integers end at stop – 1\n",
    "\n",
    "step: integer value which determines the increment between each integer in the sequence\n"
   ]
  },
  {
   "cell_type": "code",
   "execution_count": 1,
   "metadata": {},
   "outputs": [
    {
     "name": "stdout",
     "output_type": "stream",
     "text": [
      "range function ()\n",
      "syntax:range(start,end,step)\n"
     ]
    }
   ],
   "source": [
    "# range syntax \n",
    "#range function is  were range followed by open and close brackets inside which it takes three arguments\n",
    "print(\"range function ()\")\n",
    "print(\"syntax:range(start,end,step)\")"
   ]
  },
  {
   "cell_type": "code",
   "execution_count": 2,
   "metadata": {},
   "outputs": [
    {
     "name": "stdout",
     "output_type": "stream",
     "text": [
      "['__bool__', '__class__', '__contains__', '__delattr__', '__dir__', '__doc__', '__eq__', '__format__', '__ge__', '__getattribute__', '__getitem__', '__gt__', '__hash__', '__init__', '__init_subclass__', '__iter__', '__le__', '__len__', '__lt__', '__ne__', '__new__', '__reduce__', '__reduce_ex__', '__repr__', '__reversed__', '__setattr__', '__sizeof__', '__str__', '__subclasshook__', 'count', 'index', 'start', 'step', 'stop']"
     ]
    }
   ],
   "source": [
    "#methods and attributes of range \n",
    "x=dir(range)\n",
    "print(x,end=\"\")"
   ]
  },
  {
   "cell_type": "code",
   "execution_count": 3,
   "metadata": {},
   "outputs": [
    {
     "name": "stdout",
     "output_type": "stream",
     "text": [
      "Help on class range in module builtins:\n",
      "\n",
      "class range(object)\n",
      " |  range(stop) -> range object\n",
      " |  range(start, stop[, step]) -> range object\n",
      " |  \n",
      " |  Return an object that produces a sequence of integers from start (inclusive)\n",
      " |  to stop (exclusive) by step.  range(i, j) produces i, i+1, i+2, ..., j-1.\n",
      " |  start defaults to 0, and stop is omitted!  range(4) produces 0, 1, 2, 3.\n",
      " |  These are exactly the valid indices for a list of 4 elements.\n",
      " |  When step is given, it specifies the increment (or decrement).\n",
      " |  \n",
      " |  Methods defined here:\n",
      " |  \n",
      " |  __bool__(self, /)\n",
      " |      self != 0\n",
      " |  \n",
      " |  __contains__(self, key, /)\n",
      " |      Return key in self.\n",
      " |  \n",
      " |  __eq__(self, value, /)\n",
      " |      Return self==value.\n",
      " |  \n",
      " |  __ge__(self, value, /)\n",
      " |      Return self>=value.\n",
      " |  \n",
      " |  __getattribute__(self, name, /)\n",
      " |      Return getattr(self, name).\n",
      " |  \n",
      " |  __getitem__(self, key, /)\n",
      " |      Return self[key].\n",
      " |  \n",
      " |  __gt__(self, value, /)\n",
      " |      Return self>value.\n",
      " |  \n",
      " |  __hash__(self, /)\n",
      " |      Return hash(self).\n",
      " |  \n",
      " |  __iter__(self, /)\n",
      " |      Implement iter(self).\n",
      " |  \n",
      " |  __le__(self, value, /)\n",
      " |      Return self<=value.\n",
      " |  \n",
      " |  __len__(self, /)\n",
      " |      Return len(self).\n",
      " |  \n",
      " |  __lt__(self, value, /)\n",
      " |      Return self<value.\n",
      " |  \n",
      " |  __ne__(self, value, /)\n",
      " |      Return self!=value.\n",
      " |  \n",
      " |  __reduce__(...)\n",
      " |      Helper for pickle.\n",
      " |  \n",
      " |  __repr__(self, /)\n",
      " |      Return repr(self).\n",
      " |  \n",
      " |  __reversed__(...)\n",
      " |      Return a reverse iterator.\n",
      " |  \n",
      " |  count(...)\n",
      " |      rangeobject.count(value) -> integer -- return number of occurrences of value\n",
      " |  \n",
      " |  index(...)\n",
      " |      rangeobject.index(value) -> integer -- return index of value.\n",
      " |      Raise ValueError if the value is not present.\n",
      " |  \n",
      " |  ----------------------------------------------------------------------\n",
      " |  Static methods defined here:\n",
      " |  \n",
      " |  __new__(*args, **kwargs) from builtins.type\n",
      " |      Create and return a new object.  See help(type) for accurate signature.\n",
      " |  \n",
      " |  ----------------------------------------------------------------------\n",
      " |  Data descriptors defined here:\n",
      " |  \n",
      " |  start\n",
      " |  \n",
      " |  step\n",
      " |  \n",
      " |  stop\n",
      "\n",
      "None"
     ]
    }
   ],
   "source": [
    "#methods and attributes of set \n",
    "x=help(range)\n",
    "print(x,end=\"\")"
   ]
  },
  {
   "cell_type": "code",
   "execution_count": 4,
   "metadata": {},
   "outputs": [
    {
     "name": "stdout",
     "output_type": "stream",
     "text": [
      "range(0, 5)\n",
      "\n",
      "range() function within a iterate function:\n",
      "list(range(0,5))= [0, 1, 2, 3, 4]\n",
      "\n",
      "range assigend with start:\n",
      "range(1,5)= [1, 2, 3, 4]\n",
      "\n",
      "range assigend without start defaults to 0:\n",
      "range(10)= [0, 1, 2, 3, 4, 5, 6, 7, 8, 9]\n",
      "\n",
      "range is always assigend with end:\n",
      "range(5,10)= (5, 6, 7, 8, 9)\n",
      "range(i, j) produces i, i+1, i+2, ..., j-1.\n",
      "\n",
      "if end > step result without step produce emptylist :\n",
      "range(15,5)= [] <class 'list'>\n",
      "\n",
      "if end=0 result without step produce emptylist :\n",
      "range(15,0)= [] <class 'list'>\n",
      "range with out an end results in syntax error\n",
      "\n",
      "range functon with set():\n",
      " {1, 2, 3, 4, 5, 6, 7, 8, 9}\n",
      "\n",
      "indexing the element of set using range:\n",
      "range(10)[5]= 5\n",
      "\n",
      "slicing the element of set using range:\n",
      "range(10)[2:5]= range(2, 5)\n",
      "\n",
      "range with step increment\n",
      "\n",
      "range with step increment:\n",
      "range(1,10,2)= {1, 3, 5, 7, 9}\n",
      "\n",
      "range(i,j,n) produces i, i+n,(i+n)+n, ..., j-1.its starti and end j-1 and step preceding  by n\n",
      "\n",
      "range with step decrement\n",
      "\n",
      "decrement points to look \n",
      " i>jstep is negative(-n)\n",
      " i>j(i,j,-n)\n",
      " i>j(i,-j,-n)\n",
      "range  decrement with i>jstep (-n):\n",
      "range(10, 0, -2)= [10, 8, 6, 4, 2]\n",
      "\n",
      "range  decrement with  i>j(i,j,-n):\n",
      "range(30, 2, -4)= [30, 26, 22, 18, 14, 10, 6, 2]\n",
      "\n",
      "range  decrement with i>j(i,-j,-n):\n",
      "range(25, -6, -3)= [25, 22, 19, 16, 13, 10, 7, 4, 1, -2, -5]\n"
     ]
    }
   ],
   "source": [
    "# range function\n",
    "#define or assign range function ()\n",
    "print(range(0,5) )# range is assgined inside a print() function with  start and stop \n",
    "# this  because it generates sries of numbers when its iterate or put into iterate function \n",
    "\n",
    "# range into a function \n",
    "x=list(range(0,5)) # it can support list ,tuple,dict,set and len functions \n",
    "print(\"\\nrange() function within a iterate function:\\nlist(range(0,5))=\",x)\n",
    "\n",
    "#start in range function \n",
    "start=list(range(1,5)) \n",
    "print(\"\\nrange assigend with start:\\nrange(1,5)=\",start)\n",
    "Without_start=list(range(10))\n",
    "print(\"\\nrange assigend without start defaults to 0:\\nrange(10)=\",Without_start)\n",
    "\n",
    "#end in range function \n",
    "end=tuple(range(5,10))\n",
    "print(\"\\nrange is always assigend with end:\\nrange(5,10)=\",end)\n",
    "print(\"range(i, j) produces i, i+1, i+2, ..., j-1.\")\n",
    "reverse=list(range(15,5))\n",
    "print(\"\\nif end > step result without step produce emptylist :\\nrange(15,5)=\",reverse,type(reverse))\n",
    "end_zero=list(range(15,0))\n",
    "print(\"\\nif end=0 result without step produce emptylist :\\nrange(15,0)=\",end_zero,type(end_zero))\n",
    "# range with out an end results in sytax error \n",
    "print(\"range with out an end results in syntax error\\n\")\n",
    "\n",
    "# index in range function \n",
    "index=set(range(1,10))\n",
    "print(\"range functon with set():\\n\",index)\n",
    "print(\"\\nindexing the element of set using range:\\nrange(10)[5]=\",range(10)[5])\n",
    "print(\"\\nslicing the element of set using range:\\nrange(10)[2:5]=\",range(10)[2:5])\n",
    "\n",
    "#range with step increment \n",
    "print(\"\\nrange with step increment\")\n",
    "x=set(range(1,10,2))\n",
    "print(\"\\nrange with step increment:\\nrange(1,10,2)=\",x)\n",
    "print(\"\\nrange(i,j,n) produces i, i+n,(i+n)+n, ..., j-1.its starti and end j-1 and step preceding  by n\")\n",
    "\n",
    "#range with step Decrement  \n",
    "print(\"\\nrange with step decrement\")\n",
    "print(\"\\ndecrement points to look \\n i>jstep is negative(-n)\\n i>j(i,j,-n)\\n i>j(i,-j,-n)\",end=\"\")\n",
    "x=list(range(10, 0, -2))\n",
    "print(\"\\nrange  decrement with i>jstep (-n):\\nrange(10, 0, -2)=\",x)\n",
    "y=list(range(30, 0, -4))\n",
    "print(\"\\nrange  decrement with  i>j(i,j,-n):\\nrange(30, 2, -4)=\",y)\n",
    "z=list(range(25,-6, -3))\n",
    "print(\"\\nrange  decrement with i>j(i,-j,-n):\\nrange(25, -6, -3)=\",z)"
   ]
  },
  {
   "cell_type": "code",
   "execution_count": 5,
   "metadata": {},
   "outputs": [
    {
     "name": "stdout",
     "output_type": "stream",
     "text": [
      "range in for loop\n",
      "\n",
      "0 1 2 3 4 5 6 7 8 9 \n",
      "\n",
      "range in for loop with len()\n",
      "\n",
      "10 20 30 40 \n",
      "\n",
      "range in for loop with reverse()\n",
      "\n",
      "9876543210\n",
      "range in for loop with summation\n",
      "\n",
      "Sum of first 10 natural number : 55\n"
     ]
    }
   ],
   "source": [
    "# iterate range function using loop\n",
    "\n",
    "# printing a number\n",
    "print(\"range in for loop\\n\")\n",
    "for i in range(10):\n",
    "    print(i, end =\" \")\n",
    "print()\n",
    "\n",
    "# using range for iteration\n",
    "print(\"\\nrange in for loop with len()\\n\")\n",
    "l = [10, 20, 30, 40]\n",
    "for i in range(len(l)):\n",
    "    print(l[i], end =\" \")\n",
    "print()\n",
    "\n",
    "# using range for iteration inside reverse \n",
    "print(\"\\nrange in for loop with reverse()\\n\")\n",
    "for i in reversed(range(10)):\n",
    "    print(i,end=\"\")\n",
    "    \n",
    "# performing sum of natural\n",
    "# number\n",
    "print(\"\\nrange in for loop with summation\\n\")\n",
    "sum = 0\n",
    "for i in range(1, 11):\n",
    "    sum = sum + i\n",
    "print(\"Sum of first 10 natural number :\", sum)\n"
   ]
  },
  {
   "cell_type": "code",
   "execution_count": 6,
   "metadata": {},
   "outputs": [
    {
     "name": "stdout",
     "output_type": "stream",
     "text": [
      "\n",
      "range in for loop with increment\n",
      "\n",
      "2 4 6 8 10 12 14 16 18 20 22 24 \n",
      "0 4 8 12 16 20 24 28 \n",
      "15 18 21 24 "
     ]
    }
   ],
   "source": [
    "# Python program to\n",
    "# increment with\n",
    "# range()\n",
    "print(\"\\nrange in for loop with increment\\n\")\n",
    "# incremented by 2\n",
    "for i in range(2, 25, 2):\n",
    "    print(i, end =\" \")\n",
    "print()\n",
    "  \n",
    "# incremented by 4\n",
    "for i in range(0, 30, 4):\n",
    "    print(i, end =\" \")\n",
    "print()\n",
    "  \n",
    "# incremented by 3\n",
    "for i in range(15, 25, 3):\n",
    "    print(i, end =\" \")"
   ]
  },
  {
   "cell_type": "code",
   "execution_count": 7,
   "metadata": {},
   "outputs": [
    {
     "name": "stdout",
     "output_type": "stream",
     "text": [
      "\n",
      "range in for loop with decrement\n",
      "\n",
      "incremented by -2\n",
      "25 23 21 19 17 15 13 11 9 7 5 3 \n",
      "incremented by -4\n",
      "30 26 22 18 14 10 6 2 \n",
      "incremented by -3\n",
      "25 22 19 16 13 10 7 4 1 -2 -5 "
     ]
    }
   ],
   "source": [
    "# Python program to\n",
    "# decrement with\n",
    "# range()\n",
    "print(\"\\nrange in for loop with decrement\\n\")\n",
    "# incremented by -2\n",
    "print(\"incremented by -2\")\n",
    "for i in range(25, 2, -2):\n",
    "    print(i, end =\" \")\n",
    "print()\n",
    "\n",
    "# incremented by -4\n",
    "print(\"incremented by -4\")\n",
    "for i in range(30, 1, -4):\n",
    "    print(i, end =\" \")\n",
    "print()\n",
    "\n",
    "# incremented by -3\n",
    "print(\"incremented by -3\")\n",
    "for i in range(25, -6, -3):\n",
    "    print(i, end =\" \")\n"
   ]
  },
  {
   "cell_type": "code",
   "execution_count": 8,
   "metadata": {},
   "outputs": [
    {
     "name": "stdout",
     "output_type": "stream",
     "text": [
      "\n",
      "float in range function range(1,5.5)\n",
      "\n"
     ]
    },
    {
     "ename": "TypeError",
     "evalue": "'float' object cannot be interpreted as an integer",
     "output_type": "error",
     "traceback": [
      "\u001b[1;31m---------------------------------------------------------------------------\u001b[0m",
      "\u001b[1;31mTypeError\u001b[0m                                 Traceback (most recent call last)",
      "\u001b[1;32m<ipython-input-8-5560d555321a>\u001b[0m in \u001b[0;36m<module>\u001b[1;34m\u001b[0m\n\u001b[0;32m      1\u001b[0m \u001b[1;31m# float in range function\u001b[0m\u001b[1;33m\u001b[0m\u001b[1;33m\u001b[0m\u001b[1;33m\u001b[0m\u001b[0m\n\u001b[0;32m      2\u001b[0m \u001b[0mprint\u001b[0m\u001b[1;33m(\u001b[0m\u001b[1;34m\"\\nfloat in range function range(1,5.5)\\n\"\u001b[0m\u001b[1;33m)\u001b[0m\u001b[1;33m\u001b[0m\u001b[1;33m\u001b[0m\u001b[0m\n\u001b[1;32m----> 3\u001b[1;33m \u001b[0mfloat1\u001b[0m\u001b[1;33m=\u001b[0m\u001b[0mlist\u001b[0m\u001b[1;33m(\u001b[0m\u001b[0mrange\u001b[0m\u001b[1;33m(\u001b[0m\u001b[1;36m1\u001b[0m\u001b[1;33m,\u001b[0m\u001b[1;36m5.5\u001b[0m\u001b[1;33m)\u001b[0m\u001b[1;33m)\u001b[0m\u001b[1;33m\u001b[0m\u001b[1;33m\u001b[0m\u001b[0m\n\u001b[0m",
      "\u001b[1;31mTypeError\u001b[0m: 'float' object cannot be interpreted as an integer"
     ]
    }
   ],
   "source": [
    "# float in range function \n",
    "print(\"\\nfloat in range function range(1,5.5)\\n\")\n",
    "float1=list(range(1,5.5)) "
   ]
  },
  {
   "cell_type": "code",
   "execution_count": 1,
   "metadata": {},
   "outputs": [
    {
     "name": "stdout",
     "output_type": "stream",
     "text": [
      "0.3\n",
      "0.6\n",
      "0.8999999999999999\n",
      "1.2\n",
      "1.5\n"
     ]
    }
   ],
   "source": [
    "# float as array using numpy \n",
    "\n",
    "import numpy as np\n",
    "\n",
    "np.arange(0.3, 1.6, 0.3)\n",
    "\n",
    "\n",
    "for i in np.arange(0.3, 1.6, 0.3):\n",
    "    print(i)\n"
   ]
  },
  {
   "cell_type": "code",
   "execution_count": 3,
   "metadata": {},
   "outputs": [
    {
     "name": "stdout",
     "output_type": "stream",
     "text": [
      "6 *\n",
      "5 *\n",
      "4 *\n",
      "3 *\n"
     ]
    }
   ],
   "source": [
    "for i in range(5 + 1, 2, -1):   \n",
    "    print(i,\"*\")"
   ]
  },
  {
   "cell_type": "code",
   "execution_count": 65,
   "metadata": {},
   "outputs": [
    {
     "name": "stdout",
     "output_type": "stream",
     "text": [
      "* \n",
      "\n",
      "* * \n",
      "\n",
      "* * * \n",
      "\n",
      "* * * * \n",
      "\n",
      "* * * * * \n",
      "\n"
     ]
    }
   ],
   "source": [
    "\n",
    "for i in range (1,6,1):\n",
    "    for j in range(0,i):\n",
    "        print(\"*\",end = \" \")\n",
    "    print(\"\\n\")\n",
    "        \n",
    "    \n",
    "    "
   ]
  },
  {
   "cell_type": "code",
   "execution_count": 4,
   "metadata": {},
   "outputs": [
    {
     "name": "stdout",
     "output_type": "stream",
     "text": [
      "Enter5\n"
     ]
    }
   ],
   "source": [
    "x = int(input(\"Enter\"))\n",
    "i = 0\n",
    "while (i>=5):    \n",
    "     i = i+1\n",
    "     x = \"*\" * i\n",
    "     print(x , end = \" \")\n",
    "        \n",
    "   "
   ]
  },
  {
   "cell_type": "code",
   "execution_count": 2,
   "metadata": {},
   "outputs": [
    {
     "name": "stdout",
     "output_type": "stream",
     "text": [
      "Enter5\n"
     ]
    }
   ],
   "source": [
    "x = int(input(\"Enter\"))\n",
    "i = 0\n",
    "while (i>=x):    \n",
    "     i = i+1\n",
    "     y = \"*\" * i\n",
    "     print(x , end = \" \")\n",
    "        "
   ]
  },
  {
   "cell_type": "code",
   "execution_count": 45,
   "metadata": {},
   "outputs": [
    {
     "name": "stdout",
     "output_type": "stream",
     "text": [
      "enter5\n",
      "**  \n",
      "***  \n",
      "****  \n",
      "*****  \n",
      "******  \n"
     ]
    }
   ],
   "source": [
    "a = int(input(\"enter\"))\n",
    "i = 1\n",
    "j=1\n",
    "while (i<= a):               \n",
    "    while j <= i:\n",
    "        j+=1\n",
    "        print(\"*\" * j,end = \" \")      \n",
    "    i=1+i\n",
    "    print(\" \")\n",
    "   \n",
    "    \n",
    "    \n",
    "    \n"
   ]
  },
  {
   "cell_type": "code",
   "execution_count": 51,
   "metadata": {},
   "outputs": [
    {
     "name": "stdout",
     "output_type": "stream",
     "text": [
      "enter5\n",
      "*   \n",
      "**   \n",
      "***   \n",
      "****   \n",
      "*****   \n"
     ]
    }
   ],
   "source": [
    "a = int(input(\"enter\"))\n",
    "i = 1\n",
    "j=1\n",
    "while (i<= a):      \n",
    "    while j <= i:        \n",
    "        print(\"*\" * j,end = \" \")\n",
    "        j+=1   \n",
    "    i=1+i\n",
    "    print(end = \" \")\n",
    "    print(\" \")\n",
    "   \n",
    "    \n",
    "    "
   ]
  },
  {
   "cell_type": "code",
   "execution_count": 26,
   "metadata": {},
   "outputs": [
    {
     "name": "stdout",
     "output_type": "stream",
     "text": [
      "11\n"
     ]
    }
   ],
   "source": [
    "x = \"logaprasath\"\n",
    "y =len(x)\n",
    "print(y)\n",
    "\n"
   ]
  },
  {
   "cell_type": "code",
   "execution_count": 23,
   "metadata": {},
   "outputs": [
    {
     "name": "stdout",
     "output_type": "stream",
     "text": [
      "Enter the number of rows:5\n",
      "        * \n",
      "      * * \n",
      "    * * * \n",
      "  * * * * \n",
      "* * * * * \n"
     ]
    }
   ],
   "source": [
    "rows = int(input(\"Enter the number of rows:\"))  \n",
    "k = 2 * rows - 2  # It is used for number of spaces  \n",
    "for i in range(0, rows):  \n",
    "    for j in range(0, k):  \n",
    "        print(end=\" \")  \n",
    "    k = k - 2   # decrement k value after each iteration  \n",
    "    for j in range(0, i + 1):  \n",
    "        print(\"* \", end=\"\")  # printing star  \n",
    "    print(\"\") \n"
   ]
  },
  {
   "cell_type": "code",
   "execution_count": 47,
   "metadata": {},
   "outputs": [
    {
     "name": "stdout",
     "output_type": "stream",
     "text": [
      "Enter the number of rows:5\n",
      "        * \n",
      "      * * \n",
      "    * * * \n",
      "  * * * * \n",
      "* * * * * \n"
     ]
    }
   ],
   "source": [
    "rows = int(input(\"Enter the number of rows:\"))  \n",
    "k = 2 * rows - 2  # It is used for number of spaces  \n",
    "for i in range(0, rows):  \n",
    "    for j in range(0, k):  \n",
    "        print(end=\" \")  \n",
    "    k = k - 2   # decrement k value after each iteration  \n",
    "    for j in range(0, i + 1):  \n",
    "        print(\"* \", end=\"\")  # printing star  \n",
    "    print(\"\")  "
   ]
  },
  {
   "cell_type": "code",
   "execution_count": 6,
   "metadata": {},
   "outputs": [
    {
     "name": "stdout",
     "output_type": "stream",
     "text": [
      "string is even \n"
     ]
    },
    {
     "data": {
      "text/plain": [
       "12"
      ]
     },
     "execution_count": 6,
     "metadata": {},
     "output_type": "execute_result"
    }
   ],
   "source": [
    "name = \"logaprasathr\"\n",
    "length = len(name)\n",
    "if length %2 != 0:\n",
    "    middel = length//2\n",
    "    print(middel)\n",
    "else: \n",
    "    print(\"string is even \")\n",
    "    \n",
    "length"
   ]
  },
  {
   "cell_type": "code",
   "execution_count": 8,
   "metadata": {},
   "outputs": [
    {
     "data": {
      "text/plain": [
       "'r'"
      ]
     },
     "execution_count": 8,
     "metadata": {},
     "output_type": "execute_result"
    }
   ],
   "source": [
    "name[middel]"
   ]
  },
  {
   "cell_type": "code",
   "execution_count": 20,
   "metadata": {},
   "outputs": [
    {
     "name": "stdout",
     "output_type": "stream",
     "text": [
      "l\n",
      "p\n",
      "a\n",
      "g\n",
      "o\n",
      "l\n",
      "r\n",
      "h\n",
      "t\n",
      "a\n",
      "s\n",
      "a\n"
     ]
    }
   ],
   "source": [
    "a= 0\n",
    "for i in range (0,length):\n",
    "    for j in range (0,i):      \n",
    "        x = name[middel-a]\n",
    "    a+=1\n",
    "    print(x)"
   ]
  },
  {
   "cell_type": "code",
   "execution_count": null,
   "metadata": {},
   "outputs": [],
   "source": [
    "\n",
    "\n",
    "    "
   ]
  }
 ],
 "metadata": {
  "kernelspec": {
   "display_name": "Python 3",
   "language": "python",
   "name": "python3"
  },
  "language_info": {
   "codemirror_mode": {
    "name": "ipython",
    "version": 3
   },
   "file_extension": ".py",
   "mimetype": "text/x-python",
   "name": "python",
   "nbconvert_exporter": "python",
   "pygments_lexer": "ipython3",
   "version": "3.8.5"
  }
 },
 "nbformat": 4,
 "nbformat_minor": 4
}
