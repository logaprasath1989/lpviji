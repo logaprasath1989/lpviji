{
 "cells": [
  {
   "cell_type": "markdown",
   "metadata": {},
   "source": [
    "DICTIONARY"
   ]
  },
  {
   "cell_type": "markdown",
   "metadata": {},
   "source": [
    "Python Dictionary is used to store the data in a key-value pair format. The dictionary is the data type in Python, which can simulate the real-life data arrangement where some specific value exists for some particular key. It is the mutable data-structure. The dictionary is defined into element Keys and values.dictionaries are mapping objects\n",
    "\n",
    "Keys must be a single element\n",
    "Keys in a dictionary doesn’t allows Polymorphism.\n",
    "Value can be any type such as list, tuple, integer, etc.\n",
    "\n",
    "In other words, we can say that a dictionary is the collection of key-value pairs where the value can be any Python object. In contrast, the keys are the immutable Python object, i.e., Numbers, string, or tuple.\n",
    "\n",
    "(LHS):(RHS)\n",
    "\n",
    "'key'  : 'Values'"
   ]
  },
  {
   "cell_type": "markdown",
   "metadata": {},
   "source": [
    "Creating Dictionary"
   ]
  },
  {
   "cell_type": "code",
   "execution_count": 63,
   "metadata": {
    "scrolled": true
   },
   "outputs": [
    {
     "name": "stdout",
     "output_type": "stream",
     "text": [
      "['__class__', '__contains__', '__delattr__', '__delitem__', '__dir__', '__doc__', '__eq__', '__format__', '__ge__', '__getattribute__', '__getitem__', '__gt__', '__hash__', '__init__', '__init_subclass__', '__iter__', '__le__', '__len__', '__lt__', '__ne__', '__new__', '__reduce__', '__reduce_ex__', '__repr__', '__reversed__', '__setattr__', '__setitem__', '__sizeof__', '__str__', '__subclasshook__', 'clear', 'copy', 'fromkeys', 'get', 'items', 'keys', 'pop', 'popitem', 'setdefault', 'update', 'values']"
     ]
    }
   ],
   "source": [
    "#methods and attributes of dictionary \n",
    "x=dir({})\n",
    "print(x,end=\"\")"
   ]
  },
  {
   "cell_type": "code",
   "execution_count": 64,
   "metadata": {},
   "outputs": [
    {
     "name": "stdout",
     "output_type": "stream",
     "text": [
      "Help on class dict in module builtins:\n",
      "\n",
      "class dict(object)\n",
      " |  dict() -> new empty dictionary\n",
      " |  dict(mapping) -> new dictionary initialized from a mapping object's\n",
      " |      (key, value) pairs\n",
      " |  dict(iterable) -> new dictionary initialized as if via:\n",
      " |      d = {}\n",
      " |      for k, v in iterable:\n",
      " |          d[k] = v\n",
      " |  dict(**kwargs) -> new dictionary initialized with the name=value pairs\n",
      " |      in the keyword argument list.  For example:  dict(one=1, two=2)\n",
      " |  \n",
      " |  Built-in subclasses:\n",
      " |      StgDict\n",
      " |  \n",
      " |  Methods defined here:\n",
      " |  \n",
      " |  __contains__(self, key, /)\n",
      " |      True if the dictionary has the specified key, else False.\n",
      " |  \n",
      " |  __delitem__(self, key, /)\n",
      " |      Delete self[key].\n",
      " |  \n",
      " |  __eq__(self, value, /)\n",
      " |      Return self==value.\n",
      " |  \n",
      " |  __ge__(self, value, /)\n",
      " |      Return self>=value.\n",
      " |  \n",
      " |  __getattribute__(self, name, /)\n",
      " |      Return getattr(self, name).\n",
      " |  \n",
      " |  __getitem__(...)\n",
      " |      x.__getitem__(y) <==> x[y]\n",
      " |  \n",
      " |  __gt__(self, value, /)\n",
      " |      Return self>value.\n",
      " |  \n",
      " |  __init__(self, /, *args, **kwargs)\n",
      " |      Initialize self.  See help(type(self)) for accurate signature.\n",
      " |  \n",
      " |  __iter__(self, /)\n",
      " |      Implement iter(self).\n",
      " |  \n",
      " |  __le__(self, value, /)\n",
      " |      Return self<=value.\n",
      " |  \n",
      " |  __len__(self, /)\n",
      " |      Return len(self).\n",
      " |  \n",
      " |  __lt__(self, value, /)\n",
      " |      Return self<value.\n",
      " |  \n",
      " |  __ne__(self, value, /)\n",
      " |      Return self!=value.\n",
      " |  \n",
      " |  __repr__(self, /)\n",
      " |      Return repr(self).\n",
      " |  \n",
      " |  __reversed__(self, /)\n",
      " |      Return a reverse iterator over the dict keys.\n",
      " |  \n",
      " |  __setitem__(self, key, value, /)\n",
      " |      Set self[key] to value.\n",
      " |  \n",
      " |  __sizeof__(...)\n",
      " |      D.__sizeof__() -> size of D in memory, in bytes\n",
      " |  \n",
      " |  clear(...)\n",
      " |      D.clear() -> None.  Remove all items from D.\n",
      " |  \n",
      " |  copy(...)\n",
      " |      D.copy() -> a shallow copy of D\n",
      " |  \n",
      " |  get(self, key, default=None, /)\n",
      " |      Return the value for key if key is in the dictionary, else default.\n",
      " |  \n",
      " |  items(...)\n",
      " |      D.items() -> a set-like object providing a view on D's items\n",
      " |  \n",
      " |  keys(...)\n",
      " |      D.keys() -> a set-like object providing a view on D's keys\n",
      " |  \n",
      " |  pop(...)\n",
      " |      D.pop(k[,d]) -> v, remove specified key and return the corresponding value.\n",
      " |      If key is not found, d is returned if given, otherwise KeyError is raised\n",
      " |  \n",
      " |  popitem(self, /)\n",
      " |      Remove and return a (key, value) pair as a 2-tuple.\n",
      " |      \n",
      " |      Pairs are returned in LIFO (last-in, first-out) order.\n",
      " |      Raises KeyError if the dict is empty.\n",
      " |  \n",
      " |  setdefault(self, key, default=None, /)\n",
      " |      Insert key with a value of default if key is not in the dictionary.\n",
      " |      \n",
      " |      Return the value for key if key is in the dictionary, else default.\n",
      " |  \n",
      " |  update(...)\n",
      " |      D.update([E, ]**F) -> None.  Update D from dict/iterable E and F.\n",
      " |      If E is present and has a .keys() method, then does:  for k in E: D[k] = E[k]\n",
      " |      If E is present and lacks a .keys() method, then does:  for k, v in E: D[k] = v\n",
      " |      In either case, this is followed by: for k in F:  D[k] = F[k]\n",
      " |  \n",
      " |  values(...)\n",
      " |      D.values() -> an object providing a view on D's values\n",
      " |  \n",
      " |  ----------------------------------------------------------------------\n",
      " |  Class methods defined here:\n",
      " |  \n",
      " |  fromkeys(iterable, value=None, /) from builtins.type\n",
      " |      Create a new dictionary with keys from iterable and values set to value.\n",
      " |  \n",
      " |  ----------------------------------------------------------------------\n",
      " |  Static methods defined here:\n",
      " |  \n",
      " |  __new__(*args, **kwargs) from builtins.type\n",
      " |      Create and return a new object.  See help(type) for accurate signature.\n",
      " |  \n",
      " |  ----------------------------------------------------------------------\n",
      " |  Data and other attributes defined here:\n",
      " |  \n",
      " |  __hash__ = None\n",
      "\n"
     ]
    }
   ],
   "source": [
    "help(dict)"
   ]
  },
  {
   "cell_type": "code",
   "execution_count": 1,
   "metadata": {},
   "outputs": [
    {
     "name": "stdout",
     "output_type": "stream",
     "text": [
      "the type of empty dictionary is :\n",
      " {} <class 'dict'> False\n",
      "\n",
      "dict using integers as keys:\n",
      " {1: 'lok', 2: '29jun1989', 3: 9874563210}\n",
      "\n",
      "dict using words as keys:\n",
      " {'name': 'lok', 'DOB': '29jun1989', 'mobile': 9876541230}\n",
      "\n",
      "dict with different datatypes:\n",
      " {'string': 'lok', 'integer': 100, 'bool': True, 'tuple': (1, 2, 3), 'list': [4, 5, 6], 'dict': {1: 'lok', 2: 30}, 'set': {'lok', 30}}\n",
      "\n",
      " type of mixed dictionary is:\n",
      " <class 'dict'>\n",
      "\n",
      " nested dictionary:\n",
      " {'name': 'lok', 'DOB': '29jun1989', 'mobile': 9876541230, 2: {'salary': 2500000, 'Company': 'GOOGLE'}, 3: {'education': 'graduate', 'skills': 'python'}}\n",
      "\n",
      " dict with each item as pair:\n",
      " {1: 'lok', 2: '29jun1989'}\n",
      "valid keys-were keys are used as values:\n",
      " {'message': {'hello': 'lok'}, 'welcome': {'hi lok': 'how are you'}}\n",
      "\n",
      "the dict are unordered:\n",
      "\n",
      "True\n",
      "True\n",
      "True\n"
     ]
    }
   ],
   "source": [
    "# empty dictionary \n",
    "dict1={}\n",
    "print(\"the type of empty dictionary is :\\n\",dict1,type(dict1),bool(dict1))# empty dict is always a dict \n",
    "# creating a dictionary \n",
    "numkey={1:\"lok\",2:\"29jun1989\",3:9874563210}# a dict with keys as numbers\n",
    "print(\"\\ndict using integers as keys:\\n\",numkey)\n",
    "wordkey={'name':\"lok\",'DOB':\"29jun1989\",'mobile':9876541230}\n",
    "print(\"\\ndict using words as keys:\\n\",wordkey)\n",
    "\n",
    "#mixed dict\n",
    "mixdict={'string':\"lok\",'integer':100,'bool':True,'tuple':(1,2,3),'list':[4,5,6],'dict':{1:\"lok\",2:30},'set':{\"lok\",30}}\n",
    "print(\"\\ndict with different datatypes:\\n\",mixdict)# here we have used a dictionary inside dictionary\n",
    "print(\"\\n type of mixed dictionary is:\\n\",type(mixdict))\n",
    "# nested dict\n",
    "nested_dict={'name':\"lok\",'DOB':\"29jun1989\",'mobile':9876541230,2:{'salary': 2500000, 'Company': 'GOOGLE'},3:{'education':\"graduate\",'skills':\"python\"}}\n",
    "print(\"\\n nested dictionary:\\n\",nested_dict)\n",
    "\n",
    "\n",
    "#dict with each item as pair using dict function \n",
    "pair_dict=dict([(1,\"lok\"),(2,\"29jun1989\")])\n",
    "print(\"\\n dict with each item as pair:\\n\",pair_dict)\n",
    "\n",
    "# dit with valid keys\n",
    "validkey= {\"message\": {\"hello\": \"lok\"},\"welcome\":{\"hi lok\":\"how are you\"}}\n",
    "print(\"valid keys-were keys are used as values:\\n\",validkey)\n",
    "# dict are unordered\n",
    "dict1={'name':\"lok\",'DOB':\"29jun1989\",'mobile':9876541230}\n",
    "dict2={'name':\"lok\",'mobile':9876541230,'DOB':\"29jun1989\"}\n",
    "dict3=dict1\n",
    "\n",
    "print(\"\\nthe dict are unordered:\\n\")\n",
    "print(dict1==dict2)\n",
    "print(dict1==dict3)    \n",
    "print(dict3==dict2)"
   ]
  },
  {
   "cell_type": "code",
   "execution_count": 66,
   "metadata": {},
   "outputs": [
    {
     "name": "stdout",
     "output_type": "stream",
     "text": [
      "{'name': 'lok', 'namec': 'lok', 'DOB': '29jun1989', 'mobile': 985576541230}\n"
     ]
    }
   ],
   "source": [
    "#key polymorphisum\n",
    "x={'name': 'lok','namec':'lok', 'DOB': '29jun1989', 'mobile': 9876541230,'mobile': 985576541230}\n",
    "\n",
    "print(x)"
   ]
  },
  {
   "cell_type": "code",
   "execution_count": 67,
   "metadata": {},
   "outputs": [],
   "source": [
    "#using dict function "
   ]
  },
  {
   "cell_type": "markdown",
   "metadata": {},
   "source": [
    "ADDING ,ACCESSING,DELETING ELEMENTS OF DICTIONARY"
   ]
  },
  {
   "cell_type": "code",
   "execution_count": 68,
   "metadata": {},
   "outputs": [
    {
     "name": "stdout",
     "output_type": "stream",
     "text": [
      "An empty dictionary d1:\n",
      "\n",
      "adding elements to empty dictionary:\n",
      "d1= {}\n",
      "\n",
      "dictionary d1 after adding elements:\n",
      "d1= {1: 'lok', 2: '29jun1989', 3: 987456123}\n",
      "\n",
      "dictionary d1 after adding set of values:\n",
      "d1= {1: 'lok', 2: '29jun1989', 3: 987456123, 'welcome': {'hi lok': 'how are you'}}\n",
      "\n",
      "adding element to dictionary by indexing:\n",
      "d1= {1: 'lok', 2: '29jun1989', 3: 987456123, 'welcome': {'hi lok': 'how are you'}, 4: {'education': 'graduate', 'skills': 'python'}}\n"
     ]
    }
   ],
   "source": [
    "# adding elements to dictionary \n",
    "print(\"An empty dictionary d1:\")\n",
    "d1={}\n",
    "print(\"\\nadding elements to empty dictionary:\\nd1=\",d1)\n",
    "d1[1]=\"lok\"\n",
    "d1[2]=\"29jun1989\"\n",
    "d1[3]=987456123\n",
    "print(\"\\ndictionary d1 after adding elements:\\nd1=\",d1)\n",
    "d1['welcome']={'hi lok': 'how are you'}#adding elements to the end by passing set of values \n",
    "print(\"\\ndictionary d1 after adding set of values:\\nd1=\",d1)\n",
    "#adding elements to dictionary by indexing \n",
    "d1[4]={'education': 'graduate', 'skills': 'python'}\n",
    "print(\"\\nadding element to dictionary by indexing:\\nd1=\",d1)"
   ]
  },
  {
   "cell_type": "code",
   "execution_count": 69,
   "metadata": {},
   "outputs": [
    {
     "name": "stdout",
     "output_type": "stream",
     "text": [
      "Accessing a element using integer key:\n",
      " lok\n",
      "Accessing a element using name key:\n",
      " lok\n",
      "Accessing a nested element using name key:\n",
      " {'hi lok': 'how are you'}\n",
      "Accessing a nested element using name key:\n",
      " how are you\n",
      "Accessing a nested element using name key:\n",
      " graduate\n",
      "Accessing a element using get function (keys):\n",
      " {'education': 'graduate', 'skills': 'python'}\n",
      "Accessing a element using get function (keys):\n",
      " {'hi lok': 'how are you'}\n"
     ]
    }
   ],
   "source": [
    "#acessing the elements of the dictionary \n",
    "numkey={1:\"lok\",2:\"29jun1989\",3:9874563210}\n",
    "print(\"Accessing a element using integer key:\\n\",numkey[1])\n",
    "wordkey={'name':\"lok\",'DOB':\"29jun1989\",'mobile':9876541230}\n",
    "print(\"Accessing a element using name key:\\n\",wordkey['name'])\n",
    "#acessing the nested dictionary\n",
    "d1= {1: 'lok', 2: '29jun1989', 3: 987456123, 'welcome': {'hi lok': 'how are you'}, 4: {'education': 'graduate', 'skills': 'python'}}\n",
    "print(\"Accessing a nested element using name key:\\n\",d1['welcome']) \n",
    "print(\"Accessing a nested element using name key:\\n\",d1['welcome']['hi lok']) \n",
    "print(\"Accessing a nested element using name key:\\n\",d1[4]['education']) \n",
    "#  using get function \n",
    "print(\"Accessing a element using get function (keys):\\n\",d1.get(4))\n",
    "print(\"Accessing a element using get function (keys):\\n\",d1.get('welcome'))"
   ]
  },
  {
   "cell_type": "code",
   "execution_count": 70,
   "metadata": {},
   "outputs": [
    {
     "name": "stdout",
     "output_type": "stream",
     "text": [
      "the original dictionary:\n",
      "d1= {1: 'lok', 2: '29jun1989', 3: 987456123, 'welcome': {'hi lok': 'how are you'}, 4: {'education': 'graduate', 'skills': 'python'}}\n",
      "the dictionary after deleting the elements of key value[3]:\n",
      "d1= {1: 'lok', 2: '29jun1989', 'welcome': {'hi lok': 'how are you'}, 4: {'education': 'graduate', 'skills': 'python'}}\n",
      "the dictionary after deleting the nested elements of key value :\n",
      "d1= {1: 'lok', 2: '29jun1989', 'welcome': {}, 4: {'education': 'graduate', 'skills': 'python'}}\n"
     ]
    }
   ],
   "source": [
    "#removing the elements from dictionary \n",
    "\n",
    "d1= {1: 'lok', 2: '29jun1989', 3: 987456123, 'welcome': {'hi lok': 'how are you'}, 4: {'education': 'graduate', 'skills': 'python'}}\n",
    "print(\"the original dictionary:\\nd1=\",d1)\n",
    "\n",
    "#deleting the elements by key value\n",
    "del d1[3]\n",
    "print(\"the dictionary after deleting the elements of key value[3]:\\nd1=\",d1)\n",
    "#deleting the nested elements by key value\n",
    "del d1['welcome']['hi lok']\n",
    "print(\"the dictionary after deleting the nested elements of key value :\\nd1=\",d1)"
   ]
  },
  {
   "cell_type": "code",
   "execution_count": 71,
   "metadata": {},
   "outputs": [
    {
     "name": "stdout",
     "output_type": "stream",
     "text": [
      "indexing the list inside a dictionary:\n",
      " 4\n",
      "indexing the list inside a dictionary:\n",
      " 5\n",
      "slicing the list inside the dictionary :\n",
      " [4, 5]\n",
      "{1: [1, 2, 3, 4]}\n",
      "built in methods of list append:\n",
      " None\n"
     ]
    }
   ],
   "source": [
    "# Dictionary Keys vs. List Indices and slicing \n",
    "# indexing  while its list is present inside the dictionary \n",
    "mixdict={'string':\"lok\",'integer':100,'bool':True,'tuple':(1,2,3),'list':[4,5,6],'dict':{1:\"lok\",2:30},'set':{\"lok\",30}}\n",
    "#accessing the list elements by indexing and slicing which elements are of mixed dict \n",
    "print(\"indexing the list inside a dictionary:\\n\",mixdict['list'][0])\n",
    "\n",
    "print(\"indexing the list inside a dictionary:\\n\",mixdict['list'][1])\n",
    "\n",
    "print(\"slicing the list inside the dictionary :\\n\",mixdict['list'][0:-1])\n",
    "\n",
    "# we can use built methods            \n",
    "a = {1: [1,2,3]}\n",
    "a[1].append(4)\n",
    "print(a)\n",
    "print(\"built in methods of list append:\\n\",mixdict['list'].append(7))   \n"
   ]
  },
  {
   "cell_type": "markdown",
   "metadata": {},
   "source": [
    "BULIT IN METHODES"
   ]
  },
  {
   "cell_type": "code",
   "execution_count": 72,
   "metadata": {},
   "outputs": [
    {
     "name": "stdout",
     "output_type": "stream",
     "text": [
      "BUILT IN METHODS OF DICTIONARY\n",
      "\n",
      "clear() method\n",
      "the clear methods Deletes all keys and values of dict:\n",
      "d = {}\n"
     ]
    }
   ],
   "source": [
    "# built in methods\n",
    "print(\"BUILT IN METHODS OF DICTIONARY\\n\")\n",
    "#clear() method removes all items from the dictionary.\n",
    "print(\"clear() method\")\n",
    "d = {1: \"one\", 2: \"two\"}\n",
    "d.clear()\n",
    "print('the clear methods Deletes all keys and values of dict:\\nd =',d)\n"
   ]
  },
  {
   "cell_type": "code",
   "execution_count": 73,
   "metadata": {},
   "outputs": [
    {
     "name": "stdout",
     "output_type": "stream",
     "text": [
      "\n",
      "copy() method\n",
      "the original  dict:\n",
      "original= {1: 'one', 2: 'two'}\n",
      "\n",
      "copy the original dict to new dict\n",
      "\n",
      "the new dict from the original dict:\n",
      "new= {1: 'one', 2: 'two'}\n",
      "\n",
      "the new dict is modified:\n",
      "modifiednew= {1: 'one', 2: 'two', 3: 'three'}\n",
      "\n",
      "current dicts original and modified new:\n",
      " {1: 'one', 2: 'two'} {1: 'one', 2: 'two', 3: 'three'}\n"
     ]
    }
   ],
   "source": [
    "#copy() method returns a shallow copy of the dictionary. It doesn't modify the original dictionary.\n",
    "print(\"\\ncopy() method\")\n",
    "original = {1:'one', 2:'two'}\n",
    "print(\"the original  dict:\\noriginal=\",original)\n",
    "print(\"\\ncopy the original dict to new dict\")\n",
    "new = original.copy()\n",
    "print('\\nthe new dict from the original dict:\\nnew=', new)\n",
    "new[3]=\"three\"\n",
    "print('\\nthe new dict is modified:\\nmodifiednew=',new)\n",
    "\n",
    "print('\\ncurrent dicts original and modified new:\\n',original,new)# it doesn't modify the original dictionary "
   ]
  },
  {
   "cell_type": "code",
   "execution_count": 74,
   "metadata": {},
   "outputs": [
    {
     "name": "stdout",
     "output_type": "stream",
     "text": [
      "\n",
      "fromkeys() method\n",
      "syntax:dict.fromkeys(sequence[, value])\n",
      "\n",
      "fromkeys() takes keys as sequence:\n",
      " {'a': None, 'b': None, 'c': None, 'd': None, 'e': None}\n",
      "\n",
      "fromkeys() takes keys as sequence with values:\n",
      " {'a': [1, 2, 3, 4, 5], 'b': [1, 2, 3, 4, 5], 'c': [1, 2, 3, 4, 5], 'd': [1, 2, 3, 4, 5], 'e': [1, 2, 3, 4, 5]}\n"
     ]
    }
   ],
   "source": [
    "#fromkeys() method creates a new dictionary from the given sequence of elements with a value provided by the user.\n",
    "#fromkeys() method takes two parameters:\n",
    "#sequence - sequence of elements which is to be used as keys for the new dictionary\n",
    "#value (Optional) - value which is set to each each element of the dictionary\n",
    "print(\"\\nfromkeys() method\")\n",
    "print(\"syntax:dict.fromkeys(sequence[, value])\")\n",
    "d1={}\n",
    "keys='abcde'\n",
    "print(\"\\nfromkeys() takes keys as sequence:\\n\",dict.fromkeys(keys))\n",
    "values=[1,2,3,4,5]\n",
    "print(\"\\nfromkeys() takes keys as sequence with values:\\n\",dict.fromkeys(keys, values ))\n"
   ]
  },
  {
   "cell_type": "code",
   "execution_count": 75,
   "metadata": {},
   "outputs": [
    {
     "name": "stdout",
     "output_type": "stream",
     "text": [
      "\n",
      "get() method\n",
      "\n",
      "syntax:dict.get(key[, value]))\n",
      "\n",
      "the dictionary:\n",
      "wordkey= {'name': 'lok', 'DOB': '29jun1989', 'mobile': 9876541230}\n",
      "\n",
      "getting the key:nane from dict:\n",
      "name= lok\n",
      "\n",
      "getting the key:mobile no from dict:\n",
      "mobile= 9876541230\n",
      "\n",
      "getting the key:age,value:not specified from dict:\n",
      "age= None\n",
      "\n",
      "getting the key:age,value:specified from dict:\n",
      "age= 31\n",
      "\n",
      "the dict after get function:\n",
      "wordkey= {'name': 'lok', 'DOB': '29jun1989', 'mobile': 9876541230}\n"
     ]
    }
   ],
   "source": [
    "#get() method returns the value for the specified key if key is in dictionary.\n",
    "#get() method takes maximum of two parameters:\n",
    "#key - key to be searched in the dictionary\n",
    "#value (optional) - Value to be returned if the key is not found. The default value is None.\n",
    "\n",
    "#get() method returns:\n",
    "\n",
    "#the value for the specified key if key is in dictionary.\n",
    "#None if the key is not found and value is not specified.\n",
    "#value if the key is not found and value is specified.\n",
    "\n",
    "print(\"\\nget() method\\n\")\n",
    "print(\"syntax:dict.get(key[, value]))\")\n",
    "wordkey={'name':\"lok\",'DOB':\"29jun1989\",'mobile':9876541230}\n",
    "print(\"\\nthe dictionary:\\nwordkey=\",wordkey)\n",
    "print('\\ngetting the key:nane from dict:\\nname=',wordkey.get('name'))\n",
    "print('\\ngetting the key:mobile no from dict:\\nmobile=',wordkey.get('mobile'))\n",
    "print('\\ngetting the key:age,value:not specified from dict:\\nage=',wordkey.get('age'))\n",
    "print('\\ngetting the key:age,value:specified from dict:\\nage=',wordkey.get('age',31))\n",
    "print(\"\\nthe dict after get function:\\nwordkey=\",wordkey) # get function does not upated the keys of the dict \n",
    "# were the keys and values can be updated by acess and adding the dict \n",
    "#update() method can be also used \n",
    "#"
   ]
  },
  {
   "cell_type": "code",
   "execution_count": 76,
   "metadata": {},
   "outputs": [
    {
     "name": "stdout",
     "output_type": "stream",
     "text": [
      "upate() method\n",
      "\n",
      "syntax:dict.update([other Dict])\n",
      "\n",
      "the dictionary:\n",
      "d1= {1: 'one', 2: 'three'}\n",
      "the dictionary:\n",
      "d2= {2: 'two'}\n",
      "\n",
      "d1 is updated from dict d2:\n",
      "d1= {1: 'one', 2: 'two'}\n",
      "\n",
      "adding elements to dict d1 from d2:\n",
      "d1= {1: 'one', 2: 'two', 3: 'three'}\n",
      "the dictionary:\n",
      "d2= {3: 'three'}\n"
     ]
    }
   ],
   "source": [
    "# update function method updates the dictionary with the elements from the another dictionary object or from an iterable of key/value pairs.\n",
    "#update() method adds element(s) to the dictionary if the key is not in the dictionary. If the key is in the dictionary, it updates the key with the new value.\n",
    "#The update() method takes either a dictionary or an iterable object of key/value pairs (generally tuples).\n",
    "\n",
    "#If update() is called without passing parameters, the dictionary remains unchanged.\n",
    "#update() method updates the dictionary with elements from a dictionary object or an iterable object of key/value pairs.\n",
    "#It doesn't return any value (returns None).\n",
    "\n",
    "print(\"upate() method\\n\")\n",
    "print(\"syntax:dict.update([other Dict])\")\n",
    "\n",
    "d1= {1: \"one\", 2: \"three\"}\n",
    "d2= {2: \"two\"}\n",
    "print(\"\\nthe dictionary:\\nd1=\",d1)\n",
    "print(\"the dictionary:\\nd2=\",d2)\n",
    "d1.update(d2)\n",
    "print(\"\\nd1 is updated from dict d2:\\nd1=\",d1)\n",
    "\n",
    "# adds element with key 3\n",
    "d2= {3: \"three\"}\n",
    "d1.update(d2)\n",
    "print(\"\\nadding elements to dict d1 from d2:\\nd1=\",d1)\n",
    "print(\"the dictionary:\\nd2=\",d2)\n"
   ]
  },
  {
   "cell_type": "code",
   "execution_count": 77,
   "metadata": {},
   "outputs": [
    {
     "name": "stdout",
     "output_type": "stream",
     "text": [
      "items() method\n",
      "\n",
      "syntax:dict.items()\n",
      "\n",
      "items() returns dict as list were keys and values paired as tupel:\n",
      " dict_items([(1, 'one'), (2, 'two'), (3, 'three')])\n",
      "\n",
      "the items() for  nested dictionary:\n",
      " dict_items([('name', 'lok'), ('DOB', '29jun1989'), ('mobile', 9876541230), (2, {'salary': 2500000, 'Company': 'GOOGLE'}), (3, {'education': 'graduate', 'skills': 'python'})])\n"
     ]
    }
   ],
   "source": [
    "#items() method returns a view object that displays a list of dictionary's (key, value) tuple pairs.\n",
    "\n",
    "#items() method returns a view object that displays a list of a given dictionary's (key, value) tuple pair.\n",
    "print(\"items() method\\n\")\n",
    "print(\"syntax:dict.items()\")\n",
    "d1= {1: 'one', 2: 'two', 3: 'three'}\n",
    "print(\"\\nitems() returns dict as list were keys and values paired as tupel:\\n\",d1.items())\n",
    "\n",
    "nested ={'name': 'lok', 'DOB': '29jun1989', 'mobile': 9876541230, 2: {'salary': 2500000, 'Company': 'GOOGLE'}, 3: {'education': 'graduate', 'skills': 'python'}}\n",
    "print(\"\\nthe items() for  nested dictionary:\\n\",nested.items())"
   ]
  },
  {
   "cell_type": "code",
   "execution_count": 78,
   "metadata": {},
   "outputs": [
    {
     "name": "stdout",
     "output_type": "stream",
     "text": [
      "keys() method\n",
      "\n",
      "syntax:dict.keys()\n",
      "\n",
      "the dictionary:\n",
      "wordkey= {'name': 'lok', 'DOB': '29jun1989', 'mobile': 9876541230}\n",
      "\n",
      "keys() display all the keys in dictionary:\n",
      " dict_keys(['name', 'DOB', 'mobile'])\n",
      "\n",
      "upadte the dict with a key and value:\n",
      "\n",
      "keys() display on updataed dict:\n",
      " dict_keys(['name', 'DOB', 'mobile', 'age'])\n",
      "\n",
      "the dictionary:\n",
      "wordkey= {'name': 'lok', 'DOB': '29jun1989', 'mobile': 9876541230, 'age': 30}\n"
     ]
    }
   ],
   "source": [
    "#keys() method returns a view object that displays a list of all the keys in the dictionary\n",
    "print(\"keys() method\\n\")\n",
    "print(\"syntax:dict.keys()\")\n",
    "\n",
    "wordkey= {'name': 'lok', 'DOB': '29jun1989', 'mobile': 9876541230}\n",
    "print(\"\\nthe dictionary:\\nwordkey=\",wordkey)\n",
    "print(\"\\nkeys() display all the keys in dictionary:\\n\",wordkey.keys())\n",
    "print(\"\\nupadte the dict with a key and value:\\n\")\n",
    "wordkey['age']=30\n",
    "print(\"keys() display on updataed dict:\\n\",wordkey.keys())\n",
    "print(\"\\nthe dictionary:\\nwordkey=\",wordkey)"
   ]
  },
  {
   "cell_type": "code",
   "execution_count": 79,
   "metadata": {},
   "outputs": [
    {
     "name": "stdout",
     "output_type": "stream",
     "text": [
      "values() method\n",
      "\n",
      "syntax:dict.values()\n",
      "\n",
      "the dictionary:\n",
      "wordkey= {'name': 'lok', 'DOB': '29jun1989', 'mobile': 9876541230}\n",
      "\n",
      "values() display all the values in dictionary:\n",
      " dict_values(['lok', '29jun1989', 9876541230])\n",
      "\n",
      "values() display all the values in dictionary:\n",
      " dict_values(['lok', '29jun1989', 9876541230])\n",
      "\n",
      "upadte the dict with a key and value:\n",
      "\n",
      "values() display on updated dict:\n",
      " dict_values(['lok', '29jun1989', 9876541230, 30])\n"
     ]
    }
   ],
   "source": [
    "#values() method returns a view object that displays a list of all the values in the dictionary\n",
    "print(\"values() method\\n\")\n",
    "print(\"syntax:dict.values()\")\n",
    "\n",
    "wordkey= {'name': 'lok', 'DOB': '29jun1989', 'mobile': 9876541230}\n",
    "print(\"\\nthe dictionary:\\nwordkey=\",wordkey)\n",
    "print(\"\\nvalues() display all the values in dictionary:\\n\",wordkey.values())\n",
    "print(\"\\nvalues() display all the values in dictionary:\\n\",wordkey.values())\n",
    "print(\"\\nupadte the dict with a key and value:\\n\")\n",
    "wordkey['age']=30\n",
    "print(\"values() display on updated dict:\\n\",wordkey.values())\n"
   ]
  },
  {
   "cell_type": "code",
   "execution_count": 80,
   "metadata": {},
   "outputs": [
    {
     "name": "stdout",
     "output_type": "stream",
     "text": [
      "popitem() method\n",
      "\n",
      "syntax:dict.popitem()\n",
      "\n",
      "the dictionary:\n",
      "wordkey= {'name': 'lok', 'DOB': '29jun1989', 'mobile': 9876541230}\n",
      "\n",
      "popitem()returns the latest element (key,value)pair:\n",
      " ('mobile', 9876541230)\n",
      "\n",
      "the dictionary after popitem():\n",
      "wordkey= {'name': 'lok', 'DOB': '29jun1989'}\n",
      "\n",
      "updated the dict with a key and value:\n",
      "wordkey= {'name': 'lok', 'DOB': '29jun1989', 'age': 30}\n",
      "\n",
      "popitem() on updated dict:\n",
      " ('age', 30)\n"
     ]
    }
   ],
   "source": [
    "#popitem() method removes and returns the last element (key, value) pair inserted into the dictionary.\n",
    "#popitem() method removes and returns the (key, value) pair from the dictionary in the Last In, First Out (LIFO) order.\n",
    "#Returns the latest inserted element (key,value) pair from the dictionary.\n",
    "#Removes the returned element pair from the dictionary.\n",
    "print(\"popitem() method\\n\")\n",
    "print(\"syntax:dict.popitem()\")\n",
    "\n",
    "wordkey= {'name': 'lok', 'DOB': '29jun1989', 'mobile': 9876541230}\n",
    "print(\"\\nthe dictionary:\\nwordkey=\",wordkey)\n",
    "print(\"\\npopitem()returns the latest element (key,value)pair:\\n\",wordkey.popitem())\n",
    "print(\"\\nthe dictionary after popitem():\\nwordkey=\",wordkey)\n",
    "wordkey['age']=30\n",
    "print(\"\\nupdated the dict with a key and value:\\nwordkey=\",wordkey)\n",
    "\n",
    "print(\"\\npopitem() on updated dict:\\n\",wordkey.popitem())\n",
    "\n"
   ]
  },
  {
   "cell_type": "code",
   "execution_count": 81,
   "metadata": {},
   "outputs": [
    {
     "name": "stdout",
     "output_type": "stream",
     "text": [
      "setdefault() method\n",
      "\n",
      "syntax:dict.setdefault(key[, default_value]\n",
      "\n",
      "setdefault()returns the value of a key:\n",
      " 29jun1989\n",
      "\n",
      "setdefault()without assigned key and default value\n",
      "\n",
      "\n",
      "the dictionary after setdefault()without assigned key:\n",
      "wordkey= {'name': 'lok', 'DOB': '29jun1989', 'age': None}\n",
      "\n",
      "setdefault(key,default value)updates the dict \n",
      "\n",
      "the dictionary after setdefault()without assigned key and vaule:\n",
      "wordkey= {'name': 'lok', 'DOB': '29jun1989', 'age': None, 'mobile': 9876541230}\n"
     ]
    }
   ],
   "source": [
    "#setdefault() method returns the value of a key (if the key is in dictionary). If not, it inserts key with a value to the dictionary.\n",
    "#setdefault() takes a maximum of two parameters:\n",
    "\n",
    "#key - the key to be searched in the dictionary\n",
    "#default_value (optional) - key with a value default_value is inserted to the dictionary if the key is not in the dictionary.\n",
    "#If not provided, the default_value will be None.\n",
    "\n",
    "#value of the key if it is in the dictionary\n",
    "#None if the key is not in the dictionary and default_value is not specified\n",
    "#default_value if key is not in the dictionary and default_value is specified\n",
    "\n",
    "print(\"setdefault() method\\n\")\n",
    "print(\"syntax:dict.setdefault(key[, default_value]\")\n",
    "wordkey= {'name': 'lok', 'DOB': '29jun1989'}\n",
    "print(\"\\nsetdefault()returns the value of a key:\\n\",wordkey.setdefault('DOB'))\n",
    "wordkey.setdefault('age')\n",
    "print(\"\\nsetdefault()without assigned key and default value\\n\")\n",
    "print(\"\\nthe dictionary after setdefault()without assigned key:\\nwordkey=\",wordkey)\n",
    "print(\"\\nsetdefault(key,default value)updates the dict \")\n",
    "wordkey.setdefault('mobile',9876541230)\n",
    "print(\"\\nthe dictionary after setdefault()without assigned key and vaule:\\nwordkey=\",wordkey)"
   ]
  },
  {
   "cell_type": "code",
   "execution_count": 82,
   "metadata": {},
   "outputs": [
    {
     "name": "stdout",
     "output_type": "stream",
     "text": [
      "pop() method\n",
      "\n",
      "syntax:dict.pop(key[, default])\n",
      "\n",
      "the dictionary:\n",
      "wordkey= {'name': 'lok', 'DOB': '29jun1989', 'mobile': 9876541230}\n",
      "\n",
      "pPop() an element from the dictionary:\n",
      " 29jun1989\n",
      "\n",
      "the dictionary after pop():\n",
      "wordkey= {'name': 'lok', 'mobile': 9876541230}\n",
      "\n",
      "The popped element is:\n",
      " 30\n",
      "\n",
      "dict  after pop element:\n",
      "wordkey= {'name': 'lok', 'mobile': 9876541230}\n"
     ]
    }
   ],
   "source": [
    "#pop() method removes and returns an element from a dictionary having the given key.\n",
    "#pop() Parameters\n",
    "#pop() method takes two parameters:\n",
    "\n",
    "#key - key which is to be searched for removal\n",
    "#default - value which is to be returned when the key is not in the dictionary\n",
    "#The pop() method returns:\n",
    "\n",
    "#If key is found - removed/popped element from the dictionary\n",
    "#If key is not found - value specified as the second argument (default)\n",
    "#If key is not found and default argument is not specified - KeyError exception is raised\n",
    "\n",
    "print(\"pop() method\\n\")\n",
    "print(\"syntax:dict.pop(key[, default])\")\n",
    "\n",
    "wordkey= {'name': 'lok', 'DOB': '29jun1989', 'mobile': 9876541230}\n",
    "print(\"\\nthe dictionary:\\nwordkey=\",wordkey)\n",
    "print(\"\\npPop() an element from the dictionary:\\n\",wordkey.pop('DOB'))\n",
    "print(\"\\nthe dictionary after pop():\\nwordkey=\",wordkey)\n",
    "element=wordkey.pop('age',30)\n",
    "print('\\nThe popped element is:\\n', element)\n",
    "print(\"\\ndict  after pop element:\\nwordkey=\",wordkey)\n"
   ]
  },
  {
   "cell_type": "code",
   "execution_count": 83,
   "metadata": {},
   "outputs": [
    {
     "ename": "KeyError",
     "evalue": "'salary'",
     "output_type": "error",
     "traceback": [
      "\u001b[1;31m---------------------------------------------------------------------------\u001b[0m",
      "\u001b[1;31mKeyError\u001b[0m                                  Traceback (most recent call last)",
      "\u001b[1;32m<ipython-input-83-cb58e62f5aa0>\u001b[0m in \u001b[0;36m<module>\u001b[1;34m\u001b[0m\n\u001b[0;32m      1\u001b[0m \u001b[0mwordkey\u001b[0m\u001b[1;33m=\u001b[0m \u001b[1;33m{\u001b[0m\u001b[1;34m'name'\u001b[0m\u001b[1;33m:\u001b[0m \u001b[1;34m'lok'\u001b[0m\u001b[1;33m,\u001b[0m \u001b[1;34m'DOB'\u001b[0m\u001b[1;33m:\u001b[0m \u001b[1;34m'29jun1989'\u001b[0m\u001b[1;33m,\u001b[0m \u001b[1;34m'mobile'\u001b[0m\u001b[1;33m:\u001b[0m \u001b[1;36m9876541230\u001b[0m\u001b[1;33m}\u001b[0m\u001b[1;33m\u001b[0m\u001b[1;33m\u001b[0m\u001b[0m\n\u001b[1;32m----> 2\u001b[1;33m \u001b[0melement1\u001b[0m\u001b[1;33m=\u001b[0m\u001b[0mwordkey\u001b[0m\u001b[1;33m.\u001b[0m\u001b[0mpop\u001b[0m\u001b[1;33m(\u001b[0m\u001b[1;34m'salary'\u001b[0m\u001b[1;33m)\u001b[0m\u001b[1;33m\u001b[0m\u001b[1;33m\u001b[0m\u001b[0m\n\u001b[0m\u001b[0;32m      3\u001b[0m \u001b[1;31m# print('\\nThe popped key is:\\n', element1)\u001b[0m\u001b[1;33m\u001b[0m\u001b[1;33m\u001b[0m\u001b[1;33m\u001b[0m\u001b[0m\n",
      "\u001b[1;31mKeyError\u001b[0m: 'salary'"
     ]
    }
   ],
   "source": [
    "wordkey= {'name': 'lok', 'DOB': '29jun1989', 'mobile': 9876541230}\n",
    "element1=wordkey.pop('salary')\n",
    "# print('\\nThe popped key is:\\n', element1)"
   ]
  },
  {
   "cell_type": "markdown",
   "metadata": {},
   "source": [
    "ITERATING DICITIONARY "
   ]
  },
  {
   "cell_type": "code",
   "execution_count": 2,
   "metadata": {
    "scrolled": true
   },
   "outputs": [
    {
     "name": "stdout",
     "output_type": "stream",
     "text": [
      "{'Andaman_NicobarIslands': 'Port Blair', 'Chandigarh': 'Chandigarh', 'Dadra_ Nagar Haveli _ Daman _ Diu': 'Daman', 'Delhi': 'New Delhi', 'Jammu _ Kashmir': 'Srinagar&Jammu', 'Lakshadweep': 'Kavaratti', 'Pondicherry': 'Pondicherry', 'Ladakh': 'Leh'}\n"
     ]
    }
   ],
   "source": [
    "#iterate through the dicitionary \n",
    "\n",
    "#dicitionary with union territoers with keys and capitals as value \n",
    "\n",
    "ut= {'Andaman_NicobarIslands': 'Port Blair', 'Chandigarh': 'Chandigarh', 'Dadra_ Nagar Haveli _ Daman _ Diu': 'Daman', 'Delhi': 'New Delhi', 'Jammu _ Kashmir': 'Srinagar&Jammu', 'Lakshadweep': 'Kavaratti', 'Pondicherry': 'Pondicherry', 'Ladakh': 'Leh'}\n",
    "\n",
    "\n",
    "print(ut)"
   ]
  },
  {
   "cell_type": "code",
   "execution_count": 3,
   "metadata": {},
   "outputs": [
    {
     "name": "stdout",
     "output_type": "stream",
     "text": [
      "Andaman_NicobarIslands\n",
      "Chandigarh\n",
      "Dadra_ Nagar Haveli _ Daman _ Diu\n",
      "Delhi\n",
      "Jammu _ Kashmir\n",
      "Lakshadweep\n",
      "Pondicherry\n",
      "Ladakh\n",
      "\n",
      "iterate using keys and indexing mehode to get keys:values\n",
      "\n",
      "Andaman_NicobarIslands = Port Blair\n",
      "Chandigarh = Chandigarh\n",
      "Dadra_ Nagar Haveli _ Daman _ Diu = Daman\n",
      "Delhi = New Delhi\n",
      "Jammu _ Kashmir = Srinagar&Jammu\n",
      "Lakshadweep = Kavaratti\n",
      "Pondicherry = Pondicherry\n",
      "Ladakh = Leh\n"
     ]
    }
   ],
   "source": [
    "#iterating thorugh the dicitionary  directly \n",
    "ut= {'Andaman_NicobarIslands': 'Port Blair', 'Chandigarh': 'Chandigarh', 'Dadra_ Nagar Haveli _ Daman _ Diu': 'Daman', 'Delhi': 'New Delhi', 'Jammu _ Kashmir': 'Srinagar&Jammu', 'Lakshadweep': 'Kavaratti', 'Pondicherry': 'Pondicherry', 'Ladakh': 'Leh'}\n",
    "\n",
    "for key in ut:\n",
    "    print(key)# python directly iterate the dicitionary keys only\n",
    "    \n",
    "#iterating the dicitionary were keys and values are iterarted using a small indexing operation\n",
    "print(\"\\niterate using keys and indexing mehode to get keys:values\\n\")\n",
    "for key in ut:\n",
    "    print(key,\"=\",ut[key])\n"
   ]
  },
  {
   "cell_type": "code",
   "execution_count": 4,
   "metadata": {},
   "outputs": [
    {
     "name": "stdout",
     "output_type": "stream",
     "text": [
      "Andaman_NicobarIslands\n",
      "Chandigarh\n",
      "Dadra_ Nagar Haveli _ Daman _ Diu\n",
      "Delhi\n",
      "Jammu _ Kashmir\n",
      "Lakshadweep\n",
      "Pondicherry\n",
      "Ladakh\n",
      "\n",
      "iterate using keys and indexing mehode to get keys:values\n",
      "\n",
      "Andaman_NicobarIslands = Port Blair\n",
      "Chandigarh = Chandigarh\n",
      "Dadra_ Nagar Haveli _ Daman _ Diu = Daman\n",
      "Delhi = New Delhi\n",
      "Jammu _ Kashmir = Srinagar&Jammu\n",
      "Lakshadweep = Kavaratti\n",
      "Pondicherry = Pondicherry\n",
      "Ladakh = Leh\n"
     ]
    }
   ],
   "source": [
    "#iterating thorugh the dicitionary using keys () methode  in for loop \n",
    "ut= {'Andaman_NicobarIslands': 'Port Blair', 'Chandigarh': 'Chandigarh', 'Dadra_ Nagar Haveli _ Daman _ Diu': 'Daman', 'Delhi': 'New Delhi', 'Jammu _ Kashmir': 'Srinagar&Jammu', 'Lakshadweep': 'Kavaratti', 'Pondicherry': 'Pondicherry', 'Ladakh': 'Leh'}\n",
    "\n",
    "for key in ut.keys():\n",
    "    print(key)# here were the keys are iterated and listed \n",
    "    \n",
    "#iterating the dicitionary using keys  and indexing methode in for loop iterate the keys and values also \n",
    "print(\"\\niterate using keys and indexing mehode to get keys:values\\n\")\n",
    "for key in ut.keys():\n",
    "    print(key,\"=\",ut[key])"
   ]
  },
  {
   "cell_type": "code",
   "execution_count": 5,
   "metadata": {},
   "outputs": [
    {
     "name": "stdout",
     "output_type": "stream",
     "text": [
      "Port Blair\n",
      "Chandigarh\n",
      "Daman\n",
      "New Delhi\n",
      "Srinagar&Jammu\n",
      "Kavaratti\n",
      "Pondicherry\n",
      "Leh\n"
     ]
    }
   ],
   "source": [
    "#iterating thorugh the dicitionary using values() methode  in for loop \n",
    "ut= {'Andaman_NicobarIslands': 'Port Blair', 'Chandigarh': 'Chandigarh', 'Dadra_ Nagar Haveli _ Daman _ Diu': 'Daman', 'Delhi': 'New Delhi', 'Jammu _ Kashmir': 'Srinagar&Jammu', 'Lakshadweep': 'Kavaratti', 'Pondicherry': 'Pondicherry', 'Ladakh': 'Leh'}\n",
    "\n",
    "for value in ut.values():\n",
    "    print(value)# here were the values are iterated and listed \n"
   ]
  },
  {
   "cell_type": "code",
   "execution_count": 6,
   "metadata": {
    "scrolled": true
   },
   "outputs": [
    {
     "name": "stdout",
     "output_type": "stream",
     "text": [
      "('Andaman_NicobarIslands', 'Port Blair')\n",
      "('Chandigarh', 'Chandigarh')\n",
      "('Dadra_ Nagar Haveli _ Daman _ Diu', 'Daman')\n",
      "('Delhi', 'New Delhi')\n",
      "('Jammu _ Kashmir', 'Srinagar&Jammu')\n",
      "('Lakshadweep', 'Kavaratti')\n",
      "('Pondicherry', 'Pondicherry')\n",
      "('Ladakh', 'Leh')\n",
      "\n",
      "The above methode iterating the dictionary keys and values items are unpacked as tuple object\n",
      "\n",
      "unpaking the dictionary were the loop runs, key will store the key, and value will store the value of the item\n",
      "\n",
      "Andaman_NicobarIslands = Port Blair\n",
      "Chandigarh = Chandigarh\n",
      "Dadra_ Nagar Haveli _ Daman _ Diu = Daman\n",
      "Delhi = New Delhi\n",
      "Jammu _ Kashmir = Srinagar&Jammu\n",
      "Lakshadweep = Kavaratti\n",
      "Pondicherry = Pondicherry\n",
      "Ladakh = Leh\n"
     ]
    }
   ],
   "source": [
    "#iterating thorugh the dicitionary using items () methode  in for loop \n",
    "\n",
    "for item in ut.items():\n",
    "    print(item)# were both keys and values are paired as tuple object\n",
    "print(\"\\nThe above methode iterating the dictionary keys and values items are unpacked as tuple object\")\n",
    "        \n",
    "#iterating the dicitionary items were unapcking methode were keys and values are header in for loop  \n",
    "print(\"\\nunpaking the dictionary were the loop runs, key will store the key, and value will store the value of the item\\n\")\n",
    "for key,value  in ut.items():\n",
    "    print(key,\"=\",value)"
   ]
  },
  {
   "cell_type": "code",
   "execution_count": 1,
   "metadata": {
    "scrolled": true
   },
   "outputs": [
    {
     "name": "stdout",
     "output_type": "stream",
     "text": [
      "{'apple': 0.4, 'orange': 0.35, 'banana': 0.25}\n",
      "1989806115968\n",
      "\n",
      "\n",
      "\n",
      "{'apple': 0.36, 'orange': 0.32, 'banana': 0.23}\n",
      "1989806115968\n"
     ]
    }
   ],
   "source": [
    "#modifying the keys and values  of dict by iterate \n",
    "prices = {'apple': 0.40, 'orange': 0.35, 'banana': 0.25}\n",
    "print(prices)\n",
    "print(id(prices))\n",
    "print(\"\\n\\n\")\n",
    "for k, v in prices.items():\n",
    "    prices[k] = round(v * 0.9,2)  # Apply a 10% discount\n",
    "print(prices)\n",
    "print(id(prices))\n",
    "    \n"
   ]
  },
  {
   "cell_type": "code",
   "execution_count": 5,
   "metadata": {
    "scrolled": false
   },
   "outputs": [
    {
     "name": "stdout",
     "output_type": "stream",
     "text": [
      "\n",
      " the original dict:\n",
      " {'apple': 0.4, 'orange': 0.35, 'banana': 0.25}\n",
      "\n",
      "\n",
      "('the dict after deleting through iterate:', {'apple': 0.4, 'banana': 0.25})\n",
      "1989806778752\n",
      "\n",
      " ['apple', 'banana']\n",
      "\n",
      " 1989806778752\n"
     ]
    }
   ],
   "source": [
    "# deleting the keys and values  of dict by iterate \n",
    "prices = {'apple': 0.40, 'orange': 0.35, 'banana': 0.25}\n",
    "print(\"\\n the original dict:\\n\",prices)\n",
    "print(\"\\n\")\n",
    "for key in list(prices.keys()):#.keys() returns a dictionary-view object, which  demand one key at a time, and if you delete an item (del prices[key]), then Python raises a RuntimeError, because you’ve modified the dictionary during iteration.\n",
    "    if key=='orange':\n",
    "        del prices[key]\n",
    "        print((\"the dict after deleting through iterate:\",prices))\n",
    "        print(id(prices))\n",
    "print(\"\\n\",prices)\n",
    "print(\"\\n\",id(prices))\n",
    "\n",
    "\n"
   ]
  },
  {
   "cell_type": "code",
   "execution_count": 85,
   "metadata": {},
   "outputs": [
    {
     "name": "stdout",
     "output_type": "stream",
     "text": [
      "\n",
      "Turning Keys Into Values\n",
      "the original dict\n",
      " {'one': 1, 'two': 2, 'thee': 3, 'four': 4}\n",
      "dict after turing Keys into Values \n",
      " {1: 'one', 2: 'two', 3: 'thee', 4: 'four'}\n",
      "\n",
      "Turning values Into keys\n",
      "\n",
      "the original dict\n",
      " {'logaprasath': 'name', 30: 'age', '29jun1989': 'DOB'}\n",
      "dict after turing Values into Keys\n",
      " {'name': 'logaprasath', 'age': 30, 'DOB': '29jun1989'}\n"
     ]
    }
   ],
   "source": [
    "#Turning Keys Into Values and Vice Versa\n",
    "dict1 = {'one': 1, 'two': 2, 'thee': 3, 'four': 4}# a dict with keys and values \n",
    "print(\"\\nTurning Keys Into Values\")\n",
    "print(\"the original dict\\n\",dict1)\n",
    "new_dict = {}\n",
    "for key, value in dict1.items():\n",
    "     new_dict[value] = key   # the iterated dict1 is assigned to new dict with ths condition     \n",
    "\n",
    "print(\"dict after turing Keys into Values \\n\",new_dict)\n",
    "\n",
    "#vice versa \n",
    "dict2={\"logaprasath\":\"name\",30:\"age\",\"29jun1989\":\"DOB\"}\n",
    "print(\"\\nTurning values Into keys\")\n",
    "print(\"\\nthe original dict\\n\",dict2)\n",
    "n_dict={}\n",
    "for key, value in dict2.items():\n",
    "    n_dict[value] = key\n",
    "    \n",
    "print(\"dict after turing Values into Keys\\n\",n_dict)"
   ]
  },
  {
   "cell_type": "code",
   "execution_count": 6,
   "metadata": {},
   "outputs": [
    {
     "name": "stdout",
     "output_type": "stream",
     "text": [
      "\n",
      "Filtering a dicitionary\n",
      "the original dict\n",
      " {'one': 1, 'two': 2, 'three': 3, 'four': 4}\n",
      "dict after filtering \n",
      " {'one': 1, 'two': 2}\n"
     ]
    }
   ],
   "source": [
    "#Filtering Items\n",
    "a_dict = {'one': 1, 'two': 2, 'three': 3, 'four': 4}\n",
    "print(\"\\nFiltering a dicitionary\")\n",
    "print(\"the original dict\\n\",a_dict)\n",
    "new_dict = {}  # Create a new empty dictionary\n",
    "for key, value in a_dict.items():\n",
    "    if value <= 2:# If value satisfies the condition, then store it in new_dict\n",
    "        new_dict[key] = value\n",
    "print(\"dict after filtering \\n\",new_dict)        \n",
    "    "
   ]
  },
  {
   "cell_type": "markdown",
   "metadata": {},
   "source": [
    "DICTIONARY COMPREHENSION"
   ]
  },
  {
   "cell_type": "markdown",
   "metadata": {},
   "source": [
    " comprehensions provide a concise way to create dictionary,Common applications are to make new dictionary  where each element is the result of some operations applied to each member of another sequence or iteratble, or to create a subsequence of those elements that satisfy a certain condition."
   ]
  },
  {
   "cell_type": "code",
   "execution_count": 87,
   "metadata": {},
   "outputs": [
    {
     "name": "stdout",
     "output_type": "stream",
     "text": [
      "syntax:{key:value for (key, value) in iterable if (key, value satisfy this condition)}\n"
     ]
    }
   ],
   "source": [
    "#syntax \n",
    "print(\"syntax:{key:value for (key, value) in iterable if (key, value satisfy this condition)}\")"
   ]
  },
  {
   "cell_type": "code",
   "execution_count": 88,
   "metadata": {},
   "outputs": [
    {
     "name": "stdout",
     "output_type": "stream",
     "text": [
      "dict comprehension with eleemnts of power three in range 10:\n",
      "a= {1: 1, 2: 8, 3: 27, 4: 64, 5: 125, 6: 216, 7: 343, 8: 512, 9: 729, 10: 1000}\n",
      "dict comprehension with odd eleemnts in range 10:\n",
      "b= {1: 1, 3: 27, 5: 125, 7: 343, 9: 729}\n",
      "dict comprehension were dict b with values%3!=0:\n",
      "c= {1: 1, 5: 125, 7: 343}\n",
      "dict comprehension using two if condition:\n",
      "d= {5: 125, 10: 1000}\n",
      "dict comprehension using if and else function:\n",
      "e= {1: 'odd', 2: 'even', 3: 'odd', 4: 'even', 5: 'odd', 6: 'even', 7: 'odd', 8: 'even', 9: 'odd', 10: 'even'}\n",
      "nested dict comprehension using  double for loop:\n",
      "float_dict= {'lok': {30.0}, 'viji': {27.0}}\n",
      "{1: (1, 4), 2: (2, 4), 3: (3, 4)}\n"
     ]
    }
   ],
   "source": [
    "# creating a dictionary of power three with help of for loop in dit comprehension\n",
    "a={x:x**3 for x in range(1,10+1)}\n",
    "print(\"dict comprehension with eleemnts of power three in range 10:\\na=\",a)\n",
    "# now update the  power of three dictionary to elelmnts with odd numbers\n",
    "b={x:x**3 for x in range(1,10+1)if x**3%2 !=0 }\n",
    "print(\"dict comprehension with odd eleemnts in range 10:\\nb=\",b)\n",
    "# now acessing the keys using dict comprehesion\n",
    "c={key:value for key ,value in list(b.items()) if value%3!=0}\n",
    "print(\"dict comprehension were dict b with values%3!=0:\\nc=\",c)\n",
    "# multiple  if condtions \n",
    "d={k:v for (k,v) in list(a.items()) if v<=1500 if k%5==0}\n",
    "print(\"dict comprehension using two if condition:\\nd=\",d)\n",
    "# using else and if fucntion\n",
    "e={k:('even' if v%2==0 else 'odd') for (k,v) in a.items()}\n",
    "print(\"dict comprehension using if and else function:\\ne=\",e)\n",
    "# double for loop\n",
    "nested_dict = {'lok':{'age':30}, 'viji':{'age':27}}\n",
    "float_dict = {outer_k: {float(inner_v) for (inner_k, inner_v) in outer_v.items()} for (outer_k, outer_v) in nested_dict.items()}\n",
    "print(\"nested dict comprehension using  double for loop:\\nfloat_dict=\",float_dict)\n",
    "\n",
    "f={(x):(x,y) for x in [1,2,3] for y in [3,1,4] if x != y }\n",
    "print(f)"
   ]
  },
  {
   "cell_type": "code",
   "execution_count": 89,
   "metadata": {
    "scrolled": true
   },
   "outputs": [
    {
     "name": "stdout",
     "output_type": "stream",
     "text": [
      "length is:\n",
      " 10\n",
      "maximum interger is:\n",
      " 10\n",
      "minimum interger is:\n",
      " 1\n",
      "maximun string is:\n",
      " 9\n",
      "minimum string is:\n",
      " 1\n",
      "summation of  interger is:\n",
      " 55\n",
      "check for any  boolen in dict x:\n",
      " False\n",
      "check for any boolen in dict y:\n",
      " True\n",
      "check for any boolen in dict z:\n",
      " False\n",
      "check for all elements   boolen in dict x:\n",
      " False\n",
      "check for all elements boolen in dict y:\n",
      " False\n",
      "check for all elements boolen in dict z:\n",
      " False\n",
      "sorted dict a is:\n",
      " [(1, 1), (2, 8), (3, 27), (4, 64), (5, 125), (6, 216), (7, 343), (8, 512), (9, 729), (10, 1000)]\n",
      "sorted dict b is:\n",
      " [1, 27, 125, 343, 729]\n",
      "sorted dict c is:\n",
      " [1, 2, 3]\n"
     ]
    }
   ],
   "source": [
    "#Built functions tuples\n",
    "a= {1: 1, 2: 8, 3: 27, 4: 64, 5: 125, 6: 216, 7: 343, 8: 512, 9: 729, 10: 1000}\n",
    "\n",
    "#length function len()-returns its length.\n",
    "print(\"length is:\\n\",len(a))\n",
    "\n",
    "#max function max()-returns the item from the tuple with the highest value.\n",
    "#min  function min()- returns the item with the lowest values.\n",
    "a={1: 1, 2: 8, 3: 27, 4: 64, 5: 125, 6: 216, 7: 343, 8: 512, 9: 729, 10: 1000}\n",
    "b= {1: 1, 3: 27, 5: 125, 7: 343, 9: 729}# for strings as per ASCII \n",
    "c={1: (1, 4), 2: (2, 4), 3: (3, 4)}# mixed string \n",
    "print(\"maximum interger is:\\n\",max(a)) # for numbers \n",
    "print(\"minimum interger is:\\n\",min(a)) # for numbers\n",
    "\n",
    "print(\"maximun string is:\\n\",max(b))\n",
    "print(\"minimum string is:\\n\",min(b)) \n",
    "\n",
    "#sum function sum()returns the arithmetic sum of all the items in the tuple.\n",
    "print(\"summation of  interger is:\\n\",sum(a))\n",
    "\n",
    "# any fucntion any()-if even one item in the tuple has a Boolean value  returns True. Otherwise, it returns False.\n",
    "# all function all()-returns True only if all items have a Boolean value of True. Otherwise, it returns False.\n",
    "x={0: 'False'}\n",
    "y={0: 'False', 1: 'True'}\n",
    "z={0: 'False', False: 0}\n",
    "print(\"check for any  boolen in dict x:\\n\",any(x))\n",
    "print(\"check for any boolen in dict y:\\n\",any(y))\n",
    "print(\"check for any boolen in dict z:\\n\",any(z))\n",
    "\n",
    "print(\"check for all elements   boolen in dict x:\\n\",all(x))\n",
    "print(\"check for all elements boolen in dict y:\\n\",all(y))\n",
    "print(\"check for all elements boolen in dict z:\\n\",all(z))\n",
    "\n",
    "#sorted fucntion sorted()-orting is in ascending order, and it doesn’t modify the original tuple in Python.\n",
    "a={1: 1, 2: 8, 3: 27, 4: 64, 5: 125, 6: 216, 7: 343, 8: 512, 9: 729, 10: 1000}\n",
    "b= {1: 1, 3: 27, 5: 125, 7: 343, 9: 729}# for strings as per ASCII \n",
    "c={1: (1, 4), 2: (2, 4), 3: (3, 4)}# mixed string \n",
    "print(\"sorted dict a is:\\n\",sorted(a.items()) )# for numbers \n",
    "print(\"sorted dict b is:\\n\",sorted(b.values())) \n",
    "print(\"sorted dict c is:\\n\",sorted(c)) "
   ]
  },
  {
   "cell_type": "markdown",
   "metadata": {},
   "source": [
    "DIctionary packing and unpacking "
   ]
  },
  {
   "cell_type": "code",
   "execution_count": 90,
   "metadata": {},
   "outputs": [
    {
     "name": "stdout",
     "output_type": "stream",
     "text": [
      "{(5, 125)}\n",
      "[(3, 27), (5, 125), (7, 343)]\n"
     ]
    }
   ],
   "source": [
    "#packing\n",
    "a= {1: 1, 3: 27, 5: 125, 7: 343, 9: 729}\n",
    "b= {2: 8, 4: 64, 6: 216, 8: 512, 10: 1000}\n",
    "odd1,odd3,odd5,odd7,odd9=a.items()# odd keys and power3  values are packed to induvial LHS variables \n",
    "even2,even4,even6,even8,ven10=b.values()# even values with  power3  are packed to induvial LHS variables \n",
    "print({odd5}) # while calling the variable the elements are unpacked \n",
    "# packing with * asterisk\n",
    "a= {1: 1, 3: 27, 5: 125, 7: 343, 9: 729}\n",
    "b= {2: 8, 4: 64, 6: 216, 8: 512, 10: 1000}\n",
    "x,*y,z=a.items() #packing the ietms with * asterisk \n",
    "print(y)# while calling the variable the elements are unpacked "
   ]
  },
  {
   "cell_type": "code",
   "execution_count": 91,
   "metadata": {
    "scrolled": true
   },
   "outputs": [
    {
     "name": "stdout",
     "output_type": "stream",
     "text": [
      "lok 29jun1989 9876541230\n"
     ]
    }
   ],
   "source": [
    "#unpacking using functions \n",
    "\n",
    "def func(name,DOB,mobile):\n",
    "    print(name,DOB,mobile)\n",
    "d1={'name':\"lok\",'DOB':\"29jun1989\",'mobile':9876541230}\n",
    "func(**d1)"
   ]
  },
  {
   "cell_type": "code",
   "execution_count": 92,
   "metadata": {},
   "outputs": [
    {
     "name": "stdout",
     "output_type": "stream",
     "text": [
      "<class 'dict'>\n",
      "name = geeks\n",
      "ID = 101\n",
      "language = Python\n"
     ]
    }
   ],
   "source": [
    "# A Python program to demonstrate packing of\n",
    "# dictionary items using **\n",
    "def fun(**kwargs):\n",
    "  # kwargs is a dict\n",
    "    print(type(kwargs))\n",
    " \n",
    "    # Printing dictionary items\n",
    "    for key in kwargs:\n",
    "        print(\"%s = %s\" %(key, kwargs[key]))\n",
    " \n",
    "# Driver code\n",
    "fun(name=\"geeks\", ID=\"101\", language=\"Python\")"
   ]
  },
  {
   "cell_type": "code",
   "execution_count": 93,
   "metadata": {},
   "outputs": [
    {
     "name": "stdout",
     "output_type": "stream",
     "text": [
      "{1: 1, 3: 27, 5: 125, 7: 343, 9: 729, 2: 8, 4: 64, 6: 216, 8: 512, 10: 1000}\n"
     ]
    }
   ],
   "source": [
    "a= {1: 1, 3: 27, 5: 125, 7: 343, 9: 729}\n",
    "b= {2: 8, 4: 64, 6: 216, 8: 512, 10: 1000}\n",
    "merge_dict={**a,**b}\n",
    "print(merge_dict)"
   ]
  },
  {
   "cell_type": "code",
   "execution_count": null,
   "metadata": {},
   "outputs": [],
   "source": []
  },
  {
   "cell_type": "markdown",
   "metadata": {},
   "source": [
    "Dictionary Identity and Membership operations"
   ]
  },
  {
   "cell_type": "code",
   "execution_count": 94,
   "metadata": {},
   "outputs": [
    {
     "name": "stdout",
     "output_type": "stream",
     "text": [
      "Identity operations\n",
      "\n",
      "a is identical as b\n",
      " False\n",
      "\n",
      "b isnot identical as a\n",
      " True\n",
      "\n",
      "a is identical as c\n",
      " True\n",
      "\n",
      "a isnot identical as c\n",
      " False\n",
      "\n",
      "Membarship operations\n",
      "\n",
      " 216 found in a\n",
      " True\n",
      "\n",
      " 216 found in b\n",
      " False\n",
      "\n",
      " 216 is notin b\n",
      " True\n",
      "\n",
      " 216 found in c keys\n",
      " False\n"
     ]
    }
   ],
   "source": [
    "# Identity operators is  and is not \n",
    "\n",
    "a={1: 1, 2: 8, 3: 27, 4: 64, 5: 125, 6: 216, 7: 343, 8: 512, 9: 729, 10: 1000}\n",
    "b= {1: 1, 3: 27, 5: 125, 7: 343, 9: 729}\n",
    "c=a\n",
    "print(\"Identity operations\")\n",
    "print(\"\\na is identical as b\\n\",a is b )\n",
    "print(\"\\nb isnot identical as a\\n\",b is not a)\n",
    "print(\"\\na is identical as c\\n\",a is c)\n",
    "print(\"\\na isnot identical as c\\n\",a is not c)\n",
    "\n",
    "# Membership operators in and not in \n",
    "print(\"\\nMembarship operations\")\n",
    "print(\"\\n 216 found in a\\n\",216 in a.values() )\n",
    "print(\"\\n 216 found in b\\n\",216 in b.values())\n",
    "print(\"\\n 216 is notin b\\n\",216 not in b.values())\n",
    "print(\"\\n 216 found in c keys\\n\",216 in c.keys())"
   ]
  },
  {
   "cell_type": "code",
   "execution_count": null,
   "metadata": {},
   "outputs": [],
   "source": []
  }
 ],
 "metadata": {
  "kernelspec": {
   "display_name": "Python 3",
   "language": "python",
   "name": "python3"
  },
  "language_info": {
   "codemirror_mode": {
    "name": "ipython",
    "version": 3
   },
   "file_extension": ".py",
   "mimetype": "text/x-python",
   "name": "python",
   "nbconvert_exporter": "python",
   "pygments_lexer": "ipython3",
   "version": "3.8.5"
  }
 },
 "nbformat": 4,
 "nbformat_minor": 5
}
