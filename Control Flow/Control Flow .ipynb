{
 "cells": [
  {
   "cell_type": "markdown",
   "metadata": {},
   "source": [
    "# Control Structures"
   ]
  },
  {
   "cell_type": "raw",
   "metadata": {},
   "source": [
    "# control structures \n",
    "\n",
    "The control will tell in which order or flow of  instruction or block of statements  will be executed \n",
    "\n",
    "Sequential Control- The statements were follows from top to bottom \n",
    "\n",
    "Selection Control- The condition is true the statement will be executed else other statements will be execute or exit of the loop \n",
    "\n",
    "Iterative Control -The condition is true  the statement  will be executed and again it will check the condition is true it repeats or iterates  until the condition  is false"
   ]
  },
  {
   "cell_type": "markdown",
   "metadata": {},
   "source": [
    "##  Sequential Control "
   ]
  },
  {
   "cell_type": "code",
   "execution_count": 1,
   "metadata": {},
   "outputs": [
    {
     "name": "stdout",
     "output_type": "stream",
     "text": [
      "hello hello hello hello hello \n"
     ]
    }
   ],
   "source": [
    "x= \"hello\"\n",
    "y = 5 \n",
    "z =(x+\" \")*y\n",
    "print(z)\n",
    "\n",
    "#here the approch is in sequential order from top to bottom"
   ]
  },
  {
   "cell_type": "markdown",
   "metadata": {},
   "source": [
    "##  Selection Control or Conditional Control\n",
    "\n",
    "Its written with keyword if along with  by  with conditional expression which return True or False and we have a colon which indicates the end of the condition.\n",
    "\n",
    "\n",
    "\n",
    "if expression is followed by a block of statements to be executed conditionally is indented,Python knows that this statement is governed by this if condition.\n",
    "\n",
    "indented must be uniform ,the block of statements are executed if conditional expression is True \n",
    "\n",
    "Indentation is used to define compound statements or blocks,Python is one of a relatively small set of off-side rule languages.\n",
    "\n",
    "\n",
    "Three codtional statements \n",
    "\n",
    "IF \n",
    "\n",
    "ELIF\n",
    "\n",
    "ELSE\n",
    "\n"
   ]
  },
  {
   "cell_type": "markdown",
   "metadata": {},
   "source": [
    "#### if syntax"
   ]
  },
  {
   "cell_type": "code",
   "execution_count": 2,
   "metadata": {},
   "outputs": [
    {
     "name": "stdout",
     "output_type": "stream",
     "text": [
      "if condtional expression:  \n",
      "           statement1\n",
      "           statement2\n",
      "           statement3\n"
     ]
    }
   ],
   "source": [
    "print(\"\"\"if condtional expression:  \n",
    "           statement1\n",
    "           statement2\n",
    "           statement3\"\"\")\n",
    "    "
   ]
  },
  {
   "cell_type": "markdown",
   "metadata": {},
   "source": [
    "###### Here the frist line has keyword if followed by condtional expression ending with colon(:), below the condtion were the list of statments which are executed when the condtion is True"
   ]
  },
  {
   "cell_type": "markdown",
   "metadata": {},
   "source": [
    "#### If else syntax"
   ]
  },
  {
   "cell_type": "code",
   "execution_count": 3,
   "metadata": {},
   "outputs": [
    {
     "name": "stdout",
     "output_type": "stream",
     "text": [
      "syntax:if else statement\n",
      "if test expression:\n",
      "             Body of if\n",
      "         else:\n",
      "             Body of else\n"
     ]
    }
   ],
   "source": [
    "print(\"syntax:if else statement\")\n",
    "print(\"\"\"if test expression:\n",
    "             Body of if\n",
    "         else:\n",
    "             Body of else\"\"\")\n",
    "\n",
    "\n"
   ]
  },
  {
   "cell_type": "markdown",
   "metadata": {},
   "source": [
    "#### if elif else synatx"
   ]
  },
  {
   "cell_type": "code",
   "execution_count": 4,
   "metadata": {},
   "outputs": [
    {
     "name": "stdout",
     "output_type": "stream",
     "text": [
      "syntax:if elif statement\n",
      "if <expr>:\n",
      "    <statement(s)>\n",
      "elif <expr>:\n",
      "    <statement(s)>\n",
      "elif <expr>:\n",
      "    <statement(s)>\n",
      "    ...\n",
      "else:\n",
      "    <statement(s)>\n"
     ]
    }
   ],
   "source": [
    "print(\"syntax:if elif statement\")\n",
    "print(\"\"\"if <expr>:\n",
    "    <statement(s)>\n",
    "elif <expr>:\n",
    "    <statement(s)>\n",
    "elif <expr>:\n",
    "    <statement(s)>\n",
    "    ...\n",
    "else:\n",
    "    <statement(s)>\"\"\")"
   ]
  },
  {
   "cell_type": "markdown",
   "metadata": {},
   "source": [
    "## Iterative Control\n",
    "Repeated execution \n",
    "we want to repeat something a  number of times.this repeated execution is know as iteration \n",
    "\n",
    "python  type of loop iterates over a collection of objects, Rather than always iterating over an arithmetic progression of numbers (like in Pascal), or giving the user the ability to define both the iteration step and halting condition (as C).\n",
    "\n",
    "iteration vs iterable\n",
    "\n",
    "iteration -The process of looping through the objects or items in a collection\n",
    "    \n",
    "iterable - an object can be used in iteration,it can be passed to the built-in Python function iter(), which returns something called an iterator\n",
    "\n",
    "Iterator-the object that produces successive items or values from its associated iterable\n",
    "The built-in function next() is used to obtain the next value from in iteratable,\n",
    "its more like internal counter in increment to length of the object and ends with stop iterartion"
   ]
  },
  {
   "cell_type": "code",
   "execution_count": 5,
   "metadata": {},
   "outputs": [
    {
     "name": "stdout",
     "output_type": "stream",
     "text": [
      "iteration over a object\n",
      "\n",
      "iterated string object\n",
      " <str_iterator object at 0x000001A30D36AD60>\n"
     ]
    }
   ],
   "source": [
    "#iteration over a object\n",
    "print(\"iteration over a object\\n\")\n",
    "a=\"lok\"\n",
    "itr=iter(a,)# bulit in function iter()\n",
    "print(\"iterated string object\\n\",itr)\n",
    "\n"
   ]
  },
  {
   "cell_type": "code",
   "execution_count": 6,
   "metadata": {},
   "outputs": [
    {
     "name": "stdout",
     "output_type": "stream",
     "text": [
      "\n",
      "obtain the values from iteratation\n",
      "\n",
      "1st value from iterartor\n",
      " l\n",
      "2nd value from iterartor\n",
      " o\n",
      "3rd value from iterartor\n",
      " k\n",
      "\n",
      "iterator runs out of values?\n",
      "\n"
     ]
    },
    {
     "ename": "StopIteration",
     "evalue": "",
     "output_type": "error",
     "traceback": [
      "\u001b[1;31m---------------------------------------------------------------------------\u001b[0m",
      "\u001b[1;31mStopIteration\u001b[0m                             Traceback (most recent call last)",
      "\u001b[1;32m<ipython-input-6-69ecbc495aae>\u001b[0m in \u001b[0;36m<module>\u001b[1;34m\u001b[0m\n\u001b[0;32m      7\u001b[0m \u001b[1;31m# if the iteration  runs out of values?\u001b[0m\u001b[1;33m\u001b[0m\u001b[1;33m\u001b[0m\u001b[1;33m\u001b[0m\u001b[0m\n\u001b[0;32m      8\u001b[0m \u001b[0mprint\u001b[0m\u001b[1;33m(\u001b[0m\u001b[1;34m\"\\niterator runs out of values?\\n\"\u001b[0m\u001b[1;33m)\u001b[0m\u001b[1;33m\u001b[0m\u001b[1;33m\u001b[0m\u001b[0m\n\u001b[1;32m----> 9\u001b[1;33m \u001b[0mprint\u001b[0m\u001b[1;33m(\u001b[0m\u001b[0mnext\u001b[0m\u001b[1;33m(\u001b[0m\u001b[0mitr\u001b[0m\u001b[1;33m)\u001b[0m\u001b[1;33m)\u001b[0m\u001b[1;33m\u001b[0m\u001b[1;33m\u001b[0m\u001b[0m\n\u001b[0m",
      "\u001b[1;31mStopIteration\u001b[0m: "
     ]
    }
   ],
   "source": [
    "#obtain the values from iteratation  using next funtion \n",
    "print(\"\\nobtain the values from iteratation\\n\")\n",
    "print(\"1st value from iterartor\\n\",next(itr))# bulit in function next()\n",
    "print(\"2nd value from iterartor\\n\",next(itr))\n",
    "print(\"3rd value from iterartor\\n\",next(itr))\n",
    "\n",
    "# if the iteration  runs out of values? \n",
    "print(\"\\niterator runs out of values?\\n\")\n",
    "print(next(itr))"
   ]
  },
  {
   "cell_type": "code",
   "execution_count": 7,
   "metadata": {},
   "outputs": [
    {
     "name": "stdout",
     "output_type": "stream",
     "text": [
      "Help on built-in function iter in module builtins:\n",
      "\n",
      "iter(...)\n",
      "    iter(iterable) -> iterator\n",
      "    iter(callable, sentinel) -> iterator\n",
      "    \n",
      "    Get an iterator from an object.  In the first form, the argument must\n",
      "    supply its own iterator, or be a sequence.\n",
      "    In the second form, the callable is called until it returns the sentinel.\n",
      "\n"
     ]
    }
   ],
   "source": [
    "help(iter)"
   ]
  },
  {
   "cell_type": "code",
   "execution_count": 8,
   "metadata": {},
   "outputs": [
    {
     "name": "stdout",
     "output_type": "stream",
     "text": [
      "Help on built-in function next in module builtins:\n",
      "\n",
      "next(...)\n",
      "    next(iterator[, default])\n",
      "    \n",
      "    Return the next item from the iterator. If default is given and the iterator\n",
      "    is exhausted, it is returned instead of raising StopIteration.\n",
      "\n"
     ]
    }
   ],
   "source": [
    "help(next)"
   ]
  },
  {
   "cell_type": "markdown",
   "metadata": {},
   "source": [
    "#### syntax for for loop "
   ]
  },
  {
   "cell_type": "code",
   "execution_count": 11,
   "metadata": {},
   "outputs": [
    {
     "name": "stdout",
     "output_type": "stream",
     "text": [
      "syntax :\n",
      "\n",
      "for (iterator_object) in (expression_list):\n",
      "    Body of statement\n"
     ]
    }
   ],
   "source": [
    "\n",
    "print(\"\"\"syntax :\n",
    "\n",
    "for (iterator_object) in (expression_list):\n",
    "    Body of statement\"\"\")\n"
   ]
  },
  {
   "cell_type": "markdown",
   "metadata": {},
   "source": [
    "#####  Here the for loop iterates over an  range or list which yeild the iterator object , for key word followed by iterator object over a range end with colon(:)"
   ]
  },
  {
   "cell_type": "markdown",
   "metadata": {},
   "source": [
    "#### while loop syntax\n"
   ]
  },
  {
   "cell_type": "code",
   "execution_count": 10,
   "metadata": {},
   "outputs": [
    {
     "name": "stdout",
     "output_type": "stream",
     "text": [
      "while loop syntax:\n",
      "\n",
      "while assignment_expression: \n",
      "      Body of statement\n",
      "\n"
     ]
    }
   ],
   "source": [
    "\n",
    "print(\"\"\"while loop syntax:\n",
    "\n",
    "while assignment_expression: \n",
    "      Body of statement\n",
    "\"\"\")\n"
   ]
  },
  {
   "cell_type": "markdown",
   "metadata": {},
   "source": [
    "##### while iterates if the assigment expression is true"
   ]
  },
  {
   "cell_type": "code",
   "execution_count": null,
   "metadata": {},
   "outputs": [],
   "source": []
  }
 ],
 "metadata": {
  "kernelspec": {
   "display_name": "Python 3",
   "language": "python",
   "name": "python3"
  },
  "language_info": {
   "codemirror_mode": {
    "name": "ipython",
    "version": 3
   },
   "file_extension": ".py",
   "mimetype": "text/x-python",
   "name": "python",
   "nbconvert_exporter": "python",
   "pygments_lexer": "ipython3",
   "version": "3.8.5"
  }
 },
 "nbformat": 4,
 "nbformat_minor": 4
}
