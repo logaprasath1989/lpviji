{
 "cells": [
  {
   "cell_type": "markdown",
   "metadata": {},
   "source": [
    "A set is an unordered collection of items. Every set element is unique (no duplicates) and items of the set cannot be modified once created \n",
    "\n",
    "However, a set itself is mutable. We can add or remove items from it.\n",
    "\n",
    "Sets can also be used to perform mathematical set operations like union, intersection, symmetric difference, etc."
   ]
  },
  {
   "cell_type": "code",
   "execution_count": 183,
   "metadata": {
    "scrolled": true
   },
   "outputs": [
    {
     "name": "stdout",
     "output_type": "stream",
     "text": [
      "\n",
      "Set syntax\n",
      "\n",
      "set={element1,element2}\n",
      "\n",
      "set is the items (elements) inside curly braces {}, separated by comma\n"
     ]
    }
   ],
   "source": [
    "#syntax of set \n",
    "#set is created by placing all the items (elements) inside curly braces {}, separated by comma, or by using the built-in set() functi\n",
    "print(\"\\nSet syntax\\n\")\n",
    "print(\"set={element1,element2}\\n\")\n",
    "print(\"set is the items (elements) inside curly braces {}, separated by comma\")\n"
   ]
  },
  {
   "cell_type": "code",
   "execution_count": 17,
   "metadata": {},
   "outputs": [
    {
     "name": "stdout",
     "output_type": "stream",
     "text": [
      "['__and__', '__class__', '__contains__', '__delattr__', '__dir__', '__doc__', '__eq__', '__format__', '__ge__', '__getattribute__', '__gt__', '__hash__', '__iand__', '__init__', '__init_subclass__', '__ior__', '__isub__', '__iter__', '__ixor__', '__le__', '__len__', '__lt__', '__ne__', '__new__', '__or__', '__rand__', '__reduce__', '__reduce_ex__', '__repr__', '__ror__', '__rsub__', '__rxor__', '__setattr__', '__sizeof__', '__str__', '__sub__', '__subclasshook__', '__xor__', 'add', 'clear', 'copy', 'difference', 'difference_update', 'discard', 'intersection', 'intersection_update', 'isdisjoint', 'issubset', 'issuperset', 'pop', 'remove', 'symmetric_difference', 'symmetric_difference_update', 'union', 'update']"
     ]
    }
   ],
   "source": [
    "#methods and attributes of set \n",
    "x=dir(set)\n",
    "print(x,end=\"\")"
   ]
  },
  {
   "cell_type": "code",
   "execution_count": 18,
   "metadata": {},
   "outputs": [
    {
     "name": "stdout",
     "output_type": "stream",
     "text": [
      "Help on class set in module builtins:\n",
      "\n",
      "class set(object)\n",
      " |  set() -> new empty set object\n",
      " |  set(iterable) -> new set object\n",
      " |  \n",
      " |  Build an unordered collection of unique elements.\n",
      " |  \n",
      " |  Methods defined here:\n",
      " |  \n",
      " |  __and__(self, value, /)\n",
      " |      Return self&value.\n",
      " |  \n",
      " |  __contains__(...)\n",
      " |      x.__contains__(y) <==> y in x.\n",
      " |  \n",
      " |  __eq__(self, value, /)\n",
      " |      Return self==value.\n",
      " |  \n",
      " |  __ge__(self, value, /)\n",
      " |      Return self>=value.\n",
      " |  \n",
      " |  __getattribute__(self, name, /)\n",
      " |      Return getattr(self, name).\n",
      " |  \n",
      " |  __gt__(self, value, /)\n",
      " |      Return self>value.\n",
      " |  \n",
      " |  __iand__(self, value, /)\n",
      " |      Return self&=value.\n",
      " |  \n",
      " |  __init__(self, /, *args, **kwargs)\n",
      " |      Initialize self.  See help(type(self)) for accurate signature.\n",
      " |  \n",
      " |  __ior__(self, value, /)\n",
      " |      Return self|=value.\n",
      " |  \n",
      " |  __isub__(self, value, /)\n",
      " |      Return self-=value.\n",
      " |  \n",
      " |  __iter__(self, /)\n",
      " |      Implement iter(self).\n",
      " |  \n",
      " |  __ixor__(self, value, /)\n",
      " |      Return self^=value.\n",
      " |  \n",
      " |  __le__(self, value, /)\n",
      " |      Return self<=value.\n",
      " |  \n",
      " |  __len__(self, /)\n",
      " |      Return len(self).\n",
      " |  \n",
      " |  __lt__(self, value, /)\n",
      " |      Return self<value.\n",
      " |  \n",
      " |  __ne__(self, value, /)\n",
      " |      Return self!=value.\n",
      " |  \n",
      " |  __or__(self, value, /)\n",
      " |      Return self|value.\n",
      " |  \n",
      " |  __rand__(self, value, /)\n",
      " |      Return value&self.\n",
      " |  \n",
      " |  __reduce__(...)\n",
      " |      Return state information for pickling.\n",
      " |  \n",
      " |  __repr__(self, /)\n",
      " |      Return repr(self).\n",
      " |  \n",
      " |  __ror__(self, value, /)\n",
      " |      Return value|self.\n",
      " |  \n",
      " |  __rsub__(self, value, /)\n",
      " |      Return value-self.\n",
      " |  \n",
      " |  __rxor__(self, value, /)\n",
      " |      Return value^self.\n",
      " |  \n",
      " |  __sizeof__(...)\n",
      " |      S.__sizeof__() -> size of S in memory, in bytes\n",
      " |  \n",
      " |  __sub__(self, value, /)\n",
      " |      Return self-value.\n",
      " |  \n",
      " |  __xor__(self, value, /)\n",
      " |      Return self^value.\n",
      " |  \n",
      " |  add(...)\n",
      " |      Add an element to a set.\n",
      " |      \n",
      " |      This has no effect if the element is already present.\n",
      " |  \n",
      " |  clear(...)\n",
      " |      Remove all elements from this set.\n",
      " |  \n",
      " |  copy(...)\n",
      " |      Return a shallow copy of a set.\n",
      " |  \n",
      " |  difference(...)\n",
      " |      Return the difference of two or more sets as a new set.\n",
      " |      \n",
      " |      (i.e. all elements that are in this set but not the others.)\n",
      " |  \n",
      " |  difference_update(...)\n",
      " |      Remove all elements of another set from this set.\n",
      " |  \n",
      " |  discard(...)\n",
      " |      Remove an element from a set if it is a member.\n",
      " |      \n",
      " |      If the element is not a member, do nothing.\n",
      " |  \n",
      " |  intersection(...)\n",
      " |      Return the intersection of two sets as a new set.\n",
      " |      \n",
      " |      (i.e. all elements that are in both sets.)\n",
      " |  \n",
      " |  intersection_update(...)\n",
      " |      Update a set with the intersection of itself and another.\n",
      " |  \n",
      " |  isdisjoint(...)\n",
      " |      Return True if two sets have a null intersection.\n",
      " |  \n",
      " |  issubset(...)\n",
      " |      Report whether another set contains this set.\n",
      " |  \n",
      " |  issuperset(...)\n",
      " |      Report whether this set contains another set.\n",
      " |  \n",
      " |  pop(...)\n",
      " |      Remove and return an arbitrary set element.\n",
      " |      Raises KeyError if the set is empty.\n",
      " |  \n",
      " |  remove(...)\n",
      " |      Remove an element from a set; it must be a member.\n",
      " |      \n",
      " |      If the element is not a member, raise a KeyError.\n",
      " |  \n",
      " |  symmetric_difference(...)\n",
      " |      Return the symmetric difference of two sets as a new set.\n",
      " |      \n",
      " |      (i.e. all elements that are in exactly one of the sets.)\n",
      " |  \n",
      " |  symmetric_difference_update(...)\n",
      " |      Update a set with the symmetric difference of itself and another.\n",
      " |  \n",
      " |  union(...)\n",
      " |      Return the union of sets as a new set.\n",
      " |      \n",
      " |      (i.e. all elements that are in either set.)\n",
      " |  \n",
      " |  update(...)\n",
      " |      Update a set with the union of itself and others.\n",
      " |  \n",
      " |  ----------------------------------------------------------------------\n",
      " |  Static methods defined here:\n",
      " |  \n",
      " |  __new__(*args, **kwargs) from builtins.type\n",
      " |      Create and return a new object.  See help(type) for accurate signature.\n",
      " |  \n",
      " |  ----------------------------------------------------------------------\n",
      " |  Data and other attributes defined here:\n",
      " |  \n",
      " |  __hash__ = None\n",
      "\n",
      "None"
     ]
    }
   ],
   "source": [
    "x=help(set)\n",
    "print(x,end=\"\")"
   ]
  },
  {
   "cell_type": "code",
   "execution_count": 79,
   "metadata": {},
   "outputs": [
    {
     "name": "stdout",
     "output_type": "stream",
     "text": [
      "the type of empty {} is an  dictionary  :\n",
      " {} <class 'dict'>\n",
      "\n",
      "A set can be empty,python interprets empty curly braces ({}) as an empty dictionary,\n",
      "\n",
      "\n",
      "creating empty set using setfunction():\n",
      "setfunction= set() <class 'set'>\n",
      "\n",
      "set with {}:\n",
      "set1= {987456321, '29jun1989', '83.25', 'lok', 30} <class 'set'>\n",
      "\n",
      "set without {}:\n",
      "set2= ('lok', 30, 83.25) <class 'tuple'>\n",
      "\n",
      "set are unordered\n",
      "un_ordered= {987456321, '29jun1989', '83.25', 'lok', 30} <class 'set'>\n",
      "\n",
      "set removes the duplicates\n",
      " {1, 2, 3, 4, 40, 12, 30} 7\n",
      "\n",
      "mixed_set with different data types\n",
      "\n",
      "{True, 4, (1, 2, 3), 'lok', (7+8j)} <class 'set'> 5\n",
      "{1, 2, 3, 7, 8, 9, (4, 5, 6.2)} <class 'set'> 7\n"
     ]
    }
   ],
   "source": [
    "#empty set \n",
    "set1={}\n",
    "print(\"the type of empty {} is an  dictionary  :\\n\",set1,type(set1))# empty set is not an set \n",
    "print(\"\\nA set can be empty,python interprets empty curly braces ({}) as an empty dictionary,\\n\")\n",
    "#A set can be empty. However, recall that Python interprets empty curly braces ({}) as an empty dictionary, so the only way to define an empty set is with the set() function:\n",
    "setfunction=set()\n",
    "print(\"\\ncreating empty set using setfunction():\\nsetfunction=\",setfunction,type(setfunction))\n",
    "\n",
    "#creating a set \n",
    "set1={\"lok\",30,\"83.25\",\"29jun1989\",987456321}# enclosed in curly brakets  and elements are seprated by comma, \n",
    "set2=\"lok\",30,83.25 # curly brackets is complusory ,were its readed as tuple data type\n",
    "print(\"\\nset with {}:\\nset1=\",set1,type(set1))\n",
    "print(\"\\nset without {}:\\nset2=\",set2,type(set2))\n",
    "\n",
    "#un_ordered \n",
    "un_ordered={\"lok\",30,\"83.25\",\"29jun1989\",987456321}\n",
    "print(\"\\nset are unordered\\nun_ordered=\",un_ordered,type(un_ordered))\n",
    "\n",
    "#set has no duplicates\n",
    "set_a={12,30,12,40,1,40,2,3,4,1}\n",
    "print(\"\\nset removes the duplicates\\n\",set_a,len(set_a))# it gives the length of non duplicate elements \n",
    "\n",
    "# set with different data types \n",
    "mixed_set={True,\"lok\",(1,2,3),4,7+8j}# set  can hold mixed data types which are immutable like tuple,string  \n",
    "print(\"\\nmixed_set with different data types\\n\")# putting set inside a set resut in type error-unhashable type: 'set'\n",
    "print(mixed_set,type(mixed_set),(len(mixed_set)))\n",
    "\n",
    "#nested set\n",
    "nested_set={1,2,3,(4,5,6.2),7,8,9}\n",
    "print(nested_set,type(nested_set),len(nested_set))#here each nested set is count as element \n"
   ]
  },
  {
   "cell_type": "code",
   "execution_count": 60,
   "metadata": {
    "scrolled": true
   },
   "outputs": [
    {
     "name": "stdout",
     "output_type": "stream",
     "text": [
      "{'r', 't', 's', 'o', 'p', 'g', 'l', 'h', 'a'}\n"
     ]
    },
    {
     "ename": "TypeError",
     "evalue": "unhashable type: 'list'",
     "output_type": "error",
     "traceback": [
      "\u001b[1;31m---------------------------------------------------------------------------\u001b[0m",
      "\u001b[1;31mTypeError\u001b[0m                                 Traceback (most recent call last)",
      "\u001b[1;32m<ipython-input-60-16b862ab1f22>\u001b[0m in \u001b[0;36m<module>\u001b[1;34m\u001b[0m\n\u001b[0;32m      9\u001b[0m \u001b[1;31m# assign set to a list\u001b[0m\u001b[1;33m\u001b[0m\u001b[1;33m\u001b[0m\u001b[1;33m\u001b[0m\u001b[0m\n\u001b[0;32m     10\u001b[0m \u001b[0mlist1\u001b[0m\u001b[1;33m=\u001b[0m\u001b[1;33m[\u001b[0m\u001b[1;36m1\u001b[0m\u001b[1;33m,\u001b[0m\u001b[1;36m2\u001b[0m\u001b[1;33m,\u001b[0m\u001b[1;36m3\u001b[0m\u001b[1;33m,\u001b[0m\u001b[1;36m4\u001b[0m\u001b[1;33m,\u001b[0m\u001b[1;36m5\u001b[0m\u001b[1;33m,\u001b[0m\u001b[1;36m6\u001b[0m\u001b[1;33m]\u001b[0m\u001b[1;33m\u001b[0m\u001b[1;33m\u001b[0m\u001b[0m\n\u001b[1;32m---> 11\u001b[1;33m \u001b[1;33m{\u001b[0m\u001b[0mlist1\u001b[0m\u001b[1;33m}\u001b[0m\u001b[1;33m\u001b[0m\u001b[1;33m\u001b[0m\u001b[0m\n\u001b[0m\u001b[0;32m     12\u001b[0m \u001b[1;33m\u001b[0m\u001b[0m\n\u001b[0;32m     13\u001b[0m \u001b[1;31m# assign set to a dict\u001b[0m\u001b[1;33m\u001b[0m\u001b[1;33m\u001b[0m\u001b[1;33m\u001b[0m\u001b[0m\n",
      "\u001b[1;31mTypeError\u001b[0m: unhashable type: 'list'"
     ]
    }
   ],
   "source": [
    "#set bulit-in function\n",
    "a=\"logaprasath\"\n",
    "b=set(a)#set() function with an iterable object\n",
    "print(b)\n",
    "# assign set to a tuple\n",
    "tup=(4,5,6.2,7,8,9)\n",
    "{tup}\n",
    "\n",
    "# assign set to a list \n",
    "list1=[1,2,3,4,5,6]\n",
    "{list1}\n",
    "\n",
    "# assign set to a dict \n",
    "d = {'a': 1, 'b': 2}\n",
    "{d}"
   ]
  },
  {
   "cell_type": "markdown",
   "metadata": {},
   "source": [
    "ADDING ,DELETING ELEMENTS OF SET USING BUILT IN METHODS "
   ]
  },
  {
   "cell_type": "code",
   "execution_count": 164,
   "metadata": {},
   "outputs": [
    {
     "name": "stdout",
     "output_type": "stream",
     "text": [
      "original set:\n",
      "my_set {1, 3}\n",
      "\n",
      "adding element using add()funtion:\n",
      "my_set= {1, 2, 3}\n",
      "\n",
      "adding duplicate element-3 using add()funtion:\n",
      "my_set= {1, 2, 3}\n",
      "\n",
      "add function does not support duplicates in set \n",
      "\n",
      "\n",
      "adding multiple elements\n",
      "\n",
      "printing the original set:\n",
      "Months= {'May', 'January', 'February', 'June', 'March', 'April'}\n",
      "\n",
      "updating the original set ... \n",
      "\n",
      "\n",
      "printing the modified set:\n",
      "Months=  {'May', 'September', 'July', 'January', 'February', 'June', 'October', 'August', 'March', 'April'}\n",
      "\n",
      "adding two sets set1andset2\n",
      "\n",
      "printing the added two  set:\n",
      "set3=  None\n"
     ]
    }
   ],
   "source": [
    "#adding elements to set \n",
    "my_set={1,3}\n",
    "set2={4,5,6,7}\n",
    "print(\"original set:\\nmy_set\",my_set)\n",
    "#my_set[0]=2 were set doesnot support indexing \n",
    "# using add() function \n",
    "my_set.add(2) # add(1arugument) takes only one arugument at a time \n",
    "print(\"\\nadding element using add()funtion:\\nmy_set=\",my_set)\n",
    "# add duplicate element \n",
    "my_set.add(3)\n",
    "print(\"\\nadding duplicate element-3 using add()funtion:\\nmy_set=\",my_set)# add function does no support duplicates in set \n",
    "print(\"\\nadd function does not support duplicates in set \")\n",
    "\n",
    "#adding multiple elements  using update() function \n",
    "print(\"\\n\\nadding multiple elements\")\n",
    "Months = set([\"January\",\"February\", \"March\", \"April\", \"May\", \"June\"])    \n",
    "print(\"\\nprinting the original set:\\nMonths=\",Months)    \n",
    "print(\"\\nupdating the original set ... \\n\")    \n",
    "Months.update([\"July\",\"August\",\"September\",\"October\",\"June\"]);    \n",
    "print(\"\\nprinting the modified set:\\nMonths= \",Months) \n",
    "\n",
    "print(\"\\nadding two sets set1andset2\")\n",
    "set3=set1.update(set2)\n",
    "print(\"\\nprinting the added two  set:\\nset3= \",set3) \n"
   ]
  },
  {
   "cell_type": "code",
   "execution_count": 130,
   "metadata": {},
   "outputs": [
    {
     "name": "stdout",
     "output_type": "stream",
     "text": [
      "\n",
      "copy() method\n",
      "the original  set:\n",
      "original= {1, 2, 3}\n",
      "\n",
      "copy the original set to new set\n",
      "\n",
      "the new dict from the original dict:\n",
      "new= {1, 2, 3}\n",
      "\n",
      "the new set is modified:\n",
      "modifiednew= {1, 2, 3, 4}\n",
      "\n",
      "current sets original and modified new:\n",
      " {1, 2, 3} {1, 2, 3, 4}\n"
     ]
    }
   ],
   "source": [
    "#copy() method returns a shallow copy of the set. It doesn't modify the original set.\n",
    "print(\"\\ncopy() method\")\n",
    "original = {1,3,2}\n",
    "print(\"the original  set:\\noriginal=\",original)\n",
    "print(\"\\ncopy the original set to new set\")\n",
    "new = original.copy()\n",
    "print('\\nthe new dict from the original dict:\\nnew=', new)\n",
    "new.add(4)\n",
    "print('\\nthe new set is modified:\\nmodifiednew=',new)\n",
    "\n",
    "print('\\ncurrent sets original and modified new:\\n',original,new)# it doesn't modify the original set"
   ]
  },
  {
   "cell_type": "code",
   "execution_count": 113,
   "metadata": {},
   "outputs": [
    {
     "name": "stdout",
     "output_type": "stream",
     "text": [
      "\n",
      "printing the original set:\n",
      "Months= {'May', 'January', 'February', 'June', 'March', 'April'}\n",
      "\n",
      "Removing items through discard() method...\n",
      "\n",
      "printing the modified set\n",
      "Months= {'May', 'January', 'June', 'March', 'April'}\n",
      "\n",
      "Removing unlisted  items Jun through discard() method...\n",
      "\n",
      "printing the modified set\n",
      "Months= {'May', 'January', 'June', 'March', 'April'}\n",
      "\n",
      "will not give an error although the key Jun is not available in the set\n",
      "\n",
      "\n",
      "Removing items through remove() method...\n",
      "\n",
      "printing the original set:\n",
      "Months= {'May', 'January', 'June', 'March', 'April'}\n",
      "\n",
      "printing the modified set\n",
      "Months= {'May', 'January', 'June', 'March'}\n",
      "\n",
      "Removing unlisted  items Jan through remove() method...\n",
      "will give an error as the key jan is not available in the set. \n"
     ]
    },
    {
     "ename": "KeyError",
     "evalue": "'Jan'",
     "output_type": "error",
     "traceback": [
      "\u001b[1;31m---------------------------------------------------------------------------\u001b[0m",
      "\u001b[1;31mKeyError\u001b[0m                                  Traceback (most recent call last)",
      "\u001b[1;32m<ipython-input-113-99a377d9150b>\u001b[0m in \u001b[0;36m<module>\u001b[1;34m\u001b[0m\n\u001b[0;32m     19\u001b[0m \u001b[0mprint\u001b[0m\u001b[1;33m(\u001b[0m\u001b[1;34m\"\\nRemoving unlisted  items Jan through remove() method...\"\u001b[0m\u001b[1;33m)\u001b[0m\u001b[1;33m\u001b[0m\u001b[1;33m\u001b[0m\u001b[0m\n\u001b[0;32m     20\u001b[0m \u001b[0mprint\u001b[0m\u001b[1;33m(\u001b[0m\u001b[1;34m\"will give an error as the key jan is not available in the set. \"\u001b[0m\u001b[1;33m)\u001b[0m\u001b[1;33m\u001b[0m\u001b[1;33m\u001b[0m\u001b[0m\n\u001b[1;32m---> 21\u001b[1;33m \u001b[0mMonths\u001b[0m\u001b[1;33m.\u001b[0m\u001b[0mremove\u001b[0m\u001b[1;33m(\u001b[0m\u001b[1;34m\"Jan\"\u001b[0m\u001b[1;33m)\u001b[0m \u001b[1;31m#will give an error as the key jan is not available in the set.\u001b[0m\u001b[1;33m\u001b[0m\u001b[1;33m\u001b[0m\u001b[0m\n\u001b[0m\u001b[0;32m     22\u001b[0m \u001b[0mprint\u001b[0m\u001b[1;33m(\u001b[0m\u001b[1;34m\"\\nPrinting the modified set...\"\u001b[0m\u001b[1;33m)\u001b[0m\u001b[1;33m\u001b[0m\u001b[1;33m\u001b[0m\u001b[0m\n\u001b[0;32m     23\u001b[0m \u001b[0mprint\u001b[0m\u001b[1;33m(\u001b[0m\u001b[0mMonths\u001b[0m\u001b[1;33m)\u001b[0m\u001b[1;33m\u001b[0m\u001b[1;33m\u001b[0m\u001b[0m\n",
      "\u001b[1;31mKeyError\u001b[0m: 'Jan'"
     ]
    }
   ],
   "source": [
    "#deleting elemenst of the set  \n",
    "#discard () function \n",
    "Months = set([\"January\",\"February\", \"March\", \"April\", \"May\", \"June\"])    \n",
    "print(\"\\nprinting the original set:\\nMonths=\",Months)    \n",
    "print(\"\\nRemoving items through discard() method...\");\n",
    "Months.discard(\"February\")\n",
    "print(\"\\nprinting the modified set\\nMonths=\",Months)\n",
    "# unlisted item  deleting \n",
    "print(\"\\nRemoving unlisted  items Jun through discard() method...\");\n",
    "Months.discard(\"Jun\"); #will not give an error although the key Jun is not available in the set    \n",
    "print(\"\\nprinting the modified set\\nMonths=\",Months)\n",
    "print(\"\\nwill not give an error although the key Jun is not available in the set\\n\")\n",
    "\n",
    "#remove function \n",
    "print(\"\\nRemoving items through remove() method...\");    \n",
    "print(\"\\nprinting the original set:\\nMonths=\",Months)  \n",
    "Months.remove(\"April\")\n",
    "print(\"\\nprinting the modified set\\nMonths=\",Months)\n",
    "print(\"\\nRemoving unlisted  items Jan through remove() method...\")\n",
    "print(\"will give an error as the key jan is not available in the set. \")\n",
    "Months.remove(\"Jan\") #will give an error as the key jan is not available in the set.     \n",
    "print(\"\\nPrinting the modified set...\")    \n",
    "print(Months)    "
   ]
  },
  {
   "cell_type": "code",
   "execution_count": 126,
   "metadata": {},
   "outputs": [
    {
     "name": "stdout",
     "output_type": "stream",
     "text": [
      "\n",
      "printing the original set:\n",
      "Months= {'May', 'January', 'February', 'June', 'March', 'April'}\n",
      "\n",
      "printing the modified set after pop() funtion\n",
      "Months= {'January', 'February', 'June', 'March', 'April'}\n",
      "\n",
      "pop functions delets or pop the items randomly:\n",
      "\n",
      "pop() does  not take any aruuments\n"
     ]
    },
    {
     "data": {
      "text/plain": [
       "'January'"
      ]
     },
     "execution_count": 126,
     "metadata": {},
     "output_type": "execute_result"
    }
   ],
   "source": [
    "# deleting the item using POP() function \n",
    "Months = set([\"January\",\"February\", \"March\", \"April\", \"May\", \"June\"])    \n",
    "print(\"\\nprinting the original set:\\nMonths=\",Months)  \n",
    "Months.pop()\n",
    "print(\"\\nprinting the modified set after pop() funtion\\nMonths=\",Months)\n",
    "print(\"\\npop functions delets or pop the items randomly:\\n\")\n",
    "print(\"pop() does  not take any aruuments\")\n",
    "Months.pop()\n"
   ]
  },
  {
   "cell_type": "code",
   "execution_count": 134,
   "metadata": {
    "scrolled": true
   },
   "outputs": [
    {
     "name": "stdout",
     "output_type": "stream",
     "text": [
      "\n",
      "printing the original set:\n",
      "Months= {'May', 'January', 'February', 'June', 'March', 'April'}\n",
      "\n",
      "printing the modified set after clear() funtion\n",
      "Months= set()\n",
      "\n",
      "clears all the elements of the set\n",
      "\n"
     ]
    }
   ],
   "source": [
    "# deleting the allthe item using clear() function \n",
    "Months = set([\"January\",\"February\", \"March\", \"April\", \"May\", \"June\"])    \n",
    "print(\"\\nprinting the original set:\\nMonths=\",Months)  \n",
    "Months.clear()\n",
    "print(\"\\nprinting the modified set after clear() funtion\\nMonths=\",Months)\n",
    "print(\"\\nclears all the elements of the set\\n\")"
   ]
  },
  {
   "cell_type": "markdown",
   "metadata": {},
   "source": [
    "SET OPERATIONS/Built in Method\n",
    "Sets can be used to carry out mathematical set operations like union, intersection, difference and symmetric difference. We can do this with operators or methods."
   ]
  },
  {
   "cell_type": "code",
   "execution_count": 162,
   "metadata": {},
   "outputs": [
    {
     "name": "stdout",
     "output_type": "stream",
     "text": [
      "\n",
      "Union method\n",
      "\n",
      "syntax: A.union(B)\n",
      "syntax: print(A | B)\n",
      "setA:\n",
      "A= {1, 2, 3, 4, 5}\n",
      "setB:\n",
      "B= {4, 5, 6, 7, 8}\n",
      "setC:\n",
      "C= {1, 9, 10, 11, 12, 13, 15}\n",
      "\n",
      "A union B is:\n",
      " {1, 2, 3, 4, 5, 6, 7, 8}\n",
      "\n",
      "B union A is:\n",
      " {1, 2, 3, 4, 5, 6, 7, 8}\n",
      "\n",
      "A union B is:\n",
      " {1, 2, 3, 4, 5, 6, 7, 8}\n",
      "\n",
      "B union A is:\n",
      " {1, 2, 3, 4, 5, 6, 7, 8}\n",
      "\n",
      "union of multiple sets\n",
      "\n",
      "\n",
      "A union B and C is:\n",
      " {1, 2, 3, 4, 5, 6, 7, 8, 9, 10, 11, 12, 13, 15}\n",
      "\n",
      "A union B and C is:\n",
      " {1, 2, 3, 4, 5, 6, 7, 8, 9, 10, 11, 12, 13, 15}\n",
      "\n",
      "A union B   or B union A gives the union of sets  after removing the duplicat elements in sets \n",
      "\n",
      "These syntax not allowed A|{4, 5, 6, 7, 8} & A.union({4, 5, 6, 7, 8})\n",
      "\n",
      "\n",
      "These syntax result in type error\n"
     ]
    }
   ],
   "source": [
    "#Union method\n",
    "print(\"\\nUnion method\\n\")\n",
    "\n",
    "print(\"syntax: A.union(B)\")\n",
    "print(\"syntax: print(A | B)\")\n",
    "A = {1, 2, 3, 4, 5}\n",
    "B = {4, 5, 6, 7, 8}\n",
    "C={9,10,11,1,12,13,15}\n",
    "print(\"setA:\\nA=\",A)\n",
    "print(\"setB:\\nB=\",B)\n",
    "print(\"setC:\\nC=\",C)\n",
    "#Union of A and B is a set of all elements from both sets.\n",
    "#Union is performed using | operator. Same can be accomplished using the union() method.\n",
    "print(\"\\nA union B is:\\n\",A.union(B))\n",
    "print(\"\\nB union A is:\\n\",B.union(A))\n",
    "print(\"\\nA union B is:\\n\",(A | B))\n",
    "print(\"\\nB union A is:\\n\",(B | A))\n",
    "print(\"\\nunion of multiple sets\\n\")\n",
    "print(\"\\nA union B and C is:\\n\",A.union(B,C))\n",
    "print(\"\\nA union B and C is:\\n\",(A | B| C))\n",
    "print(\"\\nA union B   or B union A gives the union of sets  after removing the duplicat elements in sets \")\n",
    "\n",
    "print(\"\\nThese syntax not allowed A|{4, 5, 6, 7, 8} & A.union({4, 5, 6, 7, 8})\\n\")\n",
    "print(\"\\nThese syntax result in type error\")\n"
   ]
  },
  {
   "cell_type": "code",
   "execution_count": 176,
   "metadata": {},
   "outputs": [
    {
     "name": "stdout",
     "output_type": "stream",
     "text": [
      "\n",
      "Intersection method\n",
      "\n",
      "syntax: A.intersection(B)\n",
      "syntax: print(A & B)\n",
      "setA:\n",
      "A= {1, 2, 3, 4, 5}\n",
      "setB:\n",
      "B= {4, 5, 6, 7, 8}\n",
      "setC:\n",
      "C= {4, 6, 9, 10, 11, 12, 13}\n",
      "\n",
      "A intersection B is:\n",
      " {4, 5}\n",
      "\n",
      "B intersection A is:\n",
      " {4, 5}\n",
      "\n",
      "A intersection B is:\n",
      " {4, 5}\n",
      "\n",
      "B intersection A is:\n",
      " {4, 5}\n",
      "\n",
      "intersection of multiple sets\n",
      "\n",
      "\n",
      "A intersection B and C is:\n",
      " {4}\n",
      "\n",
      "A intersection B and C is:\n",
      " {4}\n",
      "\n",
      "A intersection B   or B intersection A gives the intersection of sets  after removing the duplicat elements in sets \n",
      "\n",
      "These syntax not allowed A&{4, 5, 6, 7, 8} & A.intersection({4, 5, 6, 7, 8})\n",
      "\n",
      "\n",
      "These syntax result in type error\n",
      "\n",
      "Intersection update methode\n",
      "\n",
      "\n",
      "A.intersection_update(*other_sets)\n",
      "\n",
      "None\n",
      "C = {4, 6, 9, 10, 11, 12, 13}\n",
      "B = {4, 5, 6, 7, 8}\n",
      "A = {4, 5}\n"
     ]
    }
   ],
   "source": [
    "#Intersection method\n",
    "print(\"\\nIntersection method\\n\")\n",
    "\n",
    "print(\"syntax: A.intersection(B)\")\n",
    "print(\"syntax: print(A & B)\")\n",
    "A = {1, 2, 3, 4, 5}\n",
    "B = {4, 5, 6, 7, 8}\n",
    "C={9,10,11,4,12,13,6}\n",
    "print(\"setA:\\nA=\",A)\n",
    "print(\"setB:\\nB=\",B)\n",
    "print(\"setC:\\nC=\",C)\n",
    "#Intersection of A and B is a set of elements that are common in both the sets.\n",
    "\n",
    "#Intersection is performed using & operator. Same can be accomplished using the intersection() method.\n",
    "\n",
    "print(\"\\nA intersection B is:\\n\",A.intersection(B))\n",
    "print(\"\\nB intersection A is:\\n\",B.intersection(A))\n",
    "print(\"\\nA intersection B is:\\n\",(A & B))\n",
    "print(\"\\nB intersection A is:\\n\",(B & A))\n",
    "print(\"\\nintersection of multiple sets\\n\")\n",
    "print(\"\\nA intersection B and C is:\\n\",A.intersection(B,C))\n",
    "print(\"\\nA intersection B and C is:\\n\",(A & B& C))\n",
    "print(\"\\nA intersection B   or B intersection A gives the intersection of sets  after removing the duplicat elements in sets \")\n",
    "\n",
    "print(\"\\nThese syntax not allowed A&{4, 5, 6, 7, 8} & A.intersection({4, 5, 6, 7, 8})\\n\")\n",
    "print(\"\\nThese syntax result in type error\")\n",
    "\n",
    "\n",
    "#intersection update\n",
    "#This method returns None (meaning it does not have a return value). It only updates the set calling the intersection_update() method.\n",
    "print(\"\\nIntersection update methode\\n\")\n",
    "print(\"\\nA.intersection_update(*other_sets)\\n\")\n",
    "intersection_update=(A.intersection_update(B))\n",
    "print(intersection_update)\n",
    "\n",
    "print('C =', C)#C remains unchanged\n",
    "print('B =', B)#B remains unchanged\n",
    "print('A =', A)#A will be equal to the intersection of A, B, and C"
   ]
  },
  {
   "cell_type": "code",
   "execution_count": 177,
   "metadata": {},
   "outputs": [
    {
     "name": "stdout",
     "output_type": "stream",
     "text": [
      "\n",
      "Difference method\n",
      "\n",
      "syntax: A.difference(B)\n",
      "syntax: print(A -  B)\n",
      "setA:\n",
      "A= {1, 2, 3, 4, 5}\n",
      "setB:\n",
      "B= {4, 5, 6, 7, 8}\n",
      "setC:\n",
      "C= {1, 9, 10, 11, 12, 13, 15}\n",
      "\n",
      "A difference B is:\n",
      " {1, 2, 3}\n",
      "\n",
      "B difference A is:\n",
      " {8, 6, 7}\n",
      "\n",
      "A difference B is:\n",
      " {1, 2, 3}\n",
      "\n",
      "B difference A is:\n",
      " {8, 6, 7}\n",
      "\n",
      "difference of multiple sets\n",
      "\n",
      "\n",
      "A difference B and C is:\n",
      " {2, 3}\n",
      "\n",
      "A difference B and C is:\n",
      " {2, 3}\n",
      "\n",
      "A difference B   or B difference A gives the difference of sets  after removing the duplicat elements in sets \n",
      "\n",
      "These syntax not allowed A- {4, 5, 6, 7, 8} -  A.difference({4, 5, 6, 7, 8})\n",
      "\n",
      "\n",
      "These syntax result in type error\n"
     ]
    }
   ],
   "source": [
    "# Difference method\n",
    "print(\"\\nDifference method\\n\")\n",
    "\n",
    "print(\"syntax: A.difference(B)\")\n",
    "print(\"syntax: print(A -  B)\")\n",
    "A = {1, 2, 3, 4, 5}\n",
    "B = {4, 5, 6, 7, 8}\n",
    "C={9,10,11,4,12,13,15}\n",
    "print(\"setA:\\nA=\",A)\n",
    "print(\"setB:\\nB=\",B)\n",
    "print(\"setC:\\nC=\",C)\n",
    "#Difference of A and B is a set of all elements from both sets.\n",
    "#Difference is performed using -  operator. Same can be accomplished using the difference() method.\n",
    "print(\"\\nA difference B is:\\n\",A.difference(B))\n",
    "print(\"\\nB difference A is:\\n\",B.difference(A))\n",
    "print(\"\\nA difference B is:\\n\",(A -  B))\n",
    "print(\"\\nB difference A is:\\n\",(B -  A))\n",
    "print(\"\\ndifference of multiple sets\\n\")\n",
    "print(\"\\nA difference B and C is:\\n\",A.difference(B,C))\n",
    "print(\"\\nA difference B and C is:\\n\",(A -  B-  C))\n",
    "print(\"\\nA difference B   or B difference A gives the difference of sets  after removing the duplicat elements in sets \")\n",
    "\n",
    "print(\"\\nThese syntax not allowed A- {4, 5, 6, 7, 8} -  A.difference({4, 5, 6, 7, 8})\\n\")\n",
    "print(\"\\nThese syntax result in type error\")\n"
   ]
  },
  {
   "cell_type": "code",
   "execution_count": 182,
   "metadata": {},
   "outputs": [
    {
     "name": "stdout",
     "output_type": "stream",
     "text": [
      "\n",
      "Symmetric_difference method\n",
      "\n",
      "syntax: A.symmetric_difference(B)\n",
      "syntax: print(A ^  B)\n",
      "setA:\n",
      "A= {1, 2, 3, 4, 5}\n",
      "setB:\n",
      "B= {4, 5, 6, 7, 8}\n",
      "setC:\n",
      "C= {1, 9, 10, 11, 12, 13, 15}\n",
      "\n",
      "A symmetric_difference B is:\n",
      " {1, 2, 3, 6, 7, 8}\n",
      "\n",
      "B symmetric_difference A is:\n",
      " {1, 2, 3, 6, 7, 8}\n",
      "\n",
      "A symmetric_difference B is:\n",
      " {1, 2, 3, 6, 7, 8}\n",
      "\n",
      "B symmetric_difference A is:\n",
      " {1, 2, 3, 6, 7, 8}\n",
      "\n",
      "symmetric_difference_update methode\n",
      "\n",
      "\n",
      "A.symmetric_difference_update(*other set)\n",
      "\n",
      "result = None\n",
      "A = {1, 2, 3, 6, 7, 8}\n",
      "B = {4, 5, 6, 7, 8}\n",
      "\n",
      "Symmetric_differenceof multiple sets  result in error \n",
      "\n",
      "\n",
      "These syntax not allowed A- {4, 5, 6, 7, 8} -  A.symmetric_difference({4, 5, 6, 7, 8})\n",
      "\n",
      "\n",
      "These syntax result in type error\n"
     ]
    }
   ],
   "source": [
    "# Symmetric_difference method\n",
    "print(\"\\nSymmetric_difference method\\n\")\n",
    "\n",
    "print(\"syntax: A.symmetric_difference(B)\")\n",
    "print(\"syntax: print(A ^  B)\")\n",
    "A = {1, 2, 3, 4, 5}\n",
    "B = {4, 5, 6, 7, 8}\n",
    "C={9,10,11,1,12,13,15}\n",
    "print(\"setA:\\nA=\",A)\n",
    "print(\"setB:\\nB=\",B)\n",
    "print(\"setC:\\nC=\",C)\n",
    "#Symmetric_difference of A and B is a set of all elements from both sets.\n",
    "#Symmetric_difference is performed using -  operator. Same can be accomplished using the symmetric_difference() method.\n",
    "print(\"\\nA symmetric_difference B is:\\n\",A.symmetric_difference(B))\n",
    "print(\"\\nB symmetric_difference A is:\\n\",B.symmetric_difference(A))\n",
    "print(\"\\nA symmetric_difference B is:\\n\",(A ^  B))\n",
    "print(\"\\nB symmetric_difference A is:\\n\",(B ^  A))\n",
    "\n",
    "#symmetric_difference_update\n",
    "#The symmetric_difference_update() returns None (returns nothing). Rather, it updates the set calling it.\n",
    "print(\"\\nsymmetric_difference_update methode\\n\")\n",
    "print(\"\\nA.symmetric_difference_update(*other set)\\n\")\n",
    "\n",
    "result = A.symmetric_difference_update(B)\n",
    "print('result =', result)\n",
    "print('A =', A)\n",
    "print('B =', B)\n",
    "\n",
    "print(\"\\nSymmetric_difference of multiple sets  result in error \\n\")\n",
    "print(\"\\nThese syntax not allowed A- {4, 5, 6, 7, 8} -  A.symmetric_difference({4, 5, 6, 7, 8})\\n\")\n",
    "print(\"\\nThese syntax result in type error\")\n"
   ]
  },
  {
   "cell_type": "code",
   "execution_count": 188,
   "metadata": {},
   "outputs": [
    {
     "name": "stdout",
     "output_type": "stream",
     "text": [
      "\n",
      "isdisjoint() method\n",
      "\n",
      "syntax: A.isdisjoint(B)\n",
      "\n",
      "Are A and B disjoint:\n",
      " True\n",
      "\n",
      "Are A and C disjoint:\n",
      " False\n",
      "\n",
      "Are A and B disjoint?\n",
      " False\n",
      "Are A and C disjoint?\n",
      " False\n",
      "Are A and D disjoint?\n",
      " True\n",
      "Are A and E disjoint?\n",
      " False\n"
     ]
    }
   ],
   "source": [
    "#isjoint \n",
    "#takes a singel arugumet (a set)\n",
    "#retures True if two sets are disjoint or Flase if two sets are not disjoint \n",
    "\n",
    "print(\"\\nisdisjoint() method\\n\")\n",
    "\n",
    "print(\"syntax: A.isdisjoint(B)\")\n",
    "A = {1, 2, 3, 4}\n",
    "B = {5, 6, 7}\n",
    "C = {4, 5, 6}\n",
    "\n",
    "print('\\nAre A and B disjoint:\\n',A.isdisjoint(B))\n",
    "print('\\nAre A and C disjoint:\\n',A.isdisjoint(C))\n",
    "\n",
    "#isdisjoint() with Other data types as arguments\n",
    "A = {'a', 'b', 'c', 'd'}\n",
    "B = ['b', 'e', 'f']\n",
    "C = '5de4'\n",
    "D ={1 : 'a', 2 : 'b'}\n",
    "E ={'a' : 1, 'b' : 2}\n",
    "print('\\nAre A and B disjoint?\\n',A.isdisjoint(B))\n",
    "print('Are A and C disjoint?\\n',A.isdisjoint(C))\n",
    "print('Are A and D disjoint?\\n',A.isdisjoint(D))\n",
    "print('Are A and E disjoint?\\n',A.isdisjoint(E))"
   ]
  },
  {
   "cell_type": "code",
   "execution_count": 190,
   "metadata": {},
   "outputs": [
    {
     "name": "stdout",
     "output_type": "stream",
     "text": [
      "\n",
      "issubset() method\n",
      "\n",
      "syntax: A.issubset(B)\n",
      "\n",
      "Are A and B subset :\n",
      " True\n",
      "\n",
      "Are B and A subset :\n",
      " False\n",
      "\n",
      "Are A and C subset :\n",
      " False\n",
      "\n",
      "Are C and B subset :\n",
      " True\n"
     ]
    }
   ],
   "source": [
    "#issubset() - if all elements of a set are present in another set  \n",
    "#takes a singel arugumet (a set)\n",
    "#retures True if two sets are disjoint or Flase if two sets are not disjoint \n",
    "\n",
    "\n",
    "#takes a singel arugumet (a set)\n",
    "#retures True if two sets are subset  or Flase if two sets are not subset  \n",
    "\n",
    "print(\"\\nissubset() method\\n\")\n",
    "\n",
    "print(\"syntax: A.issubset(B)\")\n",
    "A = {1, 2, 3}\n",
    "B = {1, 2, 3, 4, 5}\n",
    "C = {1, 2, 4, 5}\n",
    "\n",
    "print('\\nAre A and B subset :\\n',A.issubset(B))\n",
    "print('\\nAre B and A subset :\\n',B.issubset(A))\n",
    "print('\\nAre A and C subset :\\n',A.issubset(C))\n",
    "print('\\nAre C and B subset :\\n',C.issubset(B))\n",
    "\n"
   ]
  },
  {
   "cell_type": "code",
   "execution_count": 192,
   "metadata": {},
   "outputs": [
    {
     "name": "stdout",
     "output_type": "stream",
     "text": [
      "\n",
      "issuperset() method\n",
      "\n",
      "syntax: A.issuperset(B)\n",
      "\n",
      "Are A and B superset :\n",
      " False\n",
      "\n",
      "Are B and A superset :\n",
      " True\n",
      "\n",
      "Are A and C superset :\n",
      " False\n",
      "\n",
      "Are C and B superset :\n",
      " False\n"
     ]
    }
   ],
   "source": [
    "#issuperset() - if every  elements of a set are present in another set  \n",
    "#takes a singel arugumet (a set)\n",
    "#retures True if two sets are disjoint or Flase if two sets are not disjoint \n",
    "\n",
    "\n",
    "#takes a singel arugumet (a set)\n",
    "#retures True if two sets are superset  or Flase if two sets are not superset  \n",
    "\n",
    "print(\"\\nissuperset() method\\n\")\n",
    "\n",
    "print(\"syntax: A.issuperset(B)\")\n",
    "A = {1, 2, 3}\n",
    "B = {1, 2, 3, 4, 5}\n",
    "C = {1, 2, 4, 5}\n",
    "\n",
    "print('\\nAre A and B superset :\\n',A.issuperset(B))\n",
    "print('\\nAre B and A superset :\\n',B.issuperset(A))\n",
    "print('\\nAre A and C superset :\\n',A.issuperset(C))\n",
    "print('\\nAre C and B superset :\\n',C.issuperset(B))\n"
   ]
  },
  {
   "cell_type": "code",
   "execution_count": 221,
   "metadata": {},
   "outputs": [
    {
     "name": "stdout",
     "output_type": "stream",
     "text": [
      "\n",
      "iterating over set using for loop\n",
      " \n",
      "r\\t\\s\\o\\p\\g\\l\\h\\a\\\n",
      "\n",
      "\n",
      "iterating using range function\n",
      "\n",
      "0\\1\\2\\3\\4\\5\\6\\7\\8\\9\\\n",
      "\n",
      "Iterating using while loop\n",
      "\n",
      "{0}{1}{2}{3}{4}{5}{6}{7}\n",
      "\n",
      "Iterating using enumerate function()\n",
      "\n",
      "100 , r\n",
      "101 , t\n",
      "102 , s\n",
      "103 , o\n",
      "104 , p\n",
      "105 , g\n",
      "106 , l\n",
      "107 , h\n",
      "108 , a\n"
     ]
    }
   ],
   "source": [
    "#iterating the set \n",
    "print(\"\\niterating over set using for loop\\n \")\n",
    "name=set(\"logaprasath\")\n",
    "for i in name:\n",
    "    print(i,end=\"\\\\\")\n",
    "print(\"\\n\")\n",
    "\n",
    "#iterating using range function   \n",
    "print(\"\\niterating using range function\\n\")\n",
    "name=set(\"logaprasath\")\n",
    "length=len(name)\n",
    "for i in range(length+1):\n",
    "    print(i,end=\"\\\\\")\n",
    "    \n",
    "# Iterating using while loop\n",
    "print(\"\\n\\nIterating using while loop\\n\")\n",
    "name=set(\"logaprasath\")  \n",
    "# Getting length of list\n",
    "length = len(name)\n",
    "i = 0\n",
    "while i < length-1:\n",
    "    print({i},end=\"\")\n",
    "    i += 1    \n",
    "\n",
    "#iterating using enumerate function()\n",
    "print(\"\\n\\nIterating using enumerate function()\\n\")\n",
    "name=set(\"logaprasath\")\n",
    "length=len(name)\n",
    "for i, val in enumerate(name,100):\n",
    "    print (i, \",\",*val)"
   ]
  },
  {
   "cell_type": "code",
   "execution_count": 220,
   "metadata": {
    "scrolled": true
   },
   "outputs": [
    {
     "name": "stdout",
     "output_type": "stream",
     "text": [
      "length is:\n",
      " 6\n",
      "maximum interger is:\n",
      " 6\n",
      "minimum interger is:\n",
      " 1\n",
      "maximun string is:\n",
      " hi\n",
      "minimum string is:\n",
      " Hello\n",
      "summation of  interger is:\n",
      " 21\n",
      "check for any  boolen in set x:\n",
      " True\n",
      "check for any boolen in set y:\n",
      " True\n",
      "check for any boolen in set z:\n",
      " True\n",
      "check for all elements   boolen in set x:\n",
      " True\n",
      "check for all elements boolen in set y:\n",
      " True\n",
      "check for all elements boolen in set z:\n",
      " False\n",
      "sorted set a is:\n",
      " [1, 2, 3, 4, 5, 6]\n",
      "sorted set b is:\n",
      " ['Hello', 'Hi', 'hi']\n"
     ]
    },
    {
     "ename": "TypeError",
     "evalue": "'<' not supported between instances of 'str' and 'int'",
     "output_type": "error",
     "traceback": [
      "\u001b[1;31m---------------------------------------------------------------------------\u001b[0m",
      "\u001b[1;31mTypeError\u001b[0m                                 Traceback (most recent call last)",
      "\u001b[1;32m<ipython-input-220-64b8e830dd85>\u001b[0m in \u001b[0;36m<module>\u001b[1;34m\u001b[0m\n\u001b[0;32m     38\u001b[0m \u001b[0mprint\u001b[0m\u001b[1;33m(\u001b[0m\u001b[1;34m\"sorted set a is:\\n\"\u001b[0m\u001b[1;33m,\u001b[0m\u001b[0msorted\u001b[0m\u001b[1;33m(\u001b[0m\u001b[0ma\u001b[0m\u001b[1;33m)\u001b[0m\u001b[1;33m)\u001b[0m \u001b[1;31m# for numbers\u001b[0m\u001b[1;33m\u001b[0m\u001b[1;33m\u001b[0m\u001b[0m\n\u001b[0;32m     39\u001b[0m \u001b[0mprint\u001b[0m\u001b[1;33m(\u001b[0m\u001b[1;34m\"sorted set b is:\\n\"\u001b[0m\u001b[1;33m,\u001b[0m\u001b[0msorted\u001b[0m\u001b[1;33m(\u001b[0m\u001b[0mb\u001b[0m\u001b[1;33m)\u001b[0m\u001b[1;33m)\u001b[0m\u001b[1;33m\u001b[0m\u001b[1;33m\u001b[0m\u001b[0m\n\u001b[1;32m---> 40\u001b[1;33m \u001b[0mprint\u001b[0m\u001b[1;33m(\u001b[0m\u001b[1;34m\"sorted set c is:\\n\"\u001b[0m\u001b[1;33m,\u001b[0m\u001b[0msorted\u001b[0m\u001b[1;33m(\u001b[0m\u001b[0mc\u001b[0m\u001b[1;33m)\u001b[0m\u001b[1;33m)\u001b[0m\u001b[1;33m\u001b[0m\u001b[1;33m\u001b[0m\u001b[0m\n\u001b[0m",
      "\u001b[1;31mTypeError\u001b[0m: '<' not supported between instances of 'str' and 'int'"
     ]
    }
   ],
   "source": [
    "#Built functions set\n",
    "my_set={1, 2, 3, 6, 7, 8}\n",
    "\n",
    "#length function len()-returns its length.\n",
    "print(\"length is:\\n\",len(my_set))\n",
    "\n",
    "#max function max()-returns the item from the set with the highest value.\n",
    "#min  function min()- returns the item with the lowest values.\n",
    "a=(3,1,2,5,4,6)\n",
    "b=('Hi','hi','Hello')# for strings as per ASCII \n",
    "c=(a,b) # mixed string \n",
    "print(\"maximum interger is:\\n\",max(a)) # for numbers \n",
    "print(\"minimum interger is:\\n\",min(a)) # for numbers\n",
    "\n",
    "print(\"maximun string is:\\n\",max(b))\n",
    "print(\"minimum string is:\\n\",min(b)) \n",
    "\n",
    "#sum function sum()returns the arithmetic sum of all the items in the set.\n",
    "print(\"summation of  interger is:\\n\",sum(a))\n",
    "\n",
    "# any fucntion any()-if even one item in the set has a Boolean value  returns True. Otherwise, it returns False.\n",
    "# all function all()-returns True only if all items have a Boolean value of True. Otherwise, it returns False.\n",
    "x=(True,[1,2,3])\n",
    "y=('Hi','hi','Hello')\n",
    "z=(True,False)\n",
    "print(\"check for any  boolen in set x:\\n\",any(x))\n",
    "print(\"check for any boolen in set y:\\n\",any(y))\n",
    "print(\"check for any boolen in set z:\\n\",any(z))\n",
    "\n",
    "print(\"check for all elements   boolen in set x:\\n\",all(x))\n",
    "print(\"check for all elements boolen in set y:\\n\",all(y))\n",
    "print(\"check for all elements boolen in set z:\\n\",all(z))\n",
    "\n",
    "#sorted fucntion sorted()-orting is in ascending order, and it doesn’t modify the original set in Python.\n",
    "a=(3,1,2,5,4,6)\n",
    "b=('Hi','hi','Hello')\n",
    "c=(a,b) # mixed string \n",
    "print(\"sorted set a is:\\n\",sorted(a)) # for numbers \n",
    "print(\"sorted set b is:\\n\",sorted(b)) \n",
    "print(\"sorted set c is:\\n\",sorted(c))\n"
   ]
  },
  {
   "cell_type": "markdown",
   "metadata": {},
   "source": [
    "FROZEN SET"
   ]
  },
  {
   "cell_type": "markdown",
   "metadata": {},
   "source": [
    "Frozenset is a new class that has the characteristics of a set, but its elements cannot be changed once assigned. While tuples are immutable lists, frozensets are immutable sets.\n",
    "\n",
    "Sets being mutable are unhashable, so they can't be used as dictionary keys. On the other hand, frozensets are hashable and can be used as keys to a dictionary.\n",
    "\n",
    "Frozensets can be created using the frozenset() function.\n",
    "\n",
    "This data type supports methods like copy(), difference(), intersection(), isdisjoint(), issubset(), issuperset(), symmetric_difference() and union(). Being immutable, it does not have methods that add or remove elements."
   ]
  },
  {
   "cell_type": "code",
   "execution_count": 256,
   "metadata": {},
   "outputs": [
    {
     "name": "stdout",
     "output_type": "stream",
     "text": [
      "\n",
      "frozenset union:\n",
      " frozenset({1, 2, 3, 4, 5})\n",
      "\n",
      "frozenset intersection:\n",
      " frozenset({1, 2, 3})\n",
      "\n",
      "frozenset differance:\n",
      " frozenset()\n",
      "\n",
      "frozenset symmetric differance:\n",
      " frozenset({4, 5})\n",
      "\n",
      "when a assigen set and complete set is used it does not raise error\n",
      "\n",
      "frozenset({3})\n",
      "\n",
      "frozensets assigned to variable tup:\n",
      " (frozenset({1, 2, 3}), frozenset({1, 2, 3, 4, 5}), frozenset({1, 2, 4, 5}))\n",
      "\n",
      "frozensets assigned as keys to dict:\n",
      " {frozenset({'foo', 'baz', 'bar'}): frozenset({1, 2, 3}), ('Hi', 'hi', 'Hello'): frozenset({1, 2, 3, 4, 5}), (True, False): frozenset({1, 2, 4, 5})}\n"
     ]
    }
   ],
   "source": [
    "A = frozenset({1, 2, 3})\n",
    "B = frozenset({1, 2, 3, 4, 5})\n",
    "C = frozenset({1, 2, 4, 5})\n",
    "#frozenset supports methods as below\n",
    "print(\"\\nfrozenset union:\\n\",(A|B))\n",
    "print(\"\\nfrozenset intersection:\\n\",(A &B))\n",
    "print(\"\\nfrozenset differance:\\n\",(A -B))\n",
    "print(\"\\nfrozenset symmetric differance:\\n\",(A ^ B))\n",
    "print(\"\\nwhen a assigen set and complete set is used it does not raise error\\n\")\n",
    "print(A.difference({1, 2, 4, 5}))\n",
    "\n",
    "#frozenset assign as tuple were multiple set assigen to a variable tup\n",
    "tup=A,B,C\n",
    "print(\"\\nfrozensets assigned to variable tup:\\n\",tup)\n",
    "#frozenset assign as keys to dict \n",
    "dict1={x:A,y:B,z:C}\n",
    "print(\"\\nfrozensets assigned as keys to dict:\\n\",dict1)"
   ]
  },
  {
   "cell_type": "code",
   "execution_count": 265,
   "metadata": {},
   "outputs": [
    {
     "name": "stdout",
     "output_type": "stream",
     "text": [
      "frozenset does not supports add,pop,clear funtions\n",
      "\n"
     ]
    },
    {
     "ename": "AttributeError",
     "evalue": "'frozenset' object has no attribute 'add'",
     "output_type": "error",
     "traceback": [
      "\u001b[1;31m---------------------------------------------------------------------------\u001b[0m",
      "\u001b[1;31mAttributeError\u001b[0m                            Traceback (most recent call last)",
      "\u001b[1;32m<ipython-input-265-782a31b5e692>\u001b[0m in \u001b[0;36m<module>\u001b[1;34m\u001b[0m\n\u001b[0;32m      2\u001b[0m \u001b[0mprint\u001b[0m\u001b[1;33m(\u001b[0m\u001b[1;34m\"frozenset does not supports add,pop,clear funtions\\n\"\u001b[0m\u001b[1;33m)\u001b[0m\u001b[1;33m\u001b[0m\u001b[1;33m\u001b[0m\u001b[0m\n\u001b[0;32m      3\u001b[0m \u001b[0mx\u001b[0m \u001b[1;33m=\u001b[0m \u001b[0mfrozenset\u001b[0m\u001b[1;33m(\u001b[0m\u001b[1;33m[\u001b[0m\u001b[1;34m'foo'\u001b[0m\u001b[1;33m,\u001b[0m \u001b[1;34m'bar'\u001b[0m\u001b[1;33m,\u001b[0m \u001b[1;34m'baz'\u001b[0m\u001b[1;33m]\u001b[0m\u001b[1;33m)\u001b[0m\u001b[1;33m\u001b[0m\u001b[1;33m\u001b[0m\u001b[0m\n\u001b[1;32m----> 4\u001b[1;33m \u001b[0mx\u001b[0m\u001b[1;33m.\u001b[0m\u001b[0madd\u001b[0m\u001b[1;33m(\u001b[0m\u001b[1;34m'qux'\u001b[0m\u001b[1;33m)\u001b[0m\u001b[1;33m\u001b[0m\u001b[1;33m\u001b[0m\u001b[0m\n\u001b[0m",
      "\u001b[1;31mAttributeError\u001b[0m: 'frozenset' object has no attribute 'add'"
     ]
    }
   ],
   "source": [
    "#Frozenset does not support these methodes\n",
    "print(\"frozenset does not supports add,pop,clear funtions\\n\")\n",
    "x = frozenset(['foo', 'bar', 'baz'])\n",
    "x.add('qux')"
   ]
  },
  {
   "cell_type": "code",
   "execution_count": 261,
   "metadata": {},
   "outputs": [
    {
     "ename": "AttributeError",
     "evalue": "'frozenset' object has no attribute 'pop'",
     "output_type": "error",
     "traceback": [
      "\u001b[1;31m---------------------------------------------------------------------------\u001b[0m",
      "\u001b[1;31mAttributeError\u001b[0m                            Traceback (most recent call last)",
      "\u001b[1;32m<ipython-input-261-6929cbfa2729>\u001b[0m in \u001b[0;36m<module>\u001b[1;34m\u001b[0m\n\u001b[1;32m----> 1\u001b[1;33m \u001b[0mx\u001b[0m\u001b[1;33m.\u001b[0m\u001b[0mpop\u001b[0m\u001b[1;33m(\u001b[0m\u001b[1;33m)\u001b[0m\u001b[1;33m\u001b[0m\u001b[1;33m\u001b[0m\u001b[0m\n\u001b[0m",
      "\u001b[1;31mAttributeError\u001b[0m: 'frozenset' object has no attribute 'pop'"
     ]
    }
   ],
   "source": [
    "x.pop()    "
   ]
  },
  {
   "cell_type": "code",
   "execution_count": 260,
   "metadata": {},
   "outputs": [
    {
     "ename": "AttributeError",
     "evalue": "'frozenset' object has no attribute 'clear'",
     "output_type": "error",
     "traceback": [
      "\u001b[1;31m---------------------------------------------------------------------------\u001b[0m",
      "\u001b[1;31mAttributeError\u001b[0m                            Traceback (most recent call last)",
      "\u001b[1;32m<ipython-input-260-e12bd201b1dd>\u001b[0m in \u001b[0;36m<module>\u001b[1;34m\u001b[0m\n\u001b[1;32m----> 1\u001b[1;33m \u001b[0mx\u001b[0m\u001b[1;33m.\u001b[0m\u001b[0mclear\u001b[0m\u001b[1;33m(\u001b[0m\u001b[1;33m)\u001b[0m\u001b[1;33m\u001b[0m\u001b[1;33m\u001b[0m\u001b[0m\n\u001b[0m",
      "\u001b[1;31mAttributeError\u001b[0m: 'frozenset' object has no attribute 'clear'"
     ]
    }
   ],
   "source": [
    "x.clear()"
   ]
  },
  {
   "cell_type": "code",
   "execution_count": null,
   "metadata": {},
   "outputs": [],
   "source": []
  }
 ],
 "metadata": {
  "kernelspec": {
   "display_name": "Python 3",
   "language": "python",
   "name": "python3"
  },
  "language_info": {
   "codemirror_mode": {
    "name": "ipython",
    "version": 3
   },
   "file_extension": ".py",
   "mimetype": "text/x-python",
   "name": "python",
   "nbconvert_exporter": "python",
   "pygments_lexer": "ipython3",
   "version": "3.8.5"
  }
 },
 "nbformat": 4,
 "nbformat_minor": 4
}
