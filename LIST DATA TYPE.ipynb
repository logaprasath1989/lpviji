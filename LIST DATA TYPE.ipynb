{
 "cells": [
  {
   "cell_type": "markdown",
   "metadata": {},
   "source": [
    "# List data type"
   ]
  },
  {
   "cell_type": "markdown",
   "metadata": {},
   "source": [
    "\n",
    "Python List\n",
    "A list in Python is used to store the sequence of various types of data. Python lists are mutable type its mean we can modify its element after it created. However, Python consists of six data-types that are capable to store the sequences, but the most common and reliable type is the list.\n",
    "\n",
    "A list can be defined as a collection of values or items of different types. The items in the list are separated with the comma (,) and enclosed with the square brackets [].\n",
    "\n"
   ]
  },
  {
   "cell_type": "code",
   "execution_count": 1,
   "metadata": {
    "scrolled": true
   },
   "outputs": [
    {
     "name": "stdout",
     "output_type": "stream",
     "text": [
      "['__add__', '__class__', '__contains__', '__delattr__', '__delitem__', '__dir__', '__doc__', '__eq__', '__format__', '__ge__', '__getattribute__', '__getitem__', '__gt__', '__hash__', '__iadd__', '__imul__', '__init__', '__init_subclass__', '__iter__', '__le__', '__len__', '__lt__', '__mul__', '__ne__', '__new__', '__reduce__', '__reduce_ex__', '__repr__', '__reversed__', '__rmul__', '__setattr__', '__setitem__', '__sizeof__', '__str__', '__subclasshook__', 'append', 'clear', 'copy', 'count', 'extend', 'index', 'insert', 'pop', 'remove', 'reverse', 'sort']"
     ]
    }
   ],
   "source": [
    "#methods and attributes of List \n",
    "x=dir([])\n",
    "print(x,end=\"\")"
   ]
  },
  {
   "cell_type": "code",
   "execution_count": 1,
   "metadata": {},
   "outputs": [
    {
     "name": "stdout",
     "output_type": "stream",
     "text": [
      "Help on class list in module builtins:\n",
      "\n",
      "class list(object)\n",
      " |  list(iterable=(), /)\n",
      " |  \n",
      " |  Built-in mutable sequence.\n",
      " |  \n",
      " |  If no argument is given, the constructor creates a new empty list.\n",
      " |  The argument must be an iterable if specified.\n",
      " |  \n",
      " |  Methods defined here:\n",
      " |  \n",
      " |  __add__(self, value, /)\n",
      " |      Return self+value.\n",
      " |  \n",
      " |  __contains__(self, key, /)\n",
      " |      Return key in self.\n",
      " |  \n",
      " |  __delitem__(self, key, /)\n",
      " |      Delete self[key].\n",
      " |  \n",
      " |  __eq__(self, value, /)\n",
      " |      Return self==value.\n",
      " |  \n",
      " |  __ge__(self, value, /)\n",
      " |      Return self>=value.\n",
      " |  \n",
      " |  __getattribute__(self, name, /)\n",
      " |      Return getattr(self, name).\n",
      " |  \n",
      " |  __getitem__(...)\n",
      " |      x.__getitem__(y) <==> x[y]\n",
      " |  \n",
      " |  __gt__(self, value, /)\n",
      " |      Return self>value.\n",
      " |  \n",
      " |  __iadd__(self, value, /)\n",
      " |      Implement self+=value.\n",
      " |  \n",
      " |  __imul__(self, value, /)\n",
      " |      Implement self*=value.\n",
      " |  \n",
      " |  __init__(self, /, *args, **kwargs)\n",
      " |      Initialize self.  See help(type(self)) for accurate signature.\n",
      " |  \n",
      " |  __iter__(self, /)\n",
      " |      Implement iter(self).\n",
      " |  \n",
      " |  __le__(self, value, /)\n",
      " |      Return self<=value.\n",
      " |  \n",
      " |  __len__(self, /)\n",
      " |      Return len(self).\n",
      " |  \n",
      " |  __lt__(self, value, /)\n",
      " |      Return self<value.\n",
      " |  \n",
      " |  __mul__(self, value, /)\n",
      " |      Return self*value.\n",
      " |  \n",
      " |  __ne__(self, value, /)\n",
      " |      Return self!=value.\n",
      " |  \n",
      " |  __repr__(self, /)\n",
      " |      Return repr(self).\n",
      " |  \n",
      " |  __reversed__(self, /)\n",
      " |      Return a reverse iterator over the list.\n",
      " |  \n",
      " |  __rmul__(self, value, /)\n",
      " |      Return value*self.\n",
      " |  \n",
      " |  __setitem__(self, key, value, /)\n",
      " |      Set self[key] to value.\n",
      " |  \n",
      " |  __sizeof__(self, /)\n",
      " |      Return the size of the list in memory, in bytes.\n",
      " |  \n",
      " |  append(self, object, /)\n",
      " |      Append object to the end of the list.\n",
      " |  \n",
      " |  clear(self, /)\n",
      " |      Remove all items from list.\n",
      " |  \n",
      " |  copy(self, /)\n",
      " |      Return a shallow copy of the list.\n",
      " |  \n",
      " |  count(self, value, /)\n",
      " |      Return number of occurrences of value.\n",
      " |  \n",
      " |  extend(self, iterable, /)\n",
      " |      Extend list by appending elements from the iterable.\n",
      " |  \n",
      " |  index(self, value, start=0, stop=9223372036854775807, /)\n",
      " |      Return first index of value.\n",
      " |      \n",
      " |      Raises ValueError if the value is not present.\n",
      " |  \n",
      " |  insert(self, index, object, /)\n",
      " |      Insert object before index.\n",
      " |  \n",
      " |  pop(self, index=-1, /)\n",
      " |      Remove and return item at index (default last).\n",
      " |      \n",
      " |      Raises IndexError if list is empty or index is out of range.\n",
      " |  \n",
      " |  remove(self, value, /)\n",
      " |      Remove first occurrence of value.\n",
      " |      \n",
      " |      Raises ValueError if the value is not present.\n",
      " |  \n",
      " |  reverse(self, /)\n",
      " |      Reverse *IN PLACE*.\n",
      " |  \n",
      " |  sort(self, /, *, key=None, reverse=False)\n",
      " |      Sort the list in ascending order and return None.\n",
      " |      \n",
      " |      The sort is in-place (i.e. the list itself is modified) and stable (i.e. the\n",
      " |      order of two equal elements is maintained).\n",
      " |      \n",
      " |      If a key function is given, apply it once to each list item and sort them,\n",
      " |      ascending or descending, according to their function values.\n",
      " |      \n",
      " |      The reverse flag can be set to sort in descending order.\n",
      " |  \n",
      " |  ----------------------------------------------------------------------\n",
      " |  Static methods defined here:\n",
      " |  \n",
      " |  __new__(*args, **kwargs) from builtins.type\n",
      " |      Create and return a new object.  See help(type) for accurate signature.\n",
      " |  \n",
      " |  ----------------------------------------------------------------------\n",
      " |  Data and other attributes defined here:\n",
      " |  \n",
      " |  __hash__ = None\n",
      "\n",
      "None"
     ]
    }
   ],
   "source": [
    "x=help(list)\n",
    "print(x,end=\"\")"
   ]
  },
  {
   "cell_type": "code",
   "execution_count": 6,
   "metadata": {
    "scrolled": true
   },
   "outputs": [
    {
     "name": "stdout",
     "output_type": "stream",
     "text": [
      "[] <class 'list'>\n",
      "[1, 2, 3, 4, 5] <class 'list'>\n",
      "[1, 'lok', 30.5, (2+3j), (1, 2, 3), {4, 5}, {1: 'lok', 2: 30}] <class 'list'>\n",
      "False\n",
      "False\n",
      "True\n",
      "True\n",
      "[1, 2, [3, 4], 5, 6]\n",
      "['b', 1]\n",
      "['a', ['b', 1], 2]\n"
     ]
    }
   ],
   "source": [
    "#list \n",
    "a=[]\n",
    "print(a,type(a))# a empty list is still a list\n",
    "\n",
    "#list of integers\n",
    "a=[1,2,3,4,5]\n",
    "print(a,type(a))\n",
    "\n",
    "#mixed list \n",
    "mixed=[1,\"lok\",30.5,2+3j,(1,2,3),{4,5},{1:\"lok\",2:30}]# list can have different data types like int,float,complex,tuple,set,dict \n",
    "print(mixed,type(mixed))\n",
    "\n",
    "# list are ordered \n",
    "l1=[0,1,2,3]\n",
    "l2=[1,2,3,0]\n",
    "print(l1==l2)\n",
    "print(l1 is l2)\n",
    "\n",
    "a=[\"a\",1,2]\n",
    "b=a\n",
    "print(a==b)\n",
    "print(a is b)# here a==b means the list are ordered so True\n",
    "\n",
    "#nested loop,\n",
    "a=[1,2,[3,4],5,6] # type of nested loop \n",
    "p=[\"b\",1]\n",
    "q=[\"a\",p,2]# incorparate the previous list to form a nested list  \n",
    "print(a)\n",
    "print(p)\n",
    "print(q)"
   ]
  },
  {
   "cell_type": "code",
   "execution_count": 1,
   "metadata": {
    "scrolled": true
   },
   "outputs": [
    {
     "name": "stdout",
     "output_type": "stream",
     "text": [
      "[1, 2, 3, 4, 5]\n",
      "+ve indexing postion 0 is:\n",
      " 1\n",
      "+ve indexing postion 1 is:\n",
      " 2\n",
      "+ve indexing postion 2 is:\n",
      " 3\n",
      "+ve indexing postion 3 is:\n",
      " 4\n",
      "+ve indexing postion 4 is:\n",
      " 5\n"
     ]
    },
    {
     "ename": "IndexError",
     "evalue": "list index out of range",
     "output_type": "error",
     "traceback": [
      "\u001b[1;31m---------------------------------------------------------------------------\u001b[0m",
      "\u001b[1;31mIndexError\u001b[0m                                Traceback (most recent call last)",
      "\u001b[1;32m<ipython-input-1-6d79d6c65fd1>\u001b[0m in \u001b[0;36m<module>\u001b[1;34m\u001b[0m\n\u001b[0;32m      9\u001b[0m \u001b[0mprint\u001b[0m\u001b[1;33m(\u001b[0m\u001b[1;34m\"+ve indexing postion 3 is:\\n\"\u001b[0m\u001b[1;33m,\u001b[0m\u001b[0mlst\u001b[0m\u001b[1;33m[\u001b[0m\u001b[1;36m3\u001b[0m\u001b[1;33m]\u001b[0m\u001b[1;33m)\u001b[0m\u001b[1;33m\u001b[0m\u001b[1;33m\u001b[0m\u001b[0m\n\u001b[0;32m     10\u001b[0m \u001b[0mprint\u001b[0m\u001b[1;33m(\u001b[0m\u001b[1;34m\"+ve indexing postion 4 is:\\n\"\u001b[0m\u001b[1;33m,\u001b[0m\u001b[0mlst\u001b[0m\u001b[1;33m[\u001b[0m\u001b[1;36m4\u001b[0m\u001b[1;33m]\u001b[0m\u001b[1;33m)\u001b[0m\u001b[1;33m\u001b[0m\u001b[1;33m\u001b[0m\u001b[0m\n\u001b[1;32m---> 11\u001b[1;33m \u001b[0mprint\u001b[0m\u001b[1;33m(\u001b[0m\u001b[1;34m\"+ve indexing postion 5 is:\\n\"\u001b[0m\u001b[1;33m,\u001b[0m\u001b[0mlst\u001b[0m\u001b[1;33m[\u001b[0m\u001b[1;36m5\u001b[0m\u001b[1;33m]\u001b[0m\u001b[1;33m)\u001b[0m\u001b[1;31m# as indexing starts at zero error occur as out of range\u001b[0m\u001b[1;33m\u001b[0m\u001b[1;33m\u001b[0m\u001b[0m\n\u001b[0m\u001b[0;32m     12\u001b[0m \u001b[1;33m\u001b[0m\u001b[0m\n\u001b[0;32m     13\u001b[0m \u001b[1;33m\u001b[0m\u001b[0m\n",
      "\u001b[1;31mIndexError\u001b[0m: list index out of range"
     ]
    }
   ],
   "source": [
    "#position and slicing operations of list \n",
    "lst=[1,2,3,4,5]\n",
    "print(lst)\n",
    "\n",
    "#positive indexing \n",
    "print(\"+ve indexing postion 0 is:\\n\",lst[0])\n",
    "print(\"+ve indexing postion 1 is:\\n\",lst[1])\n",
    "print(\"+ve indexing postion 2 is:\\n\",lst[2])\n",
    "print(\"+ve indexing postion 3 is:\\n\",lst[3])\n",
    "print(\"+ve indexing postion 4 is:\\n\",lst[4])\n",
    "print(\"+ve indexing postion 5 is:\\n\",lst[5])# as indexing starts at zero error occur as out of range \n",
    "\n",
    "\n"
   ]
  },
  {
   "cell_type": "code",
   "execution_count": 2,
   "metadata": {},
   "outputs": [
    {
     "name": "stdout",
     "output_type": "stream",
     "text": [
      "-ve indexing postion -1 is:\n",
      " 5\n",
      "-ve indexing postion -2 is:\n",
      " 4\n",
      "-ve indexing postion -3 is:\n",
      " 3\n",
      "-ve indexing postion -4 is:\n",
      " 2\n",
      "-ve indexing postion -5 is:\n",
      " 1\n"
     ]
    }
   ],
   "source": [
    "#negative indexing \n",
    "print(\"-ve indexing postion -1 is:\\n\",lst[-1])\n",
    "print(\"-ve indexing postion -2 is:\\n\",lst[-2])\n",
    "print(\"-ve indexing postion -3 is:\\n\",lst[-3])\n",
    "print(\"-ve indexing postion -4 is:\\n\",lst[-4])\n",
    "print(\"-ve indexing postion -5 is:\\n\",lst[-5])\n"
   ]
  },
  {
   "cell_type": "code",
   "execution_count": 3,
   "metadata": {},
   "outputs": [
    {
     "name": "stdout",
     "output_type": "stream",
     "text": [
      "The original nested list:\n",
      " ['string', 0, [1, 2], [3], 4.56]\n",
      "nested list position 0 is:\n",
      " string\n",
      "nested list position 1  is:\n",
      " 0\n",
      "nested list position 2 is:\n",
      " [1, 2]\n",
      "nested list2 position 0is:\n",
      " 1\n",
      "nested list 2 postion 1 is:\n",
      " 2\n",
      "nested list 3 postion is:\n",
      " [3]\n",
      "nested list position 4 is:\n",
      " 4.56\n",
      "-ve indexing for nested list is similar as above\n"
     ]
    }
   ],
   "source": [
    "#indexing overa nested loop \n",
    "number = 3\n",
    "nested=[\"string\",0, [1, 2],[number], 4.56]# number list is assigned with a element as above\n",
    "print(\"The original nested list:\\n\",nested)\n",
    "print(\"nested list position 0 is:\\n\",nested[0])\n",
    "print(\"nested list position 1  is:\\n\",nested[1])\n",
    "print(\"nested list position 2 is:\\n\",nested[2]) # indexing through the nested list\n",
    "print(\"nested list2 position 0is:\\n\",nested [2][0])\n",
    "print(\"nested list 2 postion 1 is:\\n\",nested[2][1])\n",
    "print(\"nested list 3 postion is:\\n\",nested[3])\n",
    "print(\"nested list position 4 is:\\n\", nested[4])\n",
    "print(\"-ve indexing for nested list is similar as above\")"
   ]
  },
  {
   "cell_type": "code",
   "execution_count": 5,
   "metadata": {},
   "outputs": [
    {
     "name": "stdout",
     "output_type": "stream",
     "text": [
      "the original list:\n",
      " [1, 2, 3, 4, 5]\n",
      "+ve slicing of all elements:\n",
      " [1, 2, 3, 4, 5]\n",
      "+ve slicing of 0th elements:\n",
      " [1]\n",
      "+ve slicing of 0 to 1 elements:\n",
      " [1, 2]\n",
      "+ve slicing of 0 to 1 elements:\n",
      " [1, 2, 3]\n",
      "+ve slicing of 0 to 1 elements:\n",
      " [1, 2, 3, 4]\n",
      "+ve slicing of 0 to 1 elements:\n",
      " [1, 2, 3, 4, 5]\n",
      "+ve slicing of elements by step 1:\n",
      " [1, 2, 3, 4, 5]\n",
      "+ve slicing of elements by step 2:\n",
      " [1, 3, 5]\n",
      "+ve slicing of elements by step 3:\n",
      " [1, 4]\n",
      "+ve slicing of elements by step :\n",
      " [3, 4]\n"
     ]
    }
   ],
   "source": [
    "#position and slicing operations of list  #[start:end:step]\n",
    "lst=[1,2,3,4,5]\n",
    "print(\"the original list:\\n\",lst)\n",
    "\n",
    "#positive indexing \n",
    "print(\"+ve slicing of all elements:\\n\",lst[0:])\n",
    "print(\"+ve slicing of 0th elements:\\n\",lst[0:1])\n",
    "print(\"+ve slicing of 0 to 1 elements:\\n\",lst[0:2])\n",
    "print(\"+ve slicing of 0 to 1 elements:\\n\",lst[0:3])\n",
    "print(\"+ve slicing of 0 to 1 elements:\\n\",lst[0:4])\n",
    "print(\"+ve slicing of 0 to 1 elements:\\n\",lst[0:5])# all elements in the list \n",
    "print(\"+ve slicing of elements by step 1:\\n\",lst[0:5:1]) # slicing using steps \n",
    "print(\"+ve slicing of elements by step 2:\\n\",lst[0:5:2])\n",
    "print(\"+ve slicing of elements by step 3:\\n\",lst[0:5:3])\n",
    "print(\"+ve slicing of elements by step :\\n\",lst[2:4:1])# slicing starts at position 2 end at4 and steps incement by 1\n",
    "\n",
    "\n"
   ]
  },
  {
   "cell_type": "code",
   "execution_count": 11,
   "metadata": {},
   "outputs": [
    {
     "name": "stdout",
     "output_type": "stream",
     "text": [
      "-ve slicing of -1th elements:\n",
      " 5\n",
      "-ve slicing of -1 to-2 elements:\n",
      " [4, 5]\n",
      "-ve slicing of -2 to -3 elements:\n",
      " [3, 4, 5]\n",
      "-ve slicing of -3 to -4 elements:\n",
      " [2, 3, 4, 5]\n",
      "-ve slicing of -4 to - 5 elements:\n",
      " []\n",
      "-ve slicing of elements by step 1:\n",
      " []\n",
      "-ve slicing of elements by step 2:\n",
      " [1, 2, 3, 4, 5]\n",
      "-ve slicing of elements by step 3:\n",
      " [2, 5]\n"
     ]
    }
   ],
   "source": [
    "\n",
    "#negative indexing \n",
    "print(\"-ve slicing of -1th elements:\\n\",lst[-1])\n",
    "print(\"-ve slicing of -1 to-2 elements:\\n\",lst[-2:])\n",
    "print(\"-ve slicing of -2 to -3 elements:\\n\",lst[-3:])\n",
    "print(\"-ve slicing of -3 to -4 elements:\\n\",lst[-4:])\n",
    "print(\"-ve slicing of -4 to - 5 elements:\\n\",lst[:-5])# -ve slicing can not be used in end were it will give empyt list \n",
    "print(\"-ve slicing of elements by step 1:\\n\",lst[-1:-5:1]) # slicing using steps \n",
    "print(\"-ve slicing of elements by step 2:\\n\",lst[-5::1])\n",
    "print(\"-ve slicing of elements by step 3:\\n\",lst[-4::3])\n",
    "\n"
   ]
  },
  {
   "cell_type": "code",
   "execution_count": 12,
   "metadata": {},
   "outputs": [
    {
     "name": "stdout",
     "output_type": "stream",
     "text": [
      "the original list:\n",
      " [3, 'lok', 30.5, (2+3j), (1, 2, 3), {4, 5}, {1: 'lok', 2: 30}]\n",
      "nested slicing of -1th elements:\n",
      " {1: 'lok', 2: 30}\n",
      "nested slicing of -1 to-2 elements:\n",
      " [{4, 5}, {1: 'lok', 2: 30}]\n",
      "nested slicing of -2 to -3 elements:\n",
      " [(1, 2, 3), {4, 5}, {1: 'lok', 2: 30}]\n",
      "nested slicing of -3 to -4 elements:\n",
      " [(2+3j), (1, 2, 3), {4, 5}, {1: 'lok', 2: 30}]\n",
      "nested slicing of -4 to - 5 elements:\n",
      " [3, 'lok']\n",
      "nested slicing of elements by step 1:\n",
      " [{1: 'lok', 2: 30}]\n",
      "nested slicing of elements by step 2:\n",
      " [30.5, (2+3j), (1, 2, 3), {4, 5}, {1: 'lok', 2: 30}]\n",
      "nested slicing of elements by step 3:\n",
      " [30.5, (1, 2, 3), {1: 'lok', 2: 30}]\n"
     ]
    }
   ],
   "source": [
    "#slicing over a nested loop\n",
    "num = 3\n",
    "nested_lst=[num,\"lok\",30.5,2+3j,(1,2,3),{4,5},{1:\"lok\",2:30}]# num list is assigned with a element as above\n",
    "print(\"the original list:\\n\",nested_lst)\n",
    "\n",
    "print(\"nested slicing of -1th elements:\\n\",nested_lst[-1])\n",
    "print(\"nested slicing of -1 to-2 elements:\\n\",nested_lst[-2:])\n",
    "print(\"nested slicing of -2 to -3 elements:\\n\",nested_lst[-3:])\n",
    "print(\"nested slicing of -3 to -4 elements:\\n\",nested_lst[-4:])\n",
    "print(\"nested slicing of -4 to - 5 elements:\\n\",nested_lst[:-5])\n",
    "print(\"nested slicing of elements by step 1:\\n\",nested_lst[-1::1]) \n",
    "print(\"nested slicing of elements by step 2:\\n\",nested_lst[-5::1])\n",
    "print(\"nested slicing of elements by step 3:\\n\",nested_lst[-5::2])\n",
    "\n"
   ]
  },
  {
   "cell_type": "code",
   "execution_count": 5,
   "metadata": {},
   "outputs": [
    {
     "name": "stdout",
     "output_type": "stream",
     "text": [
      "[1, 2, 3, 4, 5, 6, 7, 8, 9, 10]\n",
      "[6, 7, 8, 9, 10]\n",
      "[1, 2, 3, 4, 5, 6, 7, 8, 9, 10]\n",
      "[6, 7, 8, 123, 10]\n"
     ]
    }
   ],
   "source": [
    "#slicing  and copying \n",
    "a=[1,2,3,4,5,6,7,8,9,10]\n",
    "b=a[5:11]\n",
    "\n",
    "print(a)\n",
    "print(b)\n",
    "\n",
    "b[3]=123\n",
    "print(a)#it wont afect the original list \n",
    "print(b)"
   ]
  },
  {
   "cell_type": "code",
   "execution_count": 13,
   "metadata": {},
   "outputs": [
    {
     "name": "stdout",
     "output_type": "stream",
     "text": [
      "Original list\n",
      "[]\n",
      "The list is extended\n",
      "[7, 2, 6, 4, 5, 3, 9, 8, 1, 3]\n",
      "23 is appended at the end of the list\n",
      "[7, 2, 6, 4, 5, 3, 9, 8, 1, 3, 23]\n",
      "Inserting 10 at index 3 in the list\n",
      "[7, 2, 6, 10, 4, 5, 3, 9, 8, 1, 3, 23]\n",
      "Removing element 23 from the list\n",
      "[7, 2, 6, 10, 4, 5, 3, 9, 8, 1, 3]\n",
      "Total occurence of 3 in the list\n",
      "2\n",
      "Removing element from end of the list\n",
      "[7, 2, 6, 10, 4, 5, 3, 9, 8, 1]\n",
      "Sorting the list\n",
      "[1, 2, 3, 4, 5, 6, 7, 8, 9, 10]\n",
      "Reversing the list\n",
      "[10, 9, 8, 7, 6, 5, 4, 3, 2, 1]\n",
      "Index of 8 in the list\n",
      "2\n",
      "Clearing the list\n",
      "[]\n",
      "Copy of the list\n",
      "[]\n"
     ]
    }
   ],
   "source": [
    "#methods of list methods \n",
    "\n",
    "myList = []\n",
    "\n",
    "print(\"Original list\")\n",
    "print(myList)\n",
    "\n",
    "print(\"The list is extended\")\n",
    "myList.extend([7,2,6,4,5,3,9,8,1,3])#Extend the list by appending all the items in the given LIST.ipynb\n",
    "print(myList)\n",
    "\n",
    "print(\"23 is appended at the end of the list\")\n",
    "myList.append(23)#Add an item to the end of the list\n",
    "print(myList)\n",
    "\n",
    "print(\"Inserting 10 at index 3 in the list\")\n",
    "myList.insert(3,10)\n",
    "print(myList)\n",
    "\n",
    "print(\"Removing element 23 from the list\")\n",
    "myList.remove(23)#Remove the first item from the list whose value is x remove(x)\n",
    "print(myList)\n",
    "\n",
    "print(\"Total occurence of 3 in the list\")\n",
    "print(myList.count(3))#Return the number of times x appears in the list.\n",
    "\n",
    "print(\"Removing element from end of the list\")\n",
    "myList.pop(10)#Remove the item at the given position in the list, and return it pop(i)\n",
    "print(myList)\n",
    "\n",
    "print(\"Sorting the list\")\n",
    "myList.sort()#Sort the items of the list, in place.\n",
    "print(myList)\n",
    "\n",
    "print(\"Reversing the list\")\n",
    "myList.reverse()#Reverse the elements of the list, in place.\n",
    "print(myList)\n",
    "\n",
    "print(\"Index of 8 in the list\")\n",
    "print(myList.index(8))#Return the index in the list of the first item whose value is x\n",
    "\n",
    "print(\"Clearing the list\")\n",
    "myList.clear()\n",
    "print(myList)\n",
    "\n",
    "print(\"Copy of the list\")\n",
    "print(myList.copy())"
   ]
  },
  {
   "cell_type": "code",
   "execution_count": 11,
   "metadata": {
    "scrolled": true
   },
   "outputs": [
    {
     "name": "stdout",
     "output_type": "stream",
     "text": [
      "list 1  ['a', 'b', 'c', 'd']\n",
      "list 2  ['a', 'b', 'c', 'd']\n",
      "list 3  ['a', 'c', 'e', 'g']\n"
     ]
    }
   ],
   "source": [
    "#operations  in list \n",
    "lst1 =[\"a\",\"b\",\"c\",\"d\"]\n",
    "lst2=lst1\n",
    "lst3=[\"a\",\"c\",\"e\",\"g\"]\n",
    "\n",
    "print(\"list 1 \" ,lst1,end =\"\\n\")\n",
    "print(\"list 2 \" ,lst2,end =\"\\n\")\n",
    "print(\"list 3 \" ,lst3,end =\"\\n\")"
   ]
  },
  {
   "cell_type": "code",
   "execution_count": 8,
   "metadata": {},
   "outputs": [
    {
     "name": "stdout",
     "output_type": "stream",
     "text": [
      "lst1 is equal to lst2:\n",
      " True\n"
     ]
    }
   ],
   "source": [
    "#identiy operations\n",
    "\n",
    "lst1 is lst2\n",
    "print(\"lst1 is equal to lst2:\\n\",True)"
   ]
  },
  {
   "cell_type": "code",
   "execution_count": 19,
   "metadata": {},
   "outputs": [
    {
     "name": "stdout",
     "output_type": "stream",
     "text": [
      "conatenated using addition:\n",
      " [1, 2, 3, 4, 5, 6, 7, 8]\n",
      "conatenated using append:\n",
      " [1, 2, 3, 4, 5, 6, 7, 8]\n",
      "conatenated using extend:\n",
      " [1, 2, 3, 4, 5, 6, 7, 8]\n",
      "conatenated using *operation :\n",
      " [1, 2, 3, 4, 5, 6, 7, 8]\n",
      "Concatenated list into nested list using list comprehension:\n",
      " [['hi', 'lok'], ['how', 'are', 'you']]\n",
      "Concatenated list using list comprehension:\n",
      " ['hi', 'lok', 'how', 'are', 'you']\n",
      "hi\n",
      "lok\n",
      "how\n",
      "are\n",
      "you\n",
      "List concatenation using itertools:\n",
      " [1, 2, 3, 4, 5, 6, 7, 8, 9, 10, 11, 12]\n"
     ]
    }
   ],
   "source": [
    "#list concatenation \n",
    "\n",
    "#addition \n",
    "list1=[1,2,3,4]\n",
    "list2=[5,6,7,8]\n",
    "list2=list1+list2\n",
    "print(\"conatenated using addition:\\n\",list2)\n",
    "\n",
    "#append  \n",
    "list1=[1,2,3,4]\n",
    "list2=[5,6,7,8]\n",
    "for i in  list2:# with travese the elemenst of list2 and appending to list1\n",
    "    list1.append(i)# were append funtion one element at at time were traverse or itering of list is requried \n",
    "print(\"conatenated using append:\\n\",list1)\n",
    "\n",
    "#extened\n",
    "list1=[1,2,3,4]\n",
    "list2=[5,6,7,8]\n",
    "list1.extend(list2)#unlike append the extend() function accepts alll elements to end of the list were iltering of elements are not requried \n",
    "print(\"conatenated using extend:\\n\",list1)\n",
    "\n",
    "#* operation -newly added in python 3.6+ for concatenate ,its not a multiplication operation \n",
    "list1=[1,2,3,4]\n",
    "list2=[5,6,7,8]\n",
    "list3=[*list1,*list2] \n",
    "print(\"conatenated using *operation :\\n\",str(list3))\n",
    "\n",
    "# concatenation using list comprehension \n",
    "  \n",
    "list1 = [\"hi\",\"lok\"]\n",
    "list2 = [\"how\",\"are\",\"you\"]\n",
    "  \n",
    "# using list comprehension to concatenate,syntax list comprehesion [expression for item in list]\n",
    "nested_list = [x for x in [list1,list2] ] #were elements of both list is itered and result in nested list \n",
    "res_list= [y for x in [list1,list2] for y in x] # here y combines the itered elements (x)of both list into singel list \n",
    "print (\"Concatenated list into nested list using list comprehension:\\n\",str(nested_list))# Printing concatenated list\n",
    "print (\"Concatenated list using list comprehension:\\n\",str(res_list))\n",
    "for z in res_list:print(z)\n",
    "    \n",
    "#using itertools list concatention\n",
    "list1 = [1,2,3,4]\n",
    "list2 = [5,6,7,8]\n",
    "list3 = [9,10,11,12]\n",
    "from itertools import chain\n",
    "allList = [x for x in itertools.chain(list1, list2, list3)]\n",
    "print(\"List concatenation using itertools:\\n\",allList)\n"
   ]
  },
  {
   "cell_type": "code",
   "execution_count": 24,
   "metadata": {},
   "outputs": [
    {
     "name": "stdout",
     "output_type": "stream",
     "text": [
      "Concatenated list using list comprehension: [1, 4, 5, 6, 5, 3, 5, 7, 2, 5]\n",
      "Concatenated list using itertools.chain() :\n",
      " [1, 4, 5, 6, 5, 3, 5, 7, 2, 5]\n"
     ]
    }
   ],
   "source": [
    "\n",
    "res_list = [y for x in [test_list1, test_list2] for y in x]\n",
    "  \n",
    "# Printing concatenated list\n",
    "print (\"Concatenated list using list comprehension: \"\n",
    "                                     + str(res_list))\n",
    "import itertools\n",
    "from itertools import chain\n",
    "list1 = [1, 4, 5, 6, 5]\n",
    "list2 = [3, 5, 7, 2, 5]\n",
    "\n",
    "liter_tools=list(itertools.chain(list1,list2))\n",
    "print (\"Concatenated list using itertools.chain() :\\n\",str(res_list))"
   ]
  },
  {
   "cell_type": "code",
   "execution_count": 19,
   "metadata": {},
   "outputs": [
    {
     "name": "stdout",
     "output_type": "stream",
     "text": [
      "1\n",
      "4\n",
      "5\n",
      "6\n",
      "5\n",
      "3\n",
      "5\n",
      "7\n",
      "2\n",
      "5\n"
     ]
    }
   ],
   "source": [
    "test_list1 = [1, 4, 5, 6, 5]\n",
    "test_list2 = [3, 5, 7, 2, 5]\n",
    "  \n",
    "# using list comprehension to concat\n",
    "for x in [test_list1, test_list2] :\n",
    "    for y in x:\n",
    "        print(y)\n",
    "\n",
    "    "
   ]
  },
  {
   "cell_type": "code",
   "execution_count": 17,
   "metadata": {},
   "outputs": [
    {
     "name": "stdout",
     "output_type": "stream",
     "text": [
      "conatenated using addition:\n",
      " None\n"
     ]
    }
   ],
   "source": [
    "#append  \n",
    "list1=[1,2,3,4]\n",
    "list2=[5,6,7,8]\n",
    "list3=list1.append(list2)\n",
    "print(\"conatenated using addition:\\n\",list3)"
   ]
  },
  {
   "cell_type": "code",
   "execution_count": 16,
   "metadata": {},
   "outputs": [
    {
     "name": "stdout",
     "output_type": "stream",
     "text": [
      "1 : 5\n",
      "1 : 6\n",
      "1 : 7\n",
      "2 : 5\n",
      "2 : 6\n",
      "2 : 7\n",
      "3 : 5\n",
      "3 : 6\n",
      "3 : 7\n",
      "=====\n",
      "1 : 5\n",
      "1 : 6\n",
      "1 : 7\n",
      "2 : 5\n",
      "2 : 6\n",
      "2 : 7\n",
      "3 : 5\n",
      "3 : 6\n",
      "3 : 7\n"
     ]
    }
   ],
   "source": [
    "print(*[f\"{i} : {j}\" for i in range(1,4) for j in range(5, 8)], sep=\"\\n\")\n",
    "print(\"=====\")\n",
    "# equivalent of\n",
    "for i in range(1, 4):\n",
    "\tfor j in range(5, 8):\n",
    "\t\tprint(f\"{i} : {j}\")"
   ]
  },
  {
   "cell_type": "code",
   "execution_count": 15,
   "metadata": {},
   "outputs": [
    {
     "name": "stdout",
     "output_type": "stream",
     "text": [
      "[range(0, 11)]\n"
     ]
    }
   ],
   "source": [
    "l1=[(range(10+1))]\n",
    "print(l1)"
   ]
  },
  {
   "cell_type": "code",
   "execution_count": 14,
   "metadata": {},
   "outputs": [
    {
     "data": {
      "text/plain": [
       "[1, 2, 4, 8]"
      ]
     },
     "execution_count": 14,
     "metadata": {},
     "output_type": "execute_result"
    }
   ],
   "source": [
    "\n",
    "def factor(x):\n",
    "    flist=[]\n",
    "    for i in range (1,x+1):\n",
    "        if x%i==0:\n",
    "            flist.append(i)\n",
    "    return(flist)\n",
    "    print(flist)\n",
    "factor(8)    "
   ]
  },
  {
   "cell_type": "code",
   "execution_count": 13,
   "metadata": {},
   "outputs": [
    {
     "data": {
      "text/plain": [
       "4"
      ]
     },
     "execution_count": 13,
     "metadata": {},
     "output_type": "execute_result"
    }
   ],
   "source": [
    "def gcd (m,n):\n",
    "    if m<n:\n",
    "        (m,n)=(n,m)\n",
    "    while m%n!=0:\n",
    "        (m,n)=(n,m%n)\n",
    "    return(n)\n",
    "gcd(16,108)"
   ]
  },
  {
   "cell_type": "code",
   "execution_count": 12,
   "metadata": {},
   "outputs": [
    {
     "data": {
      "text/plain": [
       "1099511627776"
      ]
     },
     "execution_count": 12,
     "metadata": {},
     "output_type": "execute_result"
    }
   ],
   "source": [
    "def power(x,n):\n",
    "    ans=1\n",
    "    for i in range(1,n-9):\n",
    "        ans=ans*x\n",
    "    return (ans)\n",
    "power(2,50)"
   ]
  },
  {
   "cell_type": "code",
   "execution_count": null,
   "metadata": {},
   "outputs": [],
   "source": []
  }
 ],
 "metadata": {
  "kernelspec": {
   "display_name": "Python 3",
   "language": "python",
   "name": "python3"
  },
  "language_info": {
   "codemirror_mode": {
    "name": "ipython",
    "version": 3
   },
   "file_extension": ".py",
   "mimetype": "text/x-python",
   "name": "python",
   "nbconvert_exporter": "python",
   "pygments_lexer": "ipython3",
   "version": "3.8.5"
  }
 },
 "nbformat": 4,
 "nbformat_minor": 4
}
